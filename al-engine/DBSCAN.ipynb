{
 "metadata": {
  "name": "",
  "signature": "sha256:c0c14a56f446a45ae805a0040b687831b73c887e6cf8ab861d6172fa908fb201"
 },
 "nbformat": 3,
 "nbformat_minor": 0,
 "worksheets": [
  {
   "cells": [
    {
     "cell_type": "code",
     "collapsed": false,
     "input": [
      "%matplotlib inline\n",
      "\n",
      "import matplotlib.pyplot as plt\n",
      "import numpy as np\n",
      "import pandas as pd\n",
      "from IPython.display import display, HTML\n",
      "from math import sqrt\n",
      "\n",
      "def header(s):\n",
      "    display( HTML('<h1 align=\"center\">{}</h1>'.format(s)) )\n",
      "    \n",
      "def subheader(s):\n",
      "    display( HTML('<h3 align=\"center\">{}</h3>'.format(s)) )"
     ],
     "language": "python",
     "metadata": {},
     "outputs": [],
     "prompt_number": 70
    },
    {
     "cell_type": "code",
     "collapsed": false,
     "input": [
      "header( \"Load and view data\" )\n",
      "# Load user_capabilities\n",
      "columns = ['email','features']\n",
      "df = pd.read_csv('input/user_capability.csv', names=columns, converters={'features': lambda x: np.array(eval(x)) })\n",
      "display ( df.head() )"
     ],
     "language": "python",
     "metadata": {},
     "outputs": [
      {
       "html": [
        "<h1 align=\"center\">Load and view data</h1>"
       ],
       "metadata": {},
       "output_type": "display_data",
       "text": [
        "<IPython.core.display.HTML at 0x7f8a441164a8>"
       ]
      },
      {
       "html": [
        "<div style=\"max-width:1500px;overflow:auto;\">\n",
        "<table border=\"1\" class=\"dataframe\">\n",
        "  <thead>\n",
        "    <tr style=\"text-align: right;\">\n",
        "      <th></th>\n",
        "      <th>email</th>\n",
        "      <th>features</th>\n",
        "    </tr>\n",
        "  </thead>\n",
        "  <tbody>\n",
        "    <tr>\n",
        "      <th>0</th>\n",
        "      <td>geekalgo17041993@gmail.com</td>\n",
        "      <td>[-0.088489, 0.707081, -0.048903, -0.100703, -0...</td>\n",
        "    </tr>\n",
        "    <tr>\n",
        "      <th>1</th>\n",
        "      <td>utpalboalia@gmail.com</td>\n",
        "      <td>[-0.066859, -0.803318, -0.6729, -0.503272, -0....</td>\n",
        "    </tr>\n",
        "    <tr>\n",
        "      <th>2</th>\n",
        "      <td>akrammiru@gmail.com</td>\n",
        "      <td>[-0.070956, 0.522281, 0.381403, 0.307519, 0.57...</td>\n",
        "    </tr>\n",
        "    <tr>\n",
        "      <th>3</th>\n",
        "      <td>istiak.sazid@gmail.com</td>\n",
        "      <td>[-0.088489, -0.254082, 0.667051, 0.787987, -0....</td>\n",
        "    </tr>\n",
        "    <tr>\n",
        "      <th>4</th>\n",
        "      <td>shuvots@gmail.com</td>\n",
        "      <td>[0.004462, -0.803318, -0.6729, -0.503272, -0.2...</td>\n",
        "    </tr>\n",
        "  </tbody>\n",
        "</table>\n",
        "</div>"
       ],
       "metadata": {},
       "output_type": "display_data",
       "text": [
        "                        email  \\\n",
        "0  geekalgo17041993@gmail.com   \n",
        "1       utpalboalia@gmail.com   \n",
        "2         akrammiru@gmail.com   \n",
        "3      istiak.sazid@gmail.com   \n",
        "4           shuvots@gmail.com   \n",
        "\n",
        "                                            features  \n",
        "0  [-0.088489, 0.707081, -0.048903, -0.100703, -0...  \n",
        "1  [-0.066859, -0.803318, -0.6729, -0.503272, -0....  \n",
        "2  [-0.070956, 0.522281, 0.381403, 0.307519, 0.57...  \n",
        "3  [-0.088489, -0.254082, 0.667051, 0.787987, -0....  \n",
        "4  [0.004462, -0.803318, -0.6729, -0.503272, -0.2...  "
       ]
      }
     ],
     "prompt_number": 68
    },
    {
     "cell_type": "code",
     "collapsed": false,
     "input": [
      "def distance(arr, brr):\n",
      "    \"\"\"Calculate Distance between two multidimensional point.\n",
      "    Both points should have same dimension\n",
      "    Send in numpy array\n",
      "    \"\"\"\n",
      "#     if ( type(arr).__module__ != np.__name__ or type(brr).__module__ != np.__name__):\n",
      "#         raise TypeError(\"Parameters are not numpy arrray\" )\n",
      "#     if ( len(arr) != len(brr) ):\n",
      "#         raise ValueError(\"Dimension of parameters do not match\")\n",
      "    \n",
      "    return  ( np.sum ( ( arr-brr ) ** 2 ) )"
     ],
     "language": "python",
     "metadata": {},
     "outputs": [],
     "prompt_number": 46
    },
    {
     "cell_type": "code",
     "collapsed": false,
     "input": [
      "header( \"Calculate nearest point distance for each point\" )\n",
      "\n",
      "# For each user, calculate the distance to nearest point\n",
      "\n",
      "points = df['features']\n",
      "\n",
      "closesPoint = []\n",
      "for i, first in enumerate( points ) :\n",
      "    mind = -1\n",
      "    for j, second in enumerate ( points ):\n",
      "        if ( i == j ) :\n",
      "            continue\n",
      "        d = distance( first, second )\n",
      "        mind = d if mind == -1 else min(mind,d)\n",
      "    \n",
      "    closesPoint.append(mind)\n",
      "        \n",
      "df['closest'] = closesPoint\n",
      "df.head()"
     ],
     "language": "python",
     "metadata": {},
     "outputs": [
      {
       "html": [
        "<h1 align=\"center\">Calculate nearest point distance for each point</h1>"
       ],
       "metadata": {},
       "output_type": "display_data",
       "text": [
        "<IPython.core.display.HTML at 0x7f8a4417b2b0>"
       ]
      },
      {
       "html": [
        "<div style=\"max-width:1500px;overflow:auto;\">\n",
        "<table border=\"1\" class=\"dataframe\">\n",
        "  <thead>\n",
        "    <tr style=\"text-align: right;\">\n",
        "      <th></th>\n",
        "      <th>email</th>\n",
        "      <th>features</th>\n",
        "      <th>closest</th>\n",
        "    </tr>\n",
        "  </thead>\n",
        "  <tbody>\n",
        "    <tr>\n",
        "      <th>0</th>\n",
        "      <td>geekalgo17041993@gmail.com</td>\n",
        "      <td>[-0.088489, 0.707081, -0.048903, -0.100703, -0...</td>\n",
        "      <td>0.013445</td>\n",
        "    </tr>\n",
        "    <tr>\n",
        "      <th>1</th>\n",
        "      <td>utpalboalia@gmail.com</td>\n",
        "      <td>[-0.066859, -0.803318, -0.6729, -0.503272, -0....</td>\n",
        "      <td>0.000000</td>\n",
        "    </tr>\n",
        "    <tr>\n",
        "      <th>2</th>\n",
        "      <td>akrammiru@gmail.com</td>\n",
        "      <td>[-0.070956, 0.522281, 0.381403, 0.307519, 0.57...</td>\n",
        "      <td>0.853629</td>\n",
        "    </tr>\n",
        "    <tr>\n",
        "      <th>3</th>\n",
        "      <td>istiak.sazid@gmail.com</td>\n",
        "      <td>[-0.088489, -0.254082, 0.667051, 0.787987, -0....</td>\n",
        "      <td>0.000000</td>\n",
        "    </tr>\n",
        "    <tr>\n",
        "      <th>4</th>\n",
        "      <td>shuvots@gmail.com</td>\n",
        "      <td>[0.004462, -0.803318, -0.6729, -0.503272, -0.2...</td>\n",
        "      <td>0.000075</td>\n",
        "    </tr>\n",
        "  </tbody>\n",
        "</table>\n",
        "</div>"
       ],
       "metadata": {},
       "output_type": "pyout",
       "prompt_number": 69,
       "text": [
        "                        email  \\\n",
        "0  geekalgo17041993@gmail.com   \n",
        "1       utpalboalia@gmail.com   \n",
        "2         akrammiru@gmail.com   \n",
        "3      istiak.sazid@gmail.com   \n",
        "4           shuvots@gmail.com   \n",
        "\n",
        "                                            features   closest  \n",
        "0  [-0.088489, 0.707081, -0.048903, -0.100703, -0...  0.013445  \n",
        "1  [-0.066859, -0.803318, -0.6729, -0.503272, -0....  0.000000  \n",
        "2  [-0.070956, 0.522281, 0.381403, 0.307519, 0.57...  0.853629  \n",
        "3  [-0.088489, -0.254082, 0.667051, 0.787987, -0....  0.000000  \n",
        "4  [0.004462, -0.803318, -0.6729, -0.503272, -0.2...  0.000075  "
       ]
      }
     ],
     "prompt_number": 69
    },
    {
     "cell_type": "code",
     "collapsed": false,
     "input": [
      "closesPoint = df['closest']\n",
      "smallPoint = closesPoint[closesPoint <= 1 ]\n",
      "largePoint = closesPoint[closesPoint > 1 ]\n",
      "\n",
      "header ( \"Stats about closest distance of each point\" )\n",
      "display ( closesPoint.describe() )\n",
      "\n",
      "fig, ax = plt.subplots(figsize=(18,6))\n",
      "\n",
      "closesPoint.plot(title='Literal Graph Plot', ax=ax)\n",
      "\n",
      "fig, ax = plt.subplots(2,1,figsize=(18,12))\n",
      "\n",
      "ax[0].set_title( 'Histogram for Closest Distance <= 1' )\n",
      "smallPoint.hist( bins=100, ax=ax[0] )\n",
      "\n",
      "ax[1].set_title( 'Histogram for Closest Distance > 1' )\n",
      "largePoint.hist( bins=100, ax=ax[1] )"
     ],
     "language": "python",
     "metadata": {},
     "outputs": [
      {
       "html": [
        "<h1 align=\"center\">Stats about closest distance of each point</h1>"
       ],
       "metadata": {},
       "output_type": "display_data",
       "text": [
        "<IPython.core.display.HTML at 0x7f8a39216400>"
       ]
      },
      {
       "metadata": {},
       "output_type": "display_data",
       "text": [
        "count    601.000000\n",
        "mean       1.729408\n",
        "std       23.734296\n",
        "min        0.000000\n",
        "25%        0.000000\n",
        "50%        0.000075\n",
        "75%        0.030175\n",
        "max      499.616535\n",
        "Name: closest, dtype: float64"
       ]
      },
      {
       "metadata": {},
       "output_type": "pyout",
       "prompt_number": 132,
       "text": [
        "<matplotlib.axes._subplots.AxesSubplot at 0x7f8a39499128>"
       ]
      },
      {
       "metadata": {},
       "output_type": "display_data",
       "png": "[encoded data removed]",
       "text": [
        "<matplotlib.figure.Figure at 0x7f8a3bd36710>"
       ]
      },
      {
       "metadata": {},
       "output_type": "display_data",
       "png": "[encoded data removed]",
       "text": [
        "<matplotlib.figure.Figure at 0x7f8a39b8e668>"
       ]
      }
     ],
     "prompt_number": 132
    }
   ],
   "metadata": {}
  }
 ]
}