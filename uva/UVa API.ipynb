{
 "metadata": {
  "name": "",
  "signature": "sha256:0bb98f2539e0b5f7f99423cbe1a4343b250e015535795c5a13bf727dc4ff3320"
 },
 "nbformat": 3,
 "nbformat_minor": 0,
 "worksheets": [
  {
   "cells": [
    {
     "cell_type": "markdown",
     "metadata": {},
     "source": [
      "# Uva API to CSV\n",
      "\n",
      "UVa has an api end point at [Uhunt](http://uhunt.felix-halim.net/api). This python script will extract information from api end point and convert to CSV files for Data Analysis"
     ]
    },
    {
     "cell_type": "code",
     "collapsed": false,
     "input": [
      "import requests as rq\n",
      "import pandas as pd\n",
      "from IPython.display import HTML, display\n",
      "import os.path as path\n",
      "import time\n",
      "\n",
      "def header(s):\n",
      "    display( HTML('<h1 align=\"center\">{}</h1>'.format(s)) )\n",
      "    \n",
      "def subheader(s):\n",
      "    display( HTML('<h3 align=\"center\">{}</h3>'.format(s)) )\n",
      "    \n",
      "    "
     ],
     "language": "python",
     "metadata": {},
     "outputs": [],
     "prompt_number": 4
    },
    {
     "cell_type": "markdown",
     "metadata": {},
     "source": [
      "# UVa Problem List\n",
      "\n",
      "First, lets grab all the problems on UVa"
     ]
    },
    {
     "cell_type": "code",
     "collapsed": false,
     "input": [
      "if path.exists('problem.csv'):\n",
      "    # Already stored in disk\n",
      "    problemDF = pd.read_csv('problem.csv')\n",
      "else: \n",
      "    # Grab it from API\n",
      "    problemList = rq.get( 'http://uhunt.felix-halim.net/api/p' ).json()\n",
      "    columns = [ \n",
      "        'id', \n",
      "        'number', \n",
      "        'title',\n",
      "        'dacu',\n",
      "        'best_runtime',\n",
      "        'dummy',\n",
      "        'best_memory',\n",
      "        'no_verdict',\n",
      "        'submission_error', \n",
      "        'cannot_judge',\n",
      "        'in_queue',\n",
      "        'CE', # Compilation Error\n",
      "        'RF', # Restricted Function\n",
      "        'RTE',\n",
      "        'OLE',\n",
      "        'TLE',\n",
      "        'MLE',\n",
      "        'WA',\n",
      "        'PE',\n",
      "        'AC',\n",
      "        'runtime',\n",
      "        'status'\n",
      "    ]\n",
      "    problemDF = pd.DataFrame.from_records(problemList, columns=columns)\n",
      "    del problemDF['dummy']\n",
      "    problemDF.to_csv('problem.csv', index=False)\n",
      "    \n",
      "display ( problemDF.head() )\n",
      "\n",
      "totalProblem = len(problemDF)\n",
      "print ( \"Total number of problems = {}\".format(totalProblem))"
     ],
     "language": "python",
     "metadata": {},
     "outputs": [
      {
       "html": [
        "<div style=\"max-width:1500px;overflow:auto;\">\n",
        "<table border=\"1\" class=\"dataframe\">\n",
        "  <thead>\n",
        "    <tr style=\"text-align: right;\">\n",
        "      <th></th>\n",
        "      <th>id</th>\n",
        "      <th>number</th>\n",
        "      <th>title</th>\n",
        "      <th>dacu</th>\n",
        "      <th>best_runtime</th>\n",
        "      <th>best_memory</th>\n",
        "      <th>no_verdict</th>\n",
        "      <th>submission_error</th>\n",
        "      <th>cannot_judge</th>\n",
        "      <th>in_queue</th>\n",
        "      <th>...</th>\n",
        "      <th>RF</th>\n",
        "      <th>RTE</th>\n",
        "      <th>OLE</th>\n",
        "      <th>TLE</th>\n",
        "      <th>MLE</th>\n",
        "      <th>WA</th>\n",
        "      <th>PE</th>\n",
        "      <th>AC</th>\n",
        "      <th>runtime</th>\n",
        "      <th>status</th>\n",
        "    </tr>\n",
        "  </thead>\n",
        "  <tbody>\n",
        "    <tr>\n",
        "      <th>0</th>\n",
        "      <td>36</td>\n",
        "      <td>100</td>\n",
        "      <td>The 3n + 1 problem</td>\n",
        "      <td>79081</td>\n",
        "      <td>0</td>\n",
        "      <td>0</td>\n",
        "      <td>6949</td>\n",
        "      <td>0</td>\n",
        "      <td>0</td>\n",
        "      <td>112475</td>\n",
        "      <td>...</td>\n",
        "      <td>67231</td>\n",
        "      <td>321</td>\n",
        "      <td>58214</td>\n",
        "      <td>5209</td>\n",
        "      <td>272129</td>\n",
        "      <td>4988</td>\n",
        "      <td>193455</td>\n",
        "      <td>3000</td>\n",
        "      <td>1</td>\n",
        "      <td>0</td>\n",
        "    </tr>\n",
        "    <tr>\n",
        "      <th>1</th>\n",
        "      <td>37</td>\n",
        "      <td>101</td>\n",
        "      <td>The Blocks Problem</td>\n",
        "      <td>13246</td>\n",
        "      <td>0</td>\n",
        "      <td>0</td>\n",
        "      <td>933</td>\n",
        "      <td>0</td>\n",
        "      <td>0</td>\n",
        "      <td>13179</td>\n",
        "      <td>...</td>\n",
        "      <td>20724</td>\n",
        "      <td>18</td>\n",
        "      <td>9218</td>\n",
        "      <td>200</td>\n",
        "      <td>22623</td>\n",
        "      <td>6102</td>\n",
        "      <td>19991</td>\n",
        "      <td>3000</td>\n",
        "      <td>1</td>\n",
        "      <td>0</td>\n",
        "    </tr>\n",
        "    <tr>\n",
        "      <th>2</th>\n",
        "      <td>38</td>\n",
        "      <td>102</td>\n",
        "      <td>Ecological Bin Packing</td>\n",
        "      <td>23568</td>\n",
        "      <td>0</td>\n",
        "      <td>0</td>\n",
        "      <td>1972</td>\n",
        "      <td>0</td>\n",
        "      <td>0</td>\n",
        "      <td>12532</td>\n",
        "      <td>...</td>\n",
        "      <td>4813</td>\n",
        "      <td>28</td>\n",
        "      <td>3089</td>\n",
        "      <td>72</td>\n",
        "      <td>34729</td>\n",
        "      <td>669</td>\n",
        "      <td>36303</td>\n",
        "      <td>3000</td>\n",
        "      <td>1</td>\n",
        "      <td>0</td>\n",
        "    </tr>\n",
        "    <tr>\n",
        "      <th>3</th>\n",
        "      <td>39</td>\n",
        "      <td>103</td>\n",
        "      <td>Stacking Boxes</td>\n",
        "      <td>6209</td>\n",
        "      <td>0</td>\n",
        "      <td>0</td>\n",
        "      <td>0</td>\n",
        "      <td>0</td>\n",
        "      <td>0</td>\n",
        "      <td>11331</td>\n",
        "      <td>...</td>\n",
        "      <td>6188</td>\n",
        "      <td>2</td>\n",
        "      <td>2351</td>\n",
        "      <td>0</td>\n",
        "      <td>11007</td>\n",
        "      <td>0</td>\n",
        "      <td>10133</td>\n",
        "      <td>3000</td>\n",
        "      <td>2</td>\n",
        "      <td>0</td>\n",
        "    </tr>\n",
        "    <tr>\n",
        "      <th>4</th>\n",
        "      <td>40</td>\n",
        "      <td>104</td>\n",
        "      <td>Arbitrage</td>\n",
        "      <td>4022</td>\n",
        "      <td>0</td>\n",
        "      <td>0</td>\n",
        "      <td>310</td>\n",
        "      <td>0</td>\n",
        "      <td>0</td>\n",
        "      <td>2374</td>\n",
        "      <td>...</td>\n",
        "      <td>2314</td>\n",
        "      <td>16</td>\n",
        "      <td>3712</td>\n",
        "      <td>427</td>\n",
        "      <td>12689</td>\n",
        "      <td>593</td>\n",
        "      <td>6904</td>\n",
        "      <td>3000</td>\n",
        "      <td>2</td>\n",
        "      <td>0</td>\n",
        "    </tr>\n",
        "  </tbody>\n",
        "</table>\n",
        "<p>5 rows \u00d7 21 columns</p>\n",
        "</div>"
       ],
       "metadata": {},
       "output_type": "display_data",
       "text": [
        "   id  number                   title   dacu  best_runtime  best_memory  \\\n",
        "0  36     100      The 3n + 1 problem  79081             0            0   \n",
        "1  37     101      The Blocks Problem  13246             0            0   \n",
        "2  38     102  Ecological Bin Packing  23568             0            0   \n",
        "3  39     103          Stacking Boxes   6209             0            0   \n",
        "4  40     104               Arbitrage   4022             0            0   \n",
        "\n",
        "   no_verdict  submission_error  cannot_judge  in_queue   ...       RF  RTE  \\\n",
        "0        6949                 0             0    112475   ...    67231  321   \n",
        "1         933                 0             0     13179   ...    20724   18   \n",
        "2        1972                 0             0     12532   ...     4813   28   \n",
        "3           0                 0             0     11331   ...     6188    2   \n",
        "4         310                 0             0      2374   ...     2314   16   \n",
        "\n",
        "     OLE   TLE     MLE    WA      PE    AC  runtime  status  \n",
        "0  58214  5209  272129  4988  193455  3000        1       0  \n",
        "1   9218   200   22623  6102   19991  3000        1       0  \n",
        "2   3089    72   34729   669   36303  3000        1       0  \n",
        "3   2351     0   11007     0   10133  3000        2       0  \n",
        "4   3712   427   12689   593    6904  3000        2       0  \n",
        "\n",
        "[5 rows x 21 columns]"
       ]
      },
      {
       "output_type": "stream",
       "stream": "stdout",
       "text": [
        "Total number of problems = 4819\n"
       ]
      }
     ],
     "prompt_number": 5
    },
    {
     "cell_type": "markdown",
     "metadata": {},
     "source": [
      "# Grab All Submissions from 2016\n",
      "\n",
      "In order to grab all submissions in 2016, we will be using the following api: `/api/p/subs/{pids-csv}/{start-sbt}/{end-sbt}.` For this, we will be requiring problem-ids as csv and start-end time as unix time stamp"
     ]
    },
    {
     "cell_type": "code",
     "collapsed": false,
     "input": [
      "# Grab start and end time in unix time stamp\n",
      "# date -d \"Jan 1 2016\" +%s \n",
      "start2016 = 1451584800\n",
      "end2016 = 1483120800\n",
      "\n",
      "problemIdList = problemDF['id'].values[0:2000]\n",
      "\n",
      "subProblemIdList = problemIdList\n",
      "totalSubProblem = len(subProblemIdList) - 1\n",
      "\n",
      "for ind, problemId in enumerate ( subProblemIdList ) :\n",
      "    fileName = path.join(\"problem_sub\", \"{}.csv\".format(problemId) )\n",
      "    if path.exists(fileName) :\n",
      "        print ( \"{:5}/{:<5} Done Processing Problem Id: {}. Already exists.\".format(ind, totalSubProblem, problemId) )\n",
      "    else :\n",
      "        subAPI = \"http://uhunt.felix-halim.net/api/p/subs/{}/{}/{}\".format(problemId, start2016, end2016)\n",
      "        sub = rq.get(subAPI).json()\n",
      "        subDF = pd.DataFrame.from_records(sub)\n",
      "        subDF.to_csv(fileName, index=False )\n",
      "        print ( \"{:5}/{:<5} Done Processing Problem Id: {}\".format(ind, totalSubProblem, problemId) )"
     ],
     "language": "python",
     "metadata": {},
     "outputs": [
      {
       "output_type": "stream",
       "stream": "stdout",
       "text": [
        "    0/4818  Done Processing Problem Id: 36. Already exists.\n",
        "    1/4818  Done Processing Problem Id: 37. Already exists.\n",
        "    2/4818  Done Processing Problem Id: 38. Already exists.\n",
        "    3/4818  Done Processing Problem Id: 39. Already exists.\n",
        "    4/4818  Done Processing Problem Id: 40. Already exists.\n",
        "    5/4818  Done Processing Problem Id: 41. Already exists.\n",
        "    6/4818  Done Processing Problem Id: 42. Already exists.\n",
        "    7/4818  Done Processing Problem Id: 43. Already exists.\n",
        "    8/4818  Done Processing Problem Id: 44. Already exists.\n",
        "    9/4818  Done Processing Problem Id: 45. Already exists.\n",
        "   10/4818  Done Processing Problem Id: 46. Already exists.\n",
        "   11/4818  Done Processing Problem Id: 47. Already exists.\n",
        "   12/4818  Done Processing Problem Id: 48. Already exists.\n",
        "   13/4818  Done Processing Problem Id: 49. Already exists.\n",
        "   14/4818  Done Processing Problem Id: 50. Already exists.\n",
        "   15/4818  Done Processing Problem Id: 51. Already exists.\n",
        "   16/4818  Done Processing Problem Id: 52. Already exists.\n",
        "   17/4818  Done Processing Problem Id: 53. Already exists.\n",
        "   18/4818  Done Processing Problem Id: 54. Already exists.\n",
        "   19/4818  Done Processing Problem Id: 55. Already exists.\n",
        "   20/4818  Done Processing Problem Id: 56. Already exists.\n",
        "   21/4818  Done Processing Problem Id: 57. Already exists.\n",
        "   22/4818  Done Processing Problem Id: 58. Already exists.\n",
        "   23/4818  Done Processing Problem Id: 59. Already exists.\n",
        "   24/4818  Done Processing Problem Id: 60. Already exists.\n",
        "   25/4818  Done Processing Problem Id: 61. Already exists.\n",
        "   26/4818  Done Processing Problem Id: 62. Already exists.\n",
        "   27/4818  Done Processing Problem Id: 63. Already exists.\n",
        "   28/4818  Done Processing Problem Id: 64. Already exists.\n",
        "   29/4818  Done Processing Problem Id: 65. Already exists.\n",
        "   30/4818  Done Processing Problem Id: 66. Already exists.\n",
        "   31/4818  Done Processing Problem Id: 67. Already exists.\n",
        "   32/4818  Done Processing Problem Id: 68. Already exists.\n",
        "   33/4818  Done Processing Problem Id: 69. Already exists.\n",
        "   34/4818  Done Processing Problem Id: 70. Already exists.\n",
        "   35/4818  Done Processing Problem Id: 71. Already exists.\n",
        "   36/4818  Done Processing Problem Id: 72. Already exists.\n",
        "   37/4818  Done Processing Problem Id: 73. Already exists.\n",
        "   38/4818  Done Processing Problem Id: 74. Already exists.\n",
        "   39/4818  Done Processing Problem Id: 75. Already exists.\n",
        "   40/4818  Done Processing Problem Id: 76. Already exists.\n",
        "   41/4818  Done Processing Problem Id: 77. Already exists.\n",
        "   42/4818  Done Processing Problem Id: 78. Already exists.\n",
        "   43/4818  Done Processing Problem Id: 79. Already exists.\n",
        "   44/4818  Done Processing Problem Id: 80. Already exists.\n",
        "   45/4818  Done Processing Problem Id: 81. Already exists.\n",
        "   46/4818  Done Processing Problem Id: 82. Already exists.\n",
        "   47/4818  Done Processing Problem Id: 83. Already exists.\n",
        "   48/4818  Done Processing Problem Id: 84. Already exists.\n",
        "   49/4818  Done Processing Problem Id: 85. Already exists.\n",
        "   50/4818  Done Processing Problem Id: 86. Already exists.\n",
        "   51/4818  Done Processing Problem Id: 87. Already exists.\n",
        "   52/4818  Done Processing Problem Id: 88. Already exists.\n",
        "   53/4818  Done Processing Problem Id: 89. Already exists.\n",
        "   54/4818  Done Processing Problem Id: 90. Already exists.\n",
        "   55/4818  Done Processing Problem Id: 91. Already exists.\n",
        "   56/4818  Done Processing Problem Id: 92. Already exists.\n",
        "   57/4818  Done Processing Problem Id: 93. Already exists.\n",
        "   58/4818  Done Processing Problem Id: 94. Already exists.\n",
        "   59/4818  Done Processing Problem Id: 95. Already exists.\n",
        "   60/4818  Done Processing Problem Id: 96. Already exists.\n",
        "   61/4818  Done Processing Problem Id: 97. Already exists.\n",
        "   62/4818  Done Processing Problem Id: 98. Already exists.\n",
        "   63/4818  Done Processing Problem Id: 99. Already exists.\n",
        "   64/4818  Done Processing Problem Id: 100. Already exists.\n",
        "   65/4818  Done Processing Problem Id: 101. Already exists.\n",
        "   66/4818  Done Processing Problem Id: 102. Already exists.\n",
        "   67/4818  Done Processing Problem Id: 103. Already exists.\n",
        "   68/4818  Done Processing Problem Id: 104. Already exists.\n",
        "   69/4818  Done Processing Problem Id: 105. Already exists.\n",
        "   70/4818  Done Processing Problem Id: 106. Already exists.\n",
        "   71/4818  Done Processing Problem Id: 107. Already exists.\n",
        "   72/4818  Done Processing Problem Id: 108. Already exists.\n",
        "   73/4818  Done Processing Problem Id: 109. Already exists.\n",
        "   74/4818  Done Processing Problem Id: 110. Already exists.\n",
        "   75/4818  Done Processing Problem Id: 111. Already exists.\n",
        "   76/4818  Done Processing Problem Id: 112. Already exists.\n",
        "   77/4818  Done Processing Problem Id: 113. Already exists.\n",
        "   78/4818  Done Processing Problem Id: 114. Already exists.\n",
        "   79/4818  Done Processing Problem Id: 115. Already exists.\n",
        "   80/4818  Done Processing Problem Id: 116. Already exists.\n",
        "   81/4818  Done Processing Problem Id: 117. Already exists.\n",
        "   82/4818  Done Processing Problem Id: 118. Already exists.\n",
        "   83/4818  Done Processing Problem Id: 119. Already exists.\n",
        "   84/4818  Done Processing Problem Id: 120. Already exists.\n",
        "   85/4818  Done Processing Problem Id: 121. Already exists.\n",
        "   86/4818  Done Processing Problem Id: 122. Already exists.\n",
        "   87/4818  Done Processing Problem Id: 123. Already exists.\n",
        "   88/4818  Done Processing Problem Id: 124. Already exists.\n",
        "   89/4818  Done Processing Problem Id: 125. Already exists.\n",
        "   90/4818  Done Processing Problem Id: 126. Already exists.\n",
        "   91/4818  Done Processing Problem Id: 127. Already exists.\n",
        "   92/4818  Done Processing Problem Id: 128. Already exists.\n",
        "   93/4818  Done Processing Problem Id: 129. Already exists.\n",
        "   94/4818  Done Processing Problem Id: 130. Already exists.\n",
        "   95/4818  Done Processing Problem Id: 131. Already exists.\n",
        "   96/4818  Done Processing Problem Id: 132. Already exists.\n",
        "   97/4818  Done Processing Problem Id: 133. Already exists.\n",
        "   98/4818  Done Processing Problem Id: 134. Already exists.\n",
        "   99/4818  Done Processing Problem Id: 135. Already exists.\n",
        "  100/4818  Done Processing Problem Id: 136. Already exists.\n",
        "  101/4818  Done Processing Problem Id: 137. Already exists.\n",
        "  102/4818  Done Processing Problem Id: 138. Already exists.\n",
        "  103/4818  Done Processing Problem Id: 139. Already exists.\n",
        "  104/4818  Done Processing Problem Id: 140. Already exists.\n",
        "  105/4818  Done Processing Problem Id: 141. Already exists.\n",
        "  106/4818  Done Processing Problem Id: 142. Already exists.\n",
        "  107/4818  Done Processing Problem Id: 143. Already exists.\n",
        "  108/4818  Done Processing Problem Id: 144. Already exists.\n",
        "  109/4818  Done Processing Problem Id: 145. Already exists.\n",
        "  110/4818  Done Processing Problem Id: 146. Already exists.\n",
        "  111/4818  Done Processing Problem Id: 147. Already exists.\n",
        "  112/4818  Done Processing Problem Id: 148. Already exists.\n",
        "  113/4818  Done Processing Problem Id: 149. Already exists.\n",
        "  114/4818  Done Processing Problem Id: 150. Already exists.\n",
        "  115/4818  Done Processing Problem Id: 151. Already exists.\n",
        "  116/4818  Done Processing Problem Id: 152. Already exists.\n",
        "  117/4818  Done Processing Problem Id: 153. Already exists.\n",
        "  118/4818  Done Processing Problem Id: 154. Already exists.\n",
        "  119/4818  Done Processing Problem Id: 155. Already exists.\n",
        "  120/4818  Done Processing Problem Id: 156. Already exists.\n",
        "  121/4818  Done Processing Problem Id: 157. Already exists.\n",
        "  122/4818  Done Processing Problem Id: 158. Already exists.\n",
        "  123/4818  Done Processing Problem Id: 159. Already exists.\n",
        "  124/4818  Done Processing Problem Id: 160. Already exists.\n",
        "  125/4818  Done Processing Problem Id: 161. Already exists.\n",
        "  126/4818  Done Processing Problem Id: 162. Already exists.\n",
        "  127/4818  Done Processing Problem Id: 163. Already exists.\n",
        "  128/4818  Done Processing Problem Id: 164. Already exists.\n",
        "  129/4818  Done Processing Problem Id: 165. Already exists.\n",
        "  130/4818  Done Processing Problem Id: 166. Already exists.\n",
        "  131/4818  Done Processing Problem Id: 167. Already exists.\n",
        "  132/4818  Done Processing Problem Id: 168. Already exists.\n",
        "  133/4818  Done Processing Problem Id: 169. Already exists.\n",
        "  134/4818  Done Processing Problem Id: 170. Already exists.\n",
        "  135/4818  Done Processing Problem Id: 171. Already exists.\n",
        "  136/4818  Done Processing Problem Id: 172. Already exists.\n",
        "  137/4818  Done Processing Problem Id: 173. Already exists.\n",
        "  138/4818  Done Processing Problem Id: 174. Already exists.\n",
        "  139/4818  Done Processing Problem Id: 175. Already exists.\n",
        "  140/4818  Done Processing Problem Id: 176. Already exists.\n",
        "  141/4818  Done Processing Problem Id: 177. Already exists.\n",
        "  142/4818  Done Processing Problem Id: 178. Already exists.\n",
        "  143/4818  Done Processing Problem Id: 179. Already exists.\n",
        "  144/4818  Done Processing Problem Id: 180. Already exists.\n",
        "  145/4818  Done Processing Problem Id: 181. Already exists.\n",
        "  146/4818  Done Processing Problem Id: 182. Already exists.\n",
        "  147/4818  Done Processing Problem Id: 183. Already exists.\n",
        "  148/4818  Done Processing Problem Id: 184. Already exists.\n",
        "  149/4818  Done Processing Problem Id: 185. Already exists.\n",
        "  150/4818  Done Processing Problem Id: 186. Already exists.\n",
        "  151/4818  Done Processing Problem Id: 187. Already exists.\n",
        "  152/4818  Done Processing Problem Id: 188. Already exists.\n",
        "  153/4818  Done Processing Problem Id: 189. Already exists.\n",
        "  154/4818  Done Processing Problem Id: 190. Already exists.\n",
        "  155/4818  Done Processing Problem Id: 191. Already exists.\n",
        "  156/4818  Done Processing Problem Id: 192. Already exists.\n",
        "  157/4818  Done Processing Problem Id: 193. Already exists.\n",
        "  158/4818  Done Processing Problem Id: 194. Already exists.\n",
        "  159/4818  Done Processing Problem Id: 195. Already exists.\n",
        "  160/4818  Done Processing Problem Id: 196. Already exists.\n",
        "  161/4818  Done Processing Problem Id: 197. Already exists.\n",
        "  162/4818  Done Processing Problem Id: 198. Already exists.\n",
        "  163/4818  Done Processing Problem Id: 199. Already exists.\n",
        "  164/4818  Done Processing Problem Id: 200. Already exists.\n",
        "  165/4818  Done Processing Problem Id: 201. Already exists.\n",
        "  166/4818  Done Processing Problem Id: 202. Already exists.\n",
        "  167/4818  Done Processing Problem Id: 203. Already exists.\n",
        "  168/4818  Done Processing Problem Id: 204. Already exists.\n",
        "  169/4818  Done Processing Problem Id: 205. Already exists.\n",
        "  170/4818  Done Processing Problem Id: 206. Already exists.\n",
        "  171/4818  Done Processing Problem Id: 207. Already exists.\n",
        "  172/4818  Done Processing Problem Id: 208. Already exists.\n",
        "  173/4818  Done Processing Problem Id: 209. Already exists.\n",
        "  174/4818  Done Processing Problem Id: 210. Already exists.\n",
        "  175/4818  Done Processing Problem Id: 211. Already exists.\n",
        "  176/4818  Done Processing Problem Id: 212. Already exists.\n",
        "  177/4818  Done Processing Problem Id: 213. Already exists.\n",
        "  178/4818  Done Processing Problem Id: 214. Already exists.\n",
        "  179/4818  Done Processing Problem Id: 215. Already exists.\n",
        "  180/4818  Done Processing Problem Id: 216. Already exists.\n",
        "  181/4818  Done Processing Problem Id: 217. Already exists.\n",
        "  182/4818  Done Processing Problem Id: 218. Already exists.\n",
        "  183/4818  Done Processing Problem Id: 219. Already exists.\n",
        "  184/4818  Done Processing Problem Id: 220. Already exists.\n",
        "  185/4818  Done Processing Problem Id: 221. Already exists.\n",
        "  186/4818  Done Processing Problem Id: 222. Already exists.\n",
        "  187/4818  Done Processing Problem Id: 223. Already exists.\n",
        "  188/4818  Done Processing Problem Id: 224. Already exists.\n",
        "  189/4818  Done Processing Problem Id: 225. Already exists.\n",
        "  190/4818  Done Processing Problem Id: 226. Already exists.\n",
        "  191/4818  Done Processing Problem Id: 227. Already exists.\n",
        "  192/4818  Done Processing Problem Id: 228. Already exists.\n",
        "  193/4818  Done Processing Problem Id: 229. Already exists.\n",
        "  194/4818  Done Processing Problem Id: 230. Already exists.\n",
        "  195/4818  Done Processing Problem Id: 231. Already exists.\n",
        "  196/4818  Done Processing Problem Id: 232. Already exists.\n",
        "  197/4818  Done Processing Problem Id: 233. Already exists.\n",
        "  198/4818  Done Processing Problem Id: 234. Already exists.\n",
        "  199/4818  Done Processing Problem Id: 235. Already exists.\n",
        "  200/4818  Done Processing Problem Id: 236. Already exists.\n",
        "  201/4818  Done Processing Problem Id: 237. Already exists.\n",
        "  202/4818  Done Processing Problem Id: 238. Already exists.\n",
        "  203/4818  Done Processing Problem Id: 239. Already exists.\n",
        "  204/4818  Done Processing Problem Id: 240. Already exists.\n",
        "  205/4818  Done Processing Problem Id: 241. Already exists.\n",
        "  206/4818  Done Processing Problem Id: 242. Already exists.\n",
        "  207/4818  Done Processing Problem Id: 243. Already exists.\n",
        "  208/4818  Done Processing Problem Id: 244. Already exists.\n",
        "  209/4818  Done Processing Problem Id: 245. Already exists.\n",
        "  210/4818  Done Processing Problem Id: 246. Already exists.\n",
        "  211/4818  Done Processing Problem Id: 247. Already exists.\n",
        "  212/4818  Done Processing Problem Id: 248. Already exists.\n",
        "  213/4818  Done Processing Problem Id: 249. Already exists.\n",
        "  214/4818  Done Processing Problem Id: 250. Already exists.\n",
        "  215/4818  Done Processing Problem Id: 251. Already exists.\n",
        "  216/4818  Done Processing Problem Id: 252. Already exists.\n",
        "  217/4818  Done Processing Problem Id: 253. Already exists.\n",
        "  218/4818  Done Processing Problem Id: 254. Already exists.\n",
        "  219/4818  Done Processing Problem Id: 255. Already exists.\n",
        "  220/4818  Done Processing Problem Id: 256. Already exists.\n",
        "  221/4818  Done Processing Problem Id: 257. Already exists.\n",
        "  222/4818  Done Processing Problem Id: 258. Already exists.\n",
        "  223/4818  Done Processing Problem Id: 259. Already exists.\n",
        "  224/4818  Done Processing Problem Id: 260. Already exists.\n",
        "  225/4818  Done Processing Problem Id: 261. Already exists.\n",
        "  226/4818  Done Processing Problem Id: 262. Already exists.\n",
        "  227/4818  Done Processing Problem Id: 263. Already exists.\n",
        "  228/4818  Done Processing Problem Id: 264. Already exists.\n",
        "  229/4818  Done Processing Problem Id: 265. Already exists.\n",
        "  230/4818  Done Processing Problem Id: 266. Already exists.\n",
        "  231/4818  Done Processing Problem Id: 267. Already exists.\n",
        "  232/4818  Done Processing Problem Id: 268. Already exists.\n",
        "  233/4818  Done Processing Problem Id: 269. Already exists.\n",
        "  234/4818  Done Processing Problem Id: 270. Already exists.\n",
        "  235/4818  Done Processing Problem Id: 271. Already exists.\n",
        "  236/4818  Done Processing Problem Id: 272. Already exists.\n",
        "  237/4818  Done Processing Problem Id: 273. Already exists.\n",
        "  238/4818  Done Processing Problem Id: 274. Already exists.\n",
        "  239/4818  Done Processing Problem Id: 275. Already exists.\n",
        "  240/4818  Done Processing Problem Id: 276. Already exists.\n",
        "  241/4818  Done Processing Problem Id: 277. Already exists.\n",
        "  242/4818  Done Processing Problem Id: 278. Already exists.\n",
        "  243/4818  Done Processing Problem Id: 279. Already exists.\n",
        "  244/4818  Done Processing Problem Id: 280. Already exists.\n",
        "  245/4818  Done Processing Problem Id: 281. Already exists.\n",
        "  246/4818  Done Processing Problem Id: 282. Already exists.\n",
        "  247/4818  Done Processing Problem Id: 283. Already exists.\n",
        "  248/4818  Done Processing Problem Id: 284. Already exists.\n",
        "  249/4818  Done Processing Problem Id: 285. Already exists.\n",
        "  250/4818  Done Processing Problem Id: 286. Already exists.\n",
        "  251/4818  Done Processing Problem Id: 287. Already exists.\n",
        "  252/4818  Done Processing Problem Id: 288. Already exists.\n",
        "  253/4818  Done Processing Problem Id: 289. Already exists.\n",
        "  254/4818  Done Processing Problem Id: 290. Already exists.\n",
        "  255/4818  Done Processing Problem Id: 291. Already exists.\n",
        "  256/4818  Done Processing Problem Id: 292. Already exists.\n",
        "  257/4818  Done Processing Problem Id: 293. Already exists.\n",
        "  258/4818  Done Processing Problem Id: 294. Already exists.\n",
        "  259/4818  Done Processing Problem Id: 295. Already exists.\n",
        "  260/4818  Done Processing Problem Id: 296. Already exists.\n",
        "  261/4818  Done Processing Problem Id: 297. Already exists.\n",
        "  262/4818  Done Processing Problem Id: 298. Already exists.\n",
        "  263/4818  Done Processing Problem Id: 299. Already exists.\n",
        "  264/4818  Done Processing Problem Id: 300. Already exists.\n",
        "  265/4818  Done Processing Problem Id: 301. Already exists.\n",
        "  266/4818  Done Processing Problem Id: 302. Already exists.\n",
        "  267/4818  Done Processing Problem Id: 303. Already exists.\n",
        "  268/4818  Done Processing Problem Id: 304. Already exists.\n",
        "  269/4818  Done Processing Problem Id: 305. Already exists.\n",
        "  270/4818  Done Processing Problem Id: 306. Already exists.\n",
        "  271/4818  Done Processing Problem Id: 307. Already exists.\n",
        "  272/4818  Done Processing Problem Id: 308. Already exists.\n",
        "  273/4818  Done Processing Problem Id: 309. Already exists.\n",
        "  274/4818  Done Processing Problem Id: 310. Already exists.\n",
        "  275/4818  Done Processing Problem Id: 311. Already exists.\n",
        "  276/4818  Done Processing Problem Id: 312. Already exists.\n",
        "  277/4818  Done Processing Problem Id: 313. Already exists.\n",
        "  278/4818  Done Processing Problem Id: 314. Already exists.\n",
        "  279/4818  Done Processing Problem Id: 315. Already exists.\n",
        "  280/4818  Done Processing Problem Id: 316. Already exists.\n",
        "  281/4818  Done Processing Problem Id: 317. Already exists.\n",
        "  282/4818  Done Processing Problem Id: 318. Already exists.\n",
        "  283/4818  Done Processing Problem Id: 319. Already exists.\n",
        "  284/4818  Done Processing Problem Id: 320. Already exists.\n",
        "  285/4818  Done Processing Problem Id: 321. Already exists.\n",
        "  286/4818  Done Processing Problem Id: 322. Already exists.\n",
        "  287/4818  Done Processing Problem Id: 323. Already exists.\n",
        "  288/4818  Done Processing Problem Id: 324. Already exists.\n",
        "  289/4818  Done Processing Problem Id: 325. Already exists.\n",
        "  290/4818  Done Processing Problem Id: 326. Already exists.\n",
        "  291/4818  Done Processing Problem Id: 327. Already exists.\n",
        "  292/4818  Done Processing Problem Id: 328. Already exists.\n",
        "  293/4818  Done Processing Problem Id: 329. Already exists.\n",
        "  294/4818  Done Processing Problem Id: 330. Already exists.\n",
        "  295/4818  Done Processing Problem Id: 331. Already exists.\n",
        "  296/4818  Done Processing Problem Id: 332. Already exists.\n",
        "  297/4818  Done Processing Problem Id: 333. Already exists.\n",
        "  298/4818  Done Processing Problem Id: 334. Already exists.\n",
        "  299/4818  Done Processing Problem Id: 335. Already exists.\n",
        "  300/4818  Done Processing Problem Id: 341"
       ]
      },
      {
       "output_type": "stream",
       "stream": "stdout",
       "text": [
        "\n",
        "  301/4818  Done Processing Problem Id: 342"
       ]
      },
      {
       "output_type": "stream",
       "stream": "stdout",
       "text": [
        "\n",
        "  302/4818  Done Processing Problem Id: 343"
       ]
      },
      {
       "output_type": "stream",
       "stream": "stdout",
       "text": [
        "\n",
        "  303/4818  Done Processing Problem Id: 344"
       ]
      },
      {
       "output_type": "stream",
       "stream": "stdout",
       "text": [
        "\n",
        "  304/4818  Done Processing Problem Id: 345"
       ]
      },
      {
       "output_type": "stream",
       "stream": "stdout",
       "text": [
        "\n",
        "  305/4818  Done Processing Problem Id: 346"
       ]
      },
      {
       "output_type": "stream",
       "stream": "stdout",
       "text": [
        "\n",
        "  306/4818  Done Processing Problem Id: 347"
       ]
      },
      {
       "output_type": "stream",
       "stream": "stdout",
       "text": [
        "\n",
        "  307/4818  Done Processing Problem Id: 348"
       ]
      },
      {
       "output_type": "stream",
       "stream": "stdout",
       "text": [
        "\n",
        "  308/4818  Done Processing Problem Id: 349"
       ]
      },
      {
       "output_type": "stream",
       "stream": "stdout",
       "text": [
        "\n",
        "  309/4818  Done Processing Problem Id: 350"
       ]
      },
      {
       "output_type": "stream",
       "stream": "stdout",
       "text": [
        "\n",
        "  310/4818  Done Processing Problem Id: 351"
       ]
      },
      {
       "output_type": "stream",
       "stream": "stdout",
       "text": [
        "\n",
        "  311/4818  Done Processing Problem Id: 352"
       ]
      },
      {
       "output_type": "stream",
       "stream": "stdout",
       "text": [
        "\n",
        "  312/4818  Done Processing Problem Id: 353"
       ]
      },
      {
       "output_type": "stream",
       "stream": "stdout",
       "text": [
        "\n",
        "  313/4818  Done Processing Problem Id: 354"
       ]
      },
      {
       "output_type": "stream",
       "stream": "stdout",
       "text": [
        "\n",
        "  314/4818  Done Processing Problem Id: 355"
       ]
      },
      {
       "output_type": "stream",
       "stream": "stdout",
       "text": [
        "\n",
        "  315/4818  Done Processing Problem Id: 356"
       ]
      },
      {
       "output_type": "stream",
       "stream": "stdout",
       "text": [
        "\n",
        "  316/4818  Done Processing Problem Id: 357"
       ]
      },
      {
       "output_type": "stream",
       "stream": "stdout",
       "text": [
        "\n",
        "  317/4818  Done Processing Problem Id: 358"
       ]
      },
      {
       "output_type": "stream",
       "stream": "stdout",
       "text": [
        "\n",
        "  318/4818  Done Processing Problem Id: 359"
       ]
      },
      {
       "output_type": "stream",
       "stream": "stdout",
       "text": [
        "\n",
        "  319/4818  Done Processing Problem Id: 360"
       ]
      },
      {
       "output_type": "stream",
       "stream": "stdout",
       "text": [
        "\n",
        "  320/4818  Done Processing Problem Id: 361"
       ]
      },
      {
       "output_type": "stream",
       "stream": "stdout",
       "text": [
        "\n",
        "  321/4818  Done Processing Problem Id: 362"
       ]
      },
      {
       "output_type": "stream",
       "stream": "stdout",
       "text": [
        "\n",
        "  322/4818  Done Processing Problem Id: 363"
       ]
      },
      {
       "output_type": "stream",
       "stream": "stdout",
       "text": [
        "\n",
        "  323/4818  Done Processing Problem Id: 364"
       ]
      },
      {
       "output_type": "stream",
       "stream": "stdout",
       "text": [
        "\n",
        "  324/4818  Done Processing Problem Id: 365"
       ]
      },
      {
       "output_type": "stream",
       "stream": "stdout",
       "text": [
        "\n",
        "  325/4818  Done Processing Problem Id: 366"
       ]
      },
      {
       "output_type": "stream",
       "stream": "stdout",
       "text": [
        "\n",
        "  326/4818  Done Processing Problem Id: 367"
       ]
      },
      {
       "output_type": "stream",
       "stream": "stdout",
       "text": [
        "\n",
        "  327/4818  Done Processing Problem Id: 368"
       ]
      },
      {
       "output_type": "stream",
       "stream": "stdout",
       "text": [
        "\n",
        "  328/4818  Done Processing Problem Id: 369"
       ]
      },
      {
       "output_type": "stream",
       "stream": "stdout",
       "text": [
        "\n",
        "  329/4818  Done Processing Problem Id: 370"
       ]
      },
      {
       "output_type": "stream",
       "stream": "stdout",
       "text": [
        "\n",
        "  330/4818  Done Processing Problem Id: 371"
       ]
      },
      {
       "output_type": "stream",
       "stream": "stdout",
       "text": [
        "\n",
        "  331/4818  Done Processing Problem Id: 372"
       ]
      },
      {
       "output_type": "stream",
       "stream": "stdout",
       "text": [
        "\n",
        "  332/4818  Done Processing Problem Id: 373"
       ]
      },
      {
       "output_type": "stream",
       "stream": "stdout",
       "text": [
        "\n",
        "  333/4818  Done Processing Problem Id: 374"
       ]
      },
      {
       "output_type": "stream",
       "stream": "stdout",
       "text": [
        "\n",
        "  334/4818  Done Processing Problem Id: 375"
       ]
      },
      {
       "output_type": "stream",
       "stream": "stdout",
       "text": [
        "\n",
        "  335/4818  Done Processing Problem Id: 376"
       ]
      },
      {
       "output_type": "stream",
       "stream": "stdout",
       "text": [
        "\n",
        "  336/4818  Done Processing Problem Id: 377"
       ]
      },
      {
       "output_type": "stream",
       "stream": "stdout",
       "text": [
        "\n",
        "  337/4818  Done Processing Problem Id: 378"
       ]
      },
      {
       "output_type": "stream",
       "stream": "stdout",
       "text": [
        "\n",
        "  338/4818  Done Processing Problem Id: 379"
       ]
      },
      {
       "output_type": "stream",
       "stream": "stdout",
       "text": [
        "\n",
        "  339/4818  Done Processing Problem Id: 380"
       ]
      },
      {
       "output_type": "stream",
       "stream": "stdout",
       "text": [
        "\n",
        "  340/4818  Done Processing Problem Id: 381"
       ]
      },
      {
       "output_type": "stream",
       "stream": "stdout",
       "text": [
        "\n",
        "  341/4818  Done Processing Problem Id: 382"
       ]
      },
      {
       "output_type": "stream",
       "stream": "stdout",
       "text": [
        "\n",
        "  342/4818  Done Processing Problem Id: 383"
       ]
      },
      {
       "output_type": "stream",
       "stream": "stdout",
       "text": [
        "\n",
        "  343/4818  Done Processing Problem Id: 384"
       ]
      },
      {
       "output_type": "stream",
       "stream": "stdout",
       "text": [
        "\n",
        "  344/4818  Done Processing Problem Id: 385"
       ]
      },
      {
       "output_type": "stream",
       "stream": "stdout",
       "text": [
        "\n",
        "  345/4818  Done Processing Problem Id: 386"
       ]
      },
      {
       "output_type": "stream",
       "stream": "stdout",
       "text": [
        "\n",
        "  346/4818  Done Processing Problem Id: 387"
       ]
      },
      {
       "output_type": "stream",
       "stream": "stdout",
       "text": [
        "\n",
        "  347/4818  Done Processing Problem Id: 388"
       ]
      },
      {
       "output_type": "stream",
       "stream": "stdout",
       "text": [
        "\n",
        "  348/4818  Done Processing Problem Id: 389"
       ]
      },
      {
       "output_type": "stream",
       "stream": "stdout",
       "text": [
        "\n",
        "  349/4818  Done Processing Problem Id: 390"
       ]
      },
      {
       "output_type": "stream",
       "stream": "stdout",
       "text": [
        "\n",
        "  350/4818  Done Processing Problem Id: 391"
       ]
      },
      {
       "output_type": "stream",
       "stream": "stdout",
       "text": [
        "\n",
        "  351/4818  Done Processing Problem Id: 392"
       ]
      },
      {
       "output_type": "stream",
       "stream": "stdout",
       "text": [
        "\n",
        "  352/4818  Done Processing Problem Id: 393"
       ]
      },
      {
       "output_type": "stream",
       "stream": "stdout",
       "text": [
        "\n",
        "  353/4818  Done Processing Problem Id: 394"
       ]
      },
      {
       "output_type": "stream",
       "stream": "stdout",
       "text": [
        "\n",
        "  354/4818  Done Processing Problem Id: 395"
       ]
      },
      {
       "output_type": "stream",
       "stream": "stdout",
       "text": [
        "\n",
        "  355/4818  Done Processing Problem Id: 396"
       ]
      },
      {
       "output_type": "stream",
       "stream": "stdout",
       "text": [
        "\n",
        "  356/4818  Done Processing Problem Id: 397"
       ]
      },
      {
       "output_type": "stream",
       "stream": "stdout",
       "text": [
        "\n",
        "  357/4818  Done Processing Problem Id: 398"
       ]
      },
      {
       "output_type": "stream",
       "stream": "stdout",
       "text": [
        "\n",
        "  358/4818  Done Processing Problem Id: 399"
       ]
      },
      {
       "output_type": "stream",
       "stream": "stdout",
       "text": [
        "\n",
        "  359/4818  Done Processing Problem Id: 400"
       ]
      },
      {
       "output_type": "stream",
       "stream": "stdout",
       "text": [
        "\n",
        "  360/4818  Done Processing Problem Id: 401"
       ]
      },
      {
       "output_type": "stream",
       "stream": "stdout",
       "text": [
        "\n",
        "  361/4818  Done Processing Problem Id: 402"
       ]
      },
      {
       "output_type": "stream",
       "stream": "stdout",
       "text": [
        "\n",
        "  362/4818  Done Processing Problem Id: 403"
       ]
      },
      {
       "output_type": "stream",
       "stream": "stdout",
       "text": [
        "\n",
        "  363/4818  Done Processing Problem Id: 404"
       ]
      },
      {
       "output_type": "stream",
       "stream": "stdout",
       "text": [
        "\n",
        "  364/4818  Done Processing Problem Id: 405"
       ]
      },
      {
       "output_type": "stream",
       "stream": "stdout",
       "text": [
        "\n",
        "  365/4818  Done Processing Problem Id: 406"
       ]
      },
      {
       "output_type": "stream",
       "stream": "stdout",
       "text": [
        "\n",
        "  366/4818  Done Processing Problem Id: 407"
       ]
      },
      {
       "output_type": "stream",
       "stream": "stdout",
       "text": [
        "\n",
        "  367/4818  Done Processing Problem Id: 408"
       ]
      },
      {
       "output_type": "stream",
       "stream": "stdout",
       "text": [
        "\n",
        "  368/4818  Done Processing Problem Id: 409"
       ]
      },
      {
       "output_type": "stream",
       "stream": "stdout",
       "text": [
        "\n",
        "  369/4818  Done Processing Problem Id: 410"
       ]
      },
      {
       "output_type": "stream",
       "stream": "stdout",
       "text": [
        "\n",
        "  370/4818  Done Processing Problem Id: 411"
       ]
      },
      {
       "output_type": "stream",
       "stream": "stdout",
       "text": [
        "\n",
        "  371/4818  Done Processing Problem Id: 412"
       ]
      },
      {
       "output_type": "stream",
       "stream": "stdout",
       "text": [
        "\n",
        "  372/4818  Done Processing Problem Id: 413"
       ]
      },
      {
       "output_type": "stream",
       "stream": "stdout",
       "text": [
        "\n",
        "  373/4818  Done Processing Problem Id: 414"
       ]
      },
      {
       "output_type": "stream",
       "stream": "stdout",
       "text": [
        "\n",
        "  374/4818  Done Processing Problem Id: 415"
       ]
      },
      {
       "output_type": "stream",
       "stream": "stdout",
       "text": [
        "\n",
        "  375/4818  Done Processing Problem Id: 416"
       ]
      },
      {
       "output_type": "stream",
       "stream": "stdout",
       "text": [
        "\n",
        "  376/4818  Done Processing Problem Id: 417"
       ]
      },
      {
       "output_type": "stream",
       "stream": "stdout",
       "text": [
        "\n",
        "  377/4818  Done Processing Problem Id: 418"
       ]
      },
      {
       "output_type": "stream",
       "stream": "stdout",
       "text": [
        "\n",
        "  378/4818  Done Processing Problem Id: 419"
       ]
      },
      {
       "output_type": "stream",
       "stream": "stdout",
       "text": [
        "\n",
        "  379/4818  Done Processing Problem Id: 420"
       ]
      },
      {
       "output_type": "stream",
       "stream": "stdout",
       "text": [
        "\n",
        "  380/4818  Done Processing Problem Id: 421"
       ]
      },
      {
       "output_type": "stream",
       "stream": "stdout",
       "text": [
        "\n",
        "  381/4818  Done Processing Problem Id: 422"
       ]
      },
      {
       "output_type": "stream",
       "stream": "stdout",
       "text": [
        "\n",
        "  382/4818  Done Processing Problem Id: 423"
       ]
      },
      {
       "output_type": "stream",
       "stream": "stdout",
       "text": [
        "\n",
        "  383/4818  Done Processing Problem Id: 424"
       ]
      },
      {
       "output_type": "stream",
       "stream": "stdout",
       "text": [
        "\n",
        "  384/4818  Done Processing Problem Id: 425"
       ]
      },
      {
       "output_type": "stream",
       "stream": "stdout",
       "text": [
        "\n",
        "  385/4818  Done Processing Problem Id: 426"
       ]
      },
      {
       "output_type": "stream",
       "stream": "stdout",
       "text": [
        "\n",
        "  386/4818  Done Processing Problem Id: 427"
       ]
      },
      {
       "output_type": "stream",
       "stream": "stdout",
       "text": [
        "\n",
        "  387/4818  Done Processing Problem Id: 428"
       ]
      },
      {
       "output_type": "stream",
       "stream": "stdout",
       "text": [
        "\n",
        "  388/4818  Done Processing Problem Id: 429"
       ]
      },
      {
       "output_type": "stream",
       "stream": "stdout",
       "text": [
        "\n",
        "  389/4818  Done Processing Problem Id: 430"
       ]
      },
      {
       "output_type": "stream",
       "stream": "stdout",
       "text": [
        "\n",
        "  390/4818  Done Processing Problem Id: 431"
       ]
      },
      {
       "output_type": "stream",
       "stream": "stdout",
       "text": [
        "\n",
        "  391/4818  Done Processing Problem Id: 432"
       ]
      },
      {
       "output_type": "stream",
       "stream": "stdout",
       "text": [
        "\n",
        "  392/4818  Done Processing Problem Id: 433"
       ]
      },
      {
       "output_type": "stream",
       "stream": "stdout",
       "text": [
        "\n",
        "  393/4818  Done Processing Problem Id: 434"
       ]
      },
      {
       "output_type": "stream",
       "stream": "stdout",
       "text": [
        "\n",
        "  394/4818  Done Processing Problem Id: 435"
       ]
      },
      {
       "output_type": "stream",
       "stream": "stdout",
       "text": [
        "\n",
        "  395/4818  Done Processing Problem Id: 436"
       ]
      },
      {
       "output_type": "stream",
       "stream": "stdout",
       "text": [
        "\n",
        "  396/4818  Done Processing Problem Id: 437"
       ]
      },
      {
       "output_type": "stream",
       "stream": "stdout",
       "text": [
        "\n",
        "  397/4818  Done Processing Problem Id: 438"
       ]
      },
      {
       "output_type": "stream",
       "stream": "stdout",
       "text": [
        "\n",
        "  398/4818  Done Processing Problem Id: 439"
       ]
      },
      {
       "output_type": "stream",
       "stream": "stdout",
       "text": [
        "\n",
        "  399/4818  Done Processing Problem Id: 440"
       ]
      },
      {
       "output_type": "stream",
       "stream": "stdout",
       "text": [
        "\n",
        "  400/4818  Done Processing Problem Id: 441"
       ]
      },
      {
       "output_type": "stream",
       "stream": "stdout",
       "text": [
        "\n",
        "  401/4818  Done Processing Problem Id: 442"
       ]
      },
      {
       "output_type": "stream",
       "stream": "stdout",
       "text": [
        "\n",
        "  402/4818  Done Processing Problem Id: 443"
       ]
      },
      {
       "output_type": "stream",
       "stream": "stdout",
       "text": [
        "\n",
        "  403/4818  Done Processing Problem Id: 444"
       ]
      },
      {
       "output_type": "stream",
       "stream": "stdout",
       "text": [
        "\n",
        "  404/4818  Done Processing Problem Id: 445"
       ]
      },
      {
       "output_type": "stream",
       "stream": "stdout",
       "text": [
        "\n",
        "  405/4818  Done Processing Problem Id: 446"
       ]
      },
      {
       "output_type": "stream",
       "stream": "stdout",
       "text": [
        "\n",
        "  406/4818  Done Processing Problem Id: 447"
       ]
      },
      {
       "output_type": "stream",
       "stream": "stdout",
       "text": [
        "\n",
        "  407/4818  Done Processing Problem Id: 448"
       ]
      },
      {
       "output_type": "stream",
       "stream": "stdout",
       "text": [
        "\n",
        "  408/4818  Done Processing Problem Id: 449"
       ]
      },
      {
       "output_type": "stream",
       "stream": "stdout",
       "text": [
        "\n",
        "  409/4818  Done Processing Problem Id: 450"
       ]
      },
      {
       "output_type": "stream",
       "stream": "stdout",
       "text": [
        "\n",
        "  410/4818  Done Processing Problem Id: 451"
       ]
      },
      {
       "output_type": "stream",
       "stream": "stdout",
       "text": [
        "\n",
        "  411/4818  Done Processing Problem Id: 452"
       ]
      },
      {
       "output_type": "stream",
       "stream": "stdout",
       "text": [
        "\n",
        "  412/4818  Done Processing Problem Id: 453"
       ]
      },
      {
       "output_type": "stream",
       "stream": "stdout",
       "text": [
        "\n",
        "  413/4818  Done Processing Problem Id: 454"
       ]
      },
      {
       "output_type": "stream",
       "stream": "stdout",
       "text": [
        "\n",
        "  414/4818  Done Processing Problem Id: 455"
       ]
      },
      {
       "output_type": "stream",
       "stream": "stdout",
       "text": [
        "\n",
        "  415/4818  Done Processing Problem Id: 456"
       ]
      },
      {
       "output_type": "stream",
       "stream": "stdout",
       "text": [
        "\n",
        "  416/4818  Done Processing Problem Id: 457"
       ]
      },
      {
       "output_type": "stream",
       "stream": "stdout",
       "text": [
        "\n",
        "  417/4818  Done Processing Problem Id: 458"
       ]
      },
      {
       "output_type": "stream",
       "stream": "stdout",
       "text": [
        "\n",
        "  418/4818  Done Processing Problem Id: 459"
       ]
      },
      {
       "output_type": "stream",
       "stream": "stdout",
       "text": [
        "\n",
        "  419/4818  Done Processing Problem Id: 460"
       ]
      },
      {
       "output_type": "stream",
       "stream": "stdout",
       "text": [
        "\n",
        "  420/4818  Done Processing Problem Id: 461"
       ]
      },
      {
       "output_type": "stream",
       "stream": "stdout",
       "text": [
        "\n",
        "  421/4818  Done Processing Problem Id: 462"
       ]
      },
      {
       "output_type": "stream",
       "stream": "stdout",
       "text": [
        "\n",
        "  422/4818  Done Processing Problem Id: 463"
       ]
      },
      {
       "output_type": "stream",
       "stream": "stdout",
       "text": [
        "\n",
        "  423/4818  Done Processing Problem Id: 464"
       ]
      },
      {
       "output_type": "stream",
       "stream": "stdout",
       "text": [
        "\n",
        "  424/4818  Done Processing Problem Id: 465"
       ]
      },
      {
       "output_type": "stream",
       "stream": "stdout",
       "text": [
        "\n",
        "  425/4818  Done Processing Problem Id: 466"
       ]
      },
      {
       "output_type": "stream",
       "stream": "stdout",
       "text": [
        "\n",
        "  426/4818  Done Processing Problem Id: 467"
       ]
      },
      {
       "output_type": "stream",
       "stream": "stdout",
       "text": [
        "\n",
        "  427/4818  Done Processing Problem Id: 468"
       ]
      },
      {
       "output_type": "stream",
       "stream": "stdout",
       "text": [
        "\n",
        "  428/4818  Done Processing Problem Id: 469"
       ]
      },
      {
       "output_type": "stream",
       "stream": "stdout",
       "text": [
        "\n",
        "  429/4818  Done Processing Problem Id: 470"
       ]
      },
      {
       "output_type": "stream",
       "stream": "stdout",
       "text": [
        "\n",
        "  430/4818  Done Processing Problem Id: 471"
       ]
      },
      {
       "output_type": "stream",
       "stream": "stdout",
       "text": [
        "\n",
        "  431/4818  Done Processing Problem Id: 472"
       ]
      },
      {
       "output_type": "stream",
       "stream": "stdout",
       "text": [
        "\n",
        "  432/4818  Done Processing Problem Id: 473"
       ]
      },
      {
       "output_type": "stream",
       "stream": "stdout",
       "text": [
        "\n",
        "  433/4818  Done Processing Problem Id: 474"
       ]
      },
      {
       "output_type": "stream",
       "stream": "stdout",
       "text": [
        "\n",
        "  434/4818  Done Processing Problem Id: 475"
       ]
      },
      {
       "output_type": "stream",
       "stream": "stdout",
       "text": [
        "\n",
        "  435/4818  Done Processing Problem Id: 476"
       ]
      },
      {
       "output_type": "stream",
       "stream": "stdout",
       "text": [
        "\n",
        "  436/4818  Done Processing Problem Id: 477"
       ]
      },
      {
       "output_type": "stream",
       "stream": "stdout",
       "text": [
        "\n",
        "  437/4818  Done Processing Problem Id: 478"
       ]
      },
      {
       "output_type": "stream",
       "stream": "stdout",
       "text": [
        "\n",
        "  438/4818  Done Processing Problem Id: 479"
       ]
      },
      {
       "output_type": "stream",
       "stream": "stdout",
       "text": [
        "\n",
        "  439/4818  Done Processing Problem Id: 480"
       ]
      },
      {
       "output_type": "stream",
       "stream": "stdout",
       "text": [
        "\n",
        "  440/4818  Done Processing Problem Id: 481"
       ]
      },
      {
       "output_type": "stream",
       "stream": "stdout",
       "text": [
        "\n",
        "  441/4818  Done Processing Problem Id: 482"
       ]
      },
      {
       "output_type": "stream",
       "stream": "stdout",
       "text": [
        "\n",
        "  442/4818  Done Processing Problem Id: 483"
       ]
      },
      {
       "output_type": "stream",
       "stream": "stdout",
       "text": [
        "\n",
        "  443/4818  Done Processing Problem Id: 484"
       ]
      },
      {
       "output_type": "stream",
       "stream": "stdout",
       "text": [
        "\n",
        "  444/4818  Done Processing Problem Id: 485"
       ]
      },
      {
       "output_type": "stream",
       "stream": "stdout",
       "text": [
        "\n",
        "  445/4818  Done Processing Problem Id: 486"
       ]
      },
      {
       "output_type": "stream",
       "stream": "stdout",
       "text": [
        "\n",
        "  446/4818  Done Processing Problem Id: 487"
       ]
      },
      {
       "output_type": "stream",
       "stream": "stdout",
       "text": [
        "\n",
        "  447/4818  Done Processing Problem Id: 488"
       ]
      },
      {
       "output_type": "stream",
       "stream": "stdout",
       "text": [
        "\n",
        "  448/4818  Done Processing Problem Id: 489"
       ]
      },
      {
       "output_type": "stream",
       "stream": "stdout",
       "text": [
        "\n",
        "  449/4818  Done Processing Problem Id: 490"
       ]
      },
      {
       "output_type": "stream",
       "stream": "stdout",
       "text": [
        "\n",
        "  450/4818  Done Processing Problem Id: 491"
       ]
      },
      {
       "output_type": "stream",
       "stream": "stdout",
       "text": [
        "\n",
        "  451/4818  Done Processing Problem Id: 492"
       ]
      },
      {
       "output_type": "stream",
       "stream": "stdout",
       "text": [
        "\n",
        "  452/4818  Done Processing Problem Id: 493"
       ]
      },
      {
       "output_type": "stream",
       "stream": "stdout",
       "text": [
        "\n",
        "  453/4818  Done Processing Problem Id: 494"
       ]
      },
      {
       "output_type": "stream",
       "stream": "stdout",
       "text": [
        "\n",
        "  454/4818  Done Processing Problem Id: 495"
       ]
      },
      {
       "output_type": "stream",
       "stream": "stdout",
       "text": [
        "\n",
        "  455/4818  Done Processing Problem Id: 496"
       ]
      },
      {
       "output_type": "stream",
       "stream": "stdout",
       "text": [
        "\n",
        "  456/4818  Done Processing Problem Id: 497"
       ]
      },
      {
       "output_type": "stream",
       "stream": "stdout",
       "text": [
        "\n",
        "  457/4818  Done Processing Problem Id: 498"
       ]
      },
      {
       "output_type": "stream",
       "stream": "stdout",
       "text": [
        "\n",
        "  458/4818  Done Processing Problem Id: 499"
       ]
      },
      {
       "output_type": "stream",
       "stream": "stdout",
       "text": [
        "\n",
        "  459/4818  Done Processing Problem Id: 500"
       ]
      },
      {
       "output_type": "stream",
       "stream": "stdout",
       "text": [
        "\n",
        "  460/4818  Done Processing Problem Id: 501"
       ]
      },
      {
       "output_type": "stream",
       "stream": "stdout",
       "text": [
        "\n",
        "  461/4818  Done Processing Problem Id: 502"
       ]
      },
      {
       "output_type": "stream",
       "stream": "stdout",
       "text": [
        "\n",
        "  462/4818  Done Processing Problem Id: 503"
       ]
      },
      {
       "output_type": "stream",
       "stream": "stdout",
       "text": [
        "\n",
        "  463/4818  Done Processing Problem Id: 504"
       ]
      },
      {
       "output_type": "stream",
       "stream": "stdout",
       "text": [
        "\n",
        "  464/4818  Done Processing Problem Id: 505"
       ]
      },
      {
       "output_type": "stream",
       "stream": "stdout",
       "text": [
        "\n",
        "  465/4818  Done Processing Problem Id: 506"
       ]
      },
      {
       "output_type": "stream",
       "stream": "stdout",
       "text": [
        "\n",
        "  466/4818  Done Processing Problem Id: 507"
       ]
      },
      {
       "output_type": "stream",
       "stream": "stdout",
       "text": [
        "\n",
        "  467/4818  Done Processing Problem Id: 508"
       ]
      },
      {
       "output_type": "stream",
       "stream": "stdout",
       "text": [
        "\n",
        "  468/4818  Done Processing Problem Id: 509"
       ]
      },
      {
       "output_type": "stream",
       "stream": "stdout",
       "text": [
        "\n",
        "  469/4818  Done Processing Problem Id: 510"
       ]
      },
      {
       "output_type": "stream",
       "stream": "stdout",
       "text": [
        "\n",
        "  470/4818  Done Processing Problem Id: 511"
       ]
      },
      {
       "output_type": "stream",
       "stream": "stdout",
       "text": [
        "\n",
        "  471/4818  Done Processing Problem Id: 512"
       ]
      },
      {
       "output_type": "stream",
       "stream": "stdout",
       "text": [
        "\n",
        "  472/4818  Done Processing Problem Id: 513"
       ]
      },
      {
       "output_type": "stream",
       "stream": "stdout",
       "text": [
        "\n",
        "  473/4818  Done Processing Problem Id: 514"
       ]
      },
      {
       "output_type": "stream",
       "stream": "stdout",
       "text": [
        "\n",
        "  474/4818  Done Processing Problem Id: 515"
       ]
      },
      {
       "output_type": "stream",
       "stream": "stdout",
       "text": [
        "\n",
        "  475/4818  Done Processing Problem Id: 516"
       ]
      },
      {
       "output_type": "stream",
       "stream": "stdout",
       "text": [
        "\n",
        "  476/4818  Done Processing Problem Id: 517"
       ]
      },
      {
       "output_type": "stream",
       "stream": "stdout",
       "text": [
        "\n",
        "  477/4818  Done Processing Problem Id: 518"
       ]
      },
      {
       "output_type": "stream",
       "stream": "stdout",
       "text": [
        "\n",
        "  478/4818  Done Processing Problem Id: 519"
       ]
      },
      {
       "output_type": "stream",
       "stream": "stdout",
       "text": [
        "\n",
        "  479/4818  Done Processing Problem Id: 520"
       ]
      },
      {
       "output_type": "stream",
       "stream": "stdout",
       "text": [
        "\n",
        "  480/4818  Done Processing Problem Id: 521"
       ]
      },
      {
       "output_type": "stream",
       "stream": "stdout",
       "text": [
        "\n",
        "  481/4818  Done Processing Problem Id: 522"
       ]
      },
      {
       "output_type": "stream",
       "stream": "stdout",
       "text": [
        "\n",
        "  482/4818  Done Processing Problem Id: 523"
       ]
      },
      {
       "output_type": "stream",
       "stream": "stdout",
       "text": [
        "\n",
        "  483/4818  Done Processing Problem Id: 524"
       ]
      },
      {
       "output_type": "stream",
       "stream": "stdout",
       "text": [
        "\n",
        "  484/4818  Done Processing Problem Id: 525"
       ]
      },
      {
       "output_type": "stream",
       "stream": "stdout",
       "text": [
        "\n",
        "  485/4818  Done Processing Problem Id: 526"
       ]
      },
      {
       "output_type": "stream",
       "stream": "stdout",
       "text": [
        "\n",
        "  486/4818  Done Processing Problem Id: 527"
       ]
      },
      {
       "output_type": "stream",
       "stream": "stdout",
       "text": [
        "\n",
        "  487/4818  Done Processing Problem Id: 528"
       ]
      },
      {
       "output_type": "stream",
       "stream": "stdout",
       "text": [
        "\n",
        "  488/4818  Done Processing Problem Id: 529"
       ]
      },
      {
       "output_type": "stream",
       "stream": "stdout",
       "text": [
        "\n",
        "  489/4818  Done Processing Problem Id: 530"
       ]
      },
      {
       "output_type": "stream",
       "stream": "stdout",
       "text": [
        "\n",
        "  490/4818  Done Processing Problem Id: 531"
       ]
      },
      {
       "output_type": "stream",
       "stream": "stdout",
       "text": [
        "\n",
        "  491/4818  Done Processing Problem Id: 532"
       ]
      },
      {
       "output_type": "stream",
       "stream": "stdout",
       "text": [
        "\n",
        "  492/4818  Done Processing Problem Id: 533"
       ]
      },
      {
       "output_type": "stream",
       "stream": "stdout",
       "text": [
        "\n",
        "  493/4818  Done Processing Problem Id: 534"
       ]
      },
      {
       "output_type": "stream",
       "stream": "stdout",
       "text": [
        "\n",
        "  494/4818  Done Processing Problem Id: 535"
       ]
      },
      {
       "output_type": "stream",
       "stream": "stdout",
       "text": [
        "\n",
        "  495/4818  Done Processing Problem Id: 536"
       ]
      },
      {
       "output_type": "stream",
       "stream": "stdout",
       "text": [
        "\n",
        "  496/4818  Done Processing Problem Id: 537"
       ]
      },
      {
       "output_type": "stream",
       "stream": "stdout",
       "text": [
        "\n",
        "  497/4818  Done Processing Problem Id: 538"
       ]
      },
      {
       "output_type": "stream",
       "stream": "stdout",
       "text": [
        "\n",
        "  498/4818  Done Processing Problem Id: 539"
       ]
      },
      {
       "output_type": "stream",
       "stream": "stdout",
       "text": [
        "\n",
        "  499/4818  Done Processing Problem Id: 540"
       ]
      },
      {
       "output_type": "stream",
       "stream": "stdout",
       "text": [
        "\n",
        "  500/4818  Done Processing Problem Id: 541"
       ]
      },
      {
       "output_type": "stream",
       "stream": "stdout",
       "text": [
        "\n",
        "  501/4818  Done Processing Problem Id: 542"
       ]
      },
      {
       "output_type": "stream",
       "stream": "stdout",
       "text": [
        "\n",
        "  502/4818  Done Processing Problem Id: 543"
       ]
      },
      {
       "output_type": "stream",
       "stream": "stdout",
       "text": [
        "\n",
        "  503/4818  Done Processing Problem Id: 544"
       ]
      },
      {
       "output_type": "stream",
       "stream": "stdout",
       "text": [
        "\n",
        "  504/4818  Done Processing Problem Id: 545"
       ]
      },
      {
       "output_type": "stream",
       "stream": "stdout",
       "text": [
        "\n",
        "  505/4818  Done Processing Problem Id: 546"
       ]
      },
      {
       "output_type": "stream",
       "stream": "stdout",
       "text": [
        "\n",
        "  506/4818  Done Processing Problem Id: 547"
       ]
      },
      {
       "output_type": "stream",
       "stream": "stdout",
       "text": [
        "\n",
        "  507/4818  Done Processing Problem Id: 548"
       ]
      },
      {
       "output_type": "stream",
       "stream": "stdout",
       "text": [
        "\n",
        "  508/4818  Done Processing Problem Id: 549"
       ]
      },
      {
       "output_type": "stream",
       "stream": "stdout",
       "text": [
        "\n",
        "  509/4818  Done Processing Problem Id: 550"
       ]
      },
      {
       "output_type": "stream",
       "stream": "stdout",
       "text": [
        "\n",
        "  510/4818  Done Processing Problem Id: 551"
       ]
      },
      {
       "output_type": "stream",
       "stream": "stdout",
       "text": [
        "\n",
        "  511/4818  Done Processing Problem Id: 552"
       ]
      },
      {
       "output_type": "stream",
       "stream": "stdout",
       "text": [
        "\n",
        "  512/4818  Done Processing Problem Id: 553"
       ]
      },
      {
       "output_type": "stream",
       "stream": "stdout",
       "text": [
        "\n",
        "  513/4818  Done Processing Problem Id: 554"
       ]
      },
      {
       "output_type": "stream",
       "stream": "stdout",
       "text": [
        "\n",
        "  514/4818  Done Processing Problem Id: 555"
       ]
      },
      {
       "output_type": "stream",
       "stream": "stdout",
       "text": [
        "\n",
        "  515/4818  Done Processing Problem Id: 556"
       ]
      },
      {
       "output_type": "stream",
       "stream": "stdout",
       "text": [
        "\n",
        "  516/4818  Done Processing Problem Id: 557"
       ]
      },
      {
       "output_type": "stream",
       "stream": "stdout",
       "text": [
        "\n",
        "  517/4818  Done Processing Problem Id: 558"
       ]
      },
      {
       "output_type": "stream",
       "stream": "stdout",
       "text": [
        "\n",
        "  518/4818  Done Processing Problem Id: 559"
       ]
      },
      {
       "output_type": "stream",
       "stream": "stdout",
       "text": [
        "\n",
        "  519/4818  Done Processing Problem Id: 560"
       ]
      },
      {
       "output_type": "stream",
       "stream": "stdout",
       "text": [
        "\n",
        "  520/4818  Done Processing Problem Id: 561"
       ]
      },
      {
       "output_type": "stream",
       "stream": "stdout",
       "text": [
        "\n",
        "  521/4818  Done Processing Problem Id: 562"
       ]
      },
      {
       "output_type": "stream",
       "stream": "stdout",
       "text": [
        "\n",
        "  522/4818  Done Processing Problem Id: 563"
       ]
      },
      {
       "output_type": "stream",
       "stream": "stdout",
       "text": [
        "\n",
        "  523/4818  Done Processing Problem Id: 564"
       ]
      },
      {
       "output_type": "stream",
       "stream": "stdout",
       "text": [
        "\n",
        "  524/4818  Done Processing Problem Id: 565"
       ]
      },
      {
       "output_type": "stream",
       "stream": "stdout",
       "text": [
        "\n",
        "  525/4818  Done Processing Problem Id: 566"
       ]
      },
      {
       "output_type": "stream",
       "stream": "stdout",
       "text": [
        "\n",
        "  526/4818  Done Processing Problem Id: 567"
       ]
      },
      {
       "output_type": "stream",
       "stream": "stdout",
       "text": [
        "\n",
        "  527/4818  Done Processing Problem Id: 568"
       ]
      },
      {
       "output_type": "stream",
       "stream": "stdout",
       "text": [
        "\n",
        "  528/4818  Done Processing Problem Id: 569"
       ]
      },
      {
       "output_type": "stream",
       "stream": "stdout",
       "text": [
        "\n",
        "  529/4818  Done Processing Problem Id: 570"
       ]
      },
      {
       "output_type": "stream",
       "stream": "stdout",
       "text": [
        "\n",
        "  530/4818  Done Processing Problem Id: 571"
       ]
      },
      {
       "output_type": "stream",
       "stream": "stdout",
       "text": [
        "\n",
        "  531/4818  Done Processing Problem Id: 572"
       ]
      },
      {
       "output_type": "stream",
       "stream": "stdout",
       "text": [
        "\n",
        "  532/4818  Done Processing Problem Id: 573"
       ]
      },
      {
       "output_type": "stream",
       "stream": "stdout",
       "text": [
        "\n",
        "  533/4818  Done Processing Problem Id: 574"
       ]
      },
      {
       "output_type": "stream",
       "stream": "stdout",
       "text": [
        "\n",
        "  534/4818  Done Processing Problem Id: 575"
       ]
      },
      {
       "output_type": "stream",
       "stream": "stdout",
       "text": [
        "\n",
        "  535/4818  Done Processing Problem Id: 576"
       ]
      },
      {
       "output_type": "stream",
       "stream": "stdout",
       "text": [
        "\n",
        "  536/4818  Done Processing Problem Id: 577"
       ]
      },
      {
       "output_type": "stream",
       "stream": "stdout",
       "text": [
        "\n",
        "  537/4818  Done Processing Problem Id: 578"
       ]
      },
      {
       "output_type": "stream",
       "stream": "stdout",
       "text": [
        "\n",
        "  538/4818  Done Processing Problem Id: 579"
       ]
      },
      {
       "output_type": "stream",
       "stream": "stdout",
       "text": [
        "\n",
        "  539/4818  Done Processing Problem Id: 580"
       ]
      },
      {
       "output_type": "stream",
       "stream": "stdout",
       "text": [
        "\n",
        "  540/4818  Done Processing Problem Id: 581"
       ]
      },
      {
       "output_type": "stream",
       "stream": "stdout",
       "text": [
        "\n",
        "  541/4818  Done Processing Problem Id: 582"
       ]
      },
      {
       "output_type": "stream",
       "stream": "stdout",
       "text": [
        "\n",
        "  542/4818  Done Processing Problem Id: 583"
       ]
      },
      {
       "output_type": "stream",
       "stream": "stdout",
       "text": [
        "\n",
        "  543/4818  Done Processing Problem Id: 584"
       ]
      },
      {
       "output_type": "stream",
       "stream": "stdout",
       "text": [
        "\n",
        "  544/4818  Done Processing Problem Id: 585"
       ]
      },
      {
       "output_type": "stream",
       "stream": "stdout",
       "text": [
        "\n",
        "  545/4818  Done Processing Problem Id: 586"
       ]
      },
      {
       "output_type": "stream",
       "stream": "stdout",
       "text": [
        "\n",
        "  546/4818  Done Processing Problem Id: 587"
       ]
      },
      {
       "output_type": "stream",
       "stream": "stdout",
       "text": [
        "\n",
        "  547/4818  Done Processing Problem Id: 588"
       ]
      },
      {
       "output_type": "stream",
       "stream": "stdout",
       "text": [
        "\n",
        "  548/4818  Done Processing Problem Id: 589"
       ]
      },
      {
       "output_type": "stream",
       "stream": "stdout",
       "text": [
        "\n",
        "  549/4818  Done Processing Problem Id: 590"
       ]
      },
      {
       "output_type": "stream",
       "stream": "stdout",
       "text": [
        "\n",
        "  550/4818  Done Processing Problem Id: 591"
       ]
      },
      {
       "output_type": "stream",
       "stream": "stdout",
       "text": [
        "\n",
        "  551/4818  Done Processing Problem Id: 592"
       ]
      },
      {
       "output_type": "stream",
       "stream": "stdout",
       "text": [
        "\n",
        "  552/4818  Done Processing Problem Id: 593"
       ]
      },
      {
       "output_type": "stream",
       "stream": "stdout",
       "text": [
        "\n",
        "  553/4818  Done Processing Problem Id: 594"
       ]
      },
      {
       "output_type": "stream",
       "stream": "stdout",
       "text": [
        "\n",
        "  554/4818  Done Processing Problem Id: 595"
       ]
      },
      {
       "output_type": "stream",
       "stream": "stdout",
       "text": [
        "\n",
        "  555/4818  Done Processing Problem Id: 596"
       ]
      },
      {
       "output_type": "stream",
       "stream": "stdout",
       "text": [
        "\n",
        "  556/4818  Done Processing Problem Id: 597"
       ]
      },
      {
       "output_type": "stream",
       "stream": "stdout",
       "text": [
        "\n",
        "  557/4818  Done Processing Problem Id: 598"
       ]
      },
      {
       "output_type": "stream",
       "stream": "stdout",
       "text": [
        "\n",
        "  558/4818  Done Processing Problem Id: 599"
       ]
      },
      {
       "output_type": "stream",
       "stream": "stdout",
       "text": [
        "\n",
        "  559/4818  Done Processing Problem Id: 600"
       ]
      },
      {
       "output_type": "stream",
       "stream": "stdout",
       "text": [
        "\n",
        "  560/4818  Done Processing Problem Id: 601"
       ]
      },
      {
       "output_type": "stream",
       "stream": "stdout",
       "text": [
        "\n",
        "  561/4818  Done Processing Problem Id: 602"
       ]
      },
      {
       "output_type": "stream",
       "stream": "stdout",
       "text": [
        "\n",
        "  562/4818  Done Processing Problem Id: 603"
       ]
      },
      {
       "output_type": "stream",
       "stream": "stdout",
       "text": [
        "\n",
        "  563/4818  Done Processing Problem Id: 604"
       ]
      },
      {
       "output_type": "stream",
       "stream": "stdout",
       "text": [
        "\n",
        "  564/4818  Done Processing Problem Id: 605"
       ]
      },
      {
       "output_type": "stream",
       "stream": "stdout",
       "text": [
        "\n",
        "  565/4818  Done Processing Problem Id: 606"
       ]
      },
      {
       "output_type": "stream",
       "stream": "stdout",
       "text": [
        "\n",
        "  566/4818  Done Processing Problem Id: 607"
       ]
      },
      {
       "output_type": "stream",
       "stream": "stdout",
       "text": [
        "\n",
        "  567/4818  Done Processing Problem Id: 608"
       ]
      },
      {
       "output_type": "stream",
       "stream": "stdout",
       "text": [
        "\n",
        "  568/4818  Done Processing Problem Id: 609"
       ]
      },
      {
       "output_type": "stream",
       "stream": "stdout",
       "text": [
        "\n",
        "  569/4818  Done Processing Problem Id: 610"
       ]
      },
      {
       "output_type": "stream",
       "stream": "stdout",
       "text": [
        "\n",
        "  570/4818  Done Processing Problem Id: 611"
       ]
      },
      {
       "output_type": "stream",
       "stream": "stdout",
       "text": [
        "\n",
        "  571/4818  Done Processing Problem Id: 612"
       ]
      },
      {
       "output_type": "stream",
       "stream": "stdout",
       "text": [
        "\n",
        "  572/4818  Done Processing Problem Id: 613"
       ]
      },
      {
       "output_type": "stream",
       "stream": "stdout",
       "text": [
        "\n",
        "  573/4818  Done Processing Problem Id: 614"
       ]
      },
      {
       "output_type": "stream",
       "stream": "stdout",
       "text": [
        "\n",
        "  574/4818  Done Processing Problem Id: 615"
       ]
      },
      {
       "output_type": "stream",
       "stream": "stdout",
       "text": [
        "\n",
        "  575/4818  Done Processing Problem Id: 616"
       ]
      },
      {
       "output_type": "stream",
       "stream": "stdout",
       "text": [
        "\n",
        "  576/4818  Done Processing Problem Id: 617"
       ]
      },
      {
       "output_type": "stream",
       "stream": "stdout",
       "text": [
        "\n",
        "  577/4818  Done Processing Problem Id: 618"
       ]
      },
      {
       "output_type": "stream",
       "stream": "stdout",
       "text": [
        "\n",
        "  578/4818  Done Processing Problem Id: 619"
       ]
      },
      {
       "output_type": "stream",
       "stream": "stdout",
       "text": [
        "\n",
        "  579/4818  Done Processing Problem Id: 620"
       ]
      },
      {
       "output_type": "stream",
       "stream": "stdout",
       "text": [
        "\n",
        "  580/4818  Done Processing Problem Id: 621"
       ]
      },
      {
       "output_type": "stream",
       "stream": "stdout",
       "text": [
        "\n",
        "  581/4818  Done Processing Problem Id: 622"
       ]
      },
      {
       "output_type": "stream",
       "stream": "stdout",
       "text": [
        "\n",
        "  582/4818  Done Processing Problem Id: 623"
       ]
      },
      {
       "output_type": "stream",
       "stream": "stdout",
       "text": [
        "\n",
        "  583/4818  Done Processing Problem Id: 624"
       ]
      },
      {
       "output_type": "stream",
       "stream": "stdout",
       "text": [
        "\n",
        "  584/4818  Done Processing Problem Id: 625"
       ]
      },
      {
       "output_type": "stream",
       "stream": "stdout",
       "text": [
        "\n",
        "  585/4818  Done Processing Problem Id: 626"
       ]
      },
      {
       "output_type": "stream",
       "stream": "stdout",
       "text": [
        "\n",
        "  586/4818  Done Processing Problem Id: 627"
       ]
      },
      {
       "output_type": "stream",
       "stream": "stdout",
       "text": [
        "\n",
        "  587/4818  Done Processing Problem Id: 628"
       ]
      },
      {
       "output_type": "stream",
       "stream": "stdout",
       "text": [
        "\n",
        "  588/4818  Done Processing Problem Id: 629"
       ]
      },
      {
       "output_type": "stream",
       "stream": "stdout",
       "text": [
        "\n",
        "  589/4818  Done Processing Problem Id: 630"
       ]
      },
      {
       "output_type": "stream",
       "stream": "stdout",
       "text": [
        "\n",
        "  590/4818  Done Processing Problem Id: 631"
       ]
      },
      {
       "output_type": "stream",
       "stream": "stdout",
       "text": [
        "\n",
        "  591/4818  Done Processing Problem Id: 632"
       ]
      },
      {
       "output_type": "stream",
       "stream": "stdout",
       "text": [
        "\n",
        "  592/4818  Done Processing Problem Id: 633"
       ]
      },
      {
       "output_type": "stream",
       "stream": "stdout",
       "text": [
        "\n",
        "  593/4818  Done Processing Problem Id: 634"
       ]
      },
      {
       "output_type": "stream",
       "stream": "stdout",
       "text": [
        "\n",
        "  594/4818  Done Processing Problem Id: 635"
       ]
      },
      {
       "output_type": "stream",
       "stream": "stdout",
       "text": [
        "\n",
        "  595/4818  Done Processing Problem Id: 636"
       ]
      },
      {
       "output_type": "stream",
       "stream": "stdout",
       "text": [
        "\n",
        "  596/4818  Done Processing Problem Id: 637"
       ]
      },
      {
       "output_type": "stream",
       "stream": "stdout",
       "text": [
        "\n",
        "  597/4818  Done Processing Problem Id: 638"
       ]
      },
      {
       "output_type": "stream",
       "stream": "stdout",
       "text": [
        "\n",
        "  598/4818  Done Processing Problem Id: 639"
       ]
      },
      {
       "output_type": "stream",
       "stream": "stdout",
       "text": [
        "\n",
        "  599/4818  Done Processing Problem Id: 640"
       ]
      },
      {
       "output_type": "stream",
       "stream": "stdout",
       "text": [
        "\n",
        "  600/4818  Done Processing Problem Id: 641"
       ]
      },
      {
       "output_type": "stream",
       "stream": "stdout",
       "text": [
        "\n",
        "  601/4818  Done Processing Problem Id: 642"
       ]
      },
      {
       "output_type": "stream",
       "stream": "stdout",
       "text": [
        "\n",
        "  602/4818  Done Processing Problem Id: 643"
       ]
      },
      {
       "output_type": "stream",
       "stream": "stdout",
       "text": [
        "\n",
        "  603/4818  Done Processing Problem Id: 644"
       ]
      },
      {
       "output_type": "stream",
       "stream": "stdout",
       "text": [
        "\n",
        "  604/4818  Done Processing Problem Id: 645"
       ]
      },
      {
       "output_type": "stream",
       "stream": "stdout",
       "text": [
        "\n",
        "  605/4818  Done Processing Problem Id: 646"
       ]
      },
      {
       "output_type": "stream",
       "stream": "stdout",
       "text": [
        "\n",
        "  606/4818  Done Processing Problem Id: 647"
       ]
      },
      {
       "output_type": "stream",
       "stream": "stdout",
       "text": [
        "\n",
        "  607/4818  Done Processing Problem Id: 648"
       ]
      },
      {
       "output_type": "stream",
       "stream": "stdout",
       "text": [
        "\n",
        "  608/4818  Done Processing Problem Id: 649"
       ]
      },
      {
       "output_type": "stream",
       "stream": "stdout",
       "text": [
        "\n",
        "  609/4818  Done Processing Problem Id: 650"
       ]
      },
      {
       "output_type": "stream",
       "stream": "stdout",
       "text": [
        "\n",
        "  610/4818  Done Processing Problem Id: 651"
       ]
      },
      {
       "output_type": "stream",
       "stream": "stdout",
       "text": [
        "\n",
        "  611/4818  Done Processing Problem Id: 652"
       ]
      },
      {
       "output_type": "stream",
       "stream": "stdout",
       "text": [
        "\n",
        "  612/4818  Done Processing Problem Id: 653"
       ]
      },
      {
       "output_type": "stream",
       "stream": "stdout",
       "text": [
        "\n",
        "  613/4818  Done Processing Problem Id: 654"
       ]
      },
      {
       "output_type": "stream",
       "stream": "stdout",
       "text": [
        "\n",
        "  614/4818  Done Processing Problem Id: 655"
       ]
      },
      {
       "output_type": "stream",
       "stream": "stdout",
       "text": [
        "\n",
        "  615/4818  Done Processing Problem Id: 656"
       ]
      },
      {
       "output_type": "stream",
       "stream": "stdout",
       "text": [
        "\n",
        "  616/4818  Done Processing Problem Id: 657"
       ]
      },
      {
       "output_type": "stream",
       "stream": "stdout",
       "text": [
        "\n",
        "  617/4818  Done Processing Problem Id: 658"
       ]
      },
      {
       "output_type": "stream",
       "stream": "stdout",
       "text": [
        "\n",
        "  618/4818  Done Processing Problem Id: 659"
       ]
      },
      {
       "output_type": "stream",
       "stream": "stdout",
       "text": [
        "\n",
        "  619/4818  Done Processing Problem Id: 660"
       ]
      },
      {
       "output_type": "stream",
       "stream": "stdout",
       "text": [
        "\n",
        "  620/4818  Done Processing Problem Id: 661"
       ]
      },
      {
       "output_type": "stream",
       "stream": "stdout",
       "text": [
        "\n",
        "  621/4818  Done Processing Problem Id: 662"
       ]
      },
      {
       "output_type": "stream",
       "stream": "stdout",
       "text": [
        "\n",
        "  622/4818  Done Processing Problem Id: 663"
       ]
      },
      {
       "output_type": "stream",
       "stream": "stdout",
       "text": [
        "\n",
        "  623/4818  Done Processing Problem Id: 664"
       ]
      },
      {
       "output_type": "stream",
       "stream": "stdout",
       "text": [
        "\n",
        "  624/4818  Done Processing Problem Id: 665"
       ]
      },
      {
       "output_type": "stream",
       "stream": "stdout",
       "text": [
        "\n",
        "  625/4818  Done Processing Problem Id: 666"
       ]
      },
      {
       "output_type": "stream",
       "stream": "stdout",
       "text": [
        "\n",
        "  626/4818  Done Processing Problem Id: 667"
       ]
      },
      {
       "output_type": "stream",
       "stream": "stdout",
       "text": [
        "\n",
        "  627/4818  Done Processing Problem Id: 668"
       ]
      },
      {
       "output_type": "stream",
       "stream": "stdout",
       "text": [
        "\n",
        "  628/4818  Done Processing Problem Id: 669"
       ]
      },
      {
       "output_type": "stream",
       "stream": "stdout",
       "text": [
        "\n",
        "  629/4818  Done Processing Problem Id: 670"
       ]
      },
      {
       "output_type": "stream",
       "stream": "stdout",
       "text": [
        "\n",
        "  630/4818  Done Processing Problem Id: 671"
       ]
      },
      {
       "output_type": "stream",
       "stream": "stdout",
       "text": [
        "\n",
        "  631/4818  Done Processing Problem Id: 672"
       ]
      },
      {
       "output_type": "stream",
       "stream": "stdout",
       "text": [
        "\n",
        "  632/4818  Done Processing Problem Id: 673"
       ]
      },
      {
       "output_type": "stream",
       "stream": "stdout",
       "text": [
        "\n",
        "  633/4818  Done Processing Problem Id: 674"
       ]
      },
      {
       "output_type": "stream",
       "stream": "stdout",
       "text": [
        "\n",
        "  634/4818  Done Processing Problem Id: 675"
       ]
      },
      {
       "output_type": "stream",
       "stream": "stdout",
       "text": [
        "\n",
        "  635/4818  Done Processing Problem Id: 676"
       ]
      },
      {
       "output_type": "stream",
       "stream": "stdout",
       "text": [
        "\n",
        "  636/4818  Done Processing Problem Id: 677"
       ]
      },
      {
       "output_type": "stream",
       "stream": "stdout",
       "text": [
        "\n",
        "  637/4818  Done Processing Problem Id: 678"
       ]
      },
      {
       "output_type": "stream",
       "stream": "stdout",
       "text": [
        "\n",
        "  638/4818  Done Processing Problem Id: 679"
       ]
      },
      {
       "output_type": "stream",
       "stream": "stdout",
       "text": [
        "\n",
        "  639/4818  Done Processing Problem Id: 680"
       ]
      },
      {
       "output_type": "stream",
       "stream": "stdout",
       "text": [
        "\n",
        "  640/4818  Done Processing Problem Id: 681"
       ]
      },
      {
       "output_type": "stream",
       "stream": "stdout",
       "text": [
        "\n",
        "  641/4818  Done Processing Problem Id: 682"
       ]
      },
      {
       "output_type": "stream",
       "stream": "stdout",
       "text": [
        "\n",
        "  642/4818  Done Processing Problem Id: 683"
       ]
      },
      {
       "output_type": "stream",
       "stream": "stdout",
       "text": [
        "\n",
        "  643/4818  Done Processing Problem Id: 684"
       ]
      },
      {
       "output_type": "stream",
       "stream": "stdout",
       "text": [
        "\n",
        "  644/4818  Done Processing Problem Id: 685"
       ]
      },
      {
       "output_type": "stream",
       "stream": "stdout",
       "text": [
        "\n",
        "  645/4818  Done Processing Problem Id: 686"
       ]
      },
      {
       "output_type": "stream",
       "stream": "stdout",
       "text": [
        "\n",
        "  646/4818  Done Processing Problem Id: 687"
       ]
      },
      {
       "output_type": "stream",
       "stream": "stdout",
       "text": [
        "\n",
        "  647/4818  Done Processing Problem Id: 688"
       ]
      },
      {
       "output_type": "stream",
       "stream": "stdout",
       "text": [
        "\n",
        "  648/4818  Done Processing Problem Id: 689"
       ]
      },
      {
       "output_type": "stream",
       "stream": "stdout",
       "text": [
        "\n",
        "  649/4818  Done Processing Problem Id: 690"
       ]
      },
      {
       "output_type": "stream",
       "stream": "stdout",
       "text": [
        "\n",
        "  650/4818  Done Processing Problem Id: 691"
       ]
      },
      {
       "output_type": "stream",
       "stream": "stdout",
       "text": [
        "\n",
        "  651/4818  Done Processing Problem Id: 692"
       ]
      },
      {
       "output_type": "stream",
       "stream": "stdout",
       "text": [
        "\n",
        "  652/4818  Done Processing Problem Id: 693"
       ]
      },
      {
       "output_type": "stream",
       "stream": "stdout",
       "text": [
        "\n",
        "  653/4818  Done Processing Problem Id: 694"
       ]
      },
      {
       "output_type": "stream",
       "stream": "stdout",
       "text": [
        "\n",
        "  654/4818  Done Processing Problem Id: 695"
       ]
      },
      {
       "output_type": "stream",
       "stream": "stdout",
       "text": [
        "\n",
        "  655/4818  Done Processing Problem Id: 696"
       ]
      },
      {
       "output_type": "stream",
       "stream": "stdout",
       "text": [
        "\n",
        "  656/4818  Done Processing Problem Id: 697"
       ]
      },
      {
       "output_type": "stream",
       "stream": "stdout",
       "text": [
        "\n",
        "  657/4818  Done Processing Problem Id: 698"
       ]
      },
      {
       "output_type": "stream",
       "stream": "stdout",
       "text": [
        "\n",
        "  658/4818  Done Processing Problem Id: 699"
       ]
      },
      {
       "output_type": "stream",
       "stream": "stdout",
       "text": [
        "\n",
        "  659/4818  Done Processing Problem Id: 700"
       ]
      },
      {
       "output_type": "stream",
       "stream": "stdout",
       "text": [
        "\n",
        "  660/4818  Done Processing Problem Id: 701"
       ]
      },
      {
       "output_type": "stream",
       "stream": "stdout",
       "text": [
        "\n",
        "  661/4818  Done Processing Problem Id: 702"
       ]
      },
      {
       "output_type": "stream",
       "stream": "stdout",
       "text": [
        "\n",
        "  662/4818  Done Processing Problem Id: 703"
       ]
      },
      {
       "output_type": "stream",
       "stream": "stdout",
       "text": [
        "\n",
        "  663/4818  Done Processing Problem Id: 704"
       ]
      },
      {
       "output_type": "stream",
       "stream": "stdout",
       "text": [
        "\n",
        "  664/4818  Done Processing Problem Id: 705"
       ]
      },
      {
       "output_type": "stream",
       "stream": "stdout",
       "text": [
        "\n",
        "  665/4818  Done Processing Problem Id: 706"
       ]
      },
      {
       "output_type": "stream",
       "stream": "stdout",
       "text": [
        "\n",
        "  666/4818  Done Processing Problem Id: 707"
       ]
      },
      {
       "output_type": "stream",
       "stream": "stdout",
       "text": [
        "\n",
        "  667/4818  Done Processing Problem Id: 708"
       ]
      },
      {
       "output_type": "stream",
       "stream": "stdout",
       "text": [
        "\n",
        "  668/4818  Done Processing Problem Id: 709"
       ]
      },
      {
       "output_type": "stream",
       "stream": "stdout",
       "text": [
        "\n",
        "  669/4818  Done Processing Problem Id: 710"
       ]
      },
      {
       "output_type": "stream",
       "stream": "stdout",
       "text": [
        "\n",
        "  670/4818  Done Processing Problem Id: 711"
       ]
      },
      {
       "output_type": "stream",
       "stream": "stdout",
       "text": [
        "\n",
        "  671/4818  Done Processing Problem Id: 712"
       ]
      },
      {
       "output_type": "stream",
       "stream": "stdout",
       "text": [
        "\n",
        "  672/4818  Done Processing Problem Id: 713"
       ]
      },
      {
       "output_type": "stream",
       "stream": "stdout",
       "text": [
        "\n",
        "  673/4818  Done Processing Problem Id: 714"
       ]
      },
      {
       "output_type": "stream",
       "stream": "stdout",
       "text": [
        "\n",
        "  674/4818  Done Processing Problem Id: 715"
       ]
      },
      {
       "output_type": "stream",
       "stream": "stdout",
       "text": [
        "\n",
        "  675/4818  Done Processing Problem Id: 716"
       ]
      },
      {
       "output_type": "stream",
       "stream": "stdout",
       "text": [
        "\n",
        "  676/4818  Done Processing Problem Id: 717"
       ]
      },
      {
       "output_type": "stream",
       "stream": "stdout",
       "text": [
        "\n",
        "  677/4818  Done Processing Problem Id: 718"
       ]
      },
      {
       "output_type": "stream",
       "stream": "stdout",
       "text": [
        "\n",
        "  678/4818  Done Processing Problem Id: 719"
       ]
      },
      {
       "output_type": "stream",
       "stream": "stdout",
       "text": [
        "\n",
        "  679/4818  Done Processing Problem Id: 720"
       ]
      },
      {
       "output_type": "stream",
       "stream": "stdout",
       "text": [
        "\n",
        "  680/4818  Done Processing Problem Id: 721"
       ]
      },
      {
       "output_type": "stream",
       "stream": "stdout",
       "text": [
        "\n",
        "  681/4818  Done Processing Problem Id: 722"
       ]
      },
      {
       "output_type": "stream",
       "stream": "stdout",
       "text": [
        "\n",
        "  682/4818  Done Processing Problem Id: 723"
       ]
      },
      {
       "output_type": "stream",
       "stream": "stdout",
       "text": [
        "\n",
        "  683/4818  Done Processing Problem Id: 724"
       ]
      },
      {
       "output_type": "stream",
       "stream": "stdout",
       "text": [
        "\n",
        "  684/4818  Done Processing Problem Id: 725"
       ]
      },
      {
       "output_type": "stream",
       "stream": "stdout",
       "text": [
        "\n",
        "  685/4818  Done Processing Problem Id: 726"
       ]
      },
      {
       "output_type": "stream",
       "stream": "stdout",
       "text": [
        "\n",
        "  686/4818  Done Processing Problem Id: 727"
       ]
      },
      {
       "output_type": "stream",
       "stream": "stdout",
       "text": [
        "\n",
        "  687/4818  Done Processing Problem Id: 728"
       ]
      },
      {
       "output_type": "stream",
       "stream": "stdout",
       "text": [
        "\n",
        "  688/4818  Done Processing Problem Id: 729"
       ]
      },
      {
       "output_type": "stream",
       "stream": "stdout",
       "text": [
        "\n",
        "  689/4818  Done Processing Problem Id: 730"
       ]
      },
      {
       "output_type": "stream",
       "stream": "stdout",
       "text": [
        "\n",
        "  690/4818  Done Processing Problem Id: 731"
       ]
      },
      {
       "output_type": "stream",
       "stream": "stdout",
       "text": [
        "\n",
        "  691/4818  Done Processing Problem Id: 732"
       ]
      },
      {
       "output_type": "stream",
       "stream": "stdout",
       "text": [
        "\n",
        "  692/4818  Done Processing Problem Id: 733"
       ]
      },
      {
       "output_type": "stream",
       "stream": "stdout",
       "text": [
        "\n",
        "  693/4818  Done Processing Problem Id: 734"
       ]
      },
      {
       "output_type": "stream",
       "stream": "stdout",
       "text": [
        "\n",
        "  694/4818  Done Processing Problem Id: 735"
       ]
      },
      {
       "output_type": "stream",
       "stream": "stdout",
       "text": [
        "\n",
        "  695/4818  Done Processing Problem Id: 736"
       ]
      },
      {
       "output_type": "stream",
       "stream": "stdout",
       "text": [
        "\n",
        "  696/4818  Done Processing Problem Id: 737"
       ]
      },
      {
       "output_type": "stream",
       "stream": "stdout",
       "text": [
        "\n",
        "  697/4818  Done Processing Problem Id: 738"
       ]
      },
      {
       "output_type": "stream",
       "stream": "stdout",
       "text": [
        "\n",
        "  698/4818  Done Processing Problem Id: 739"
       ]
      },
      {
       "output_type": "stream",
       "stream": "stdout",
       "text": [
        "\n",
        "  699/4818  Done Processing Problem Id: 740"
       ]
      },
      {
       "output_type": "stream",
       "stream": "stdout",
       "text": [
        "\n",
        "  700/4818  Done Processing Problem Id: 741"
       ]
      },
      {
       "output_type": "stream",
       "stream": "stdout",
       "text": [
        "\n",
        "  701/4818  Done Processing Problem Id: 742"
       ]
      },
      {
       "output_type": "stream",
       "stream": "stdout",
       "text": [
        "\n",
        "  702/4818  Done Processing Problem Id: 743"
       ]
      },
      {
       "output_type": "stream",
       "stream": "stdout",
       "text": [
        "\n",
        "  703/4818  Done Processing Problem Id: 744"
       ]
      },
      {
       "output_type": "stream",
       "stream": "stdout",
       "text": [
        "\n",
        "  704/4818  Done Processing Problem Id: 745"
       ]
      },
      {
       "output_type": "stream",
       "stream": "stdout",
       "text": [
        "\n",
        "  705/4818  Done Processing Problem Id: 746"
       ]
      },
      {
       "output_type": "stream",
       "stream": "stdout",
       "text": [
        "\n",
        "  706/4818  Done Processing Problem Id: 747"
       ]
      },
      {
       "output_type": "stream",
       "stream": "stdout",
       "text": [
        "\n",
        "  707/4818  Done Processing Problem Id: 748"
       ]
      },
      {
       "output_type": "stream",
       "stream": "stdout",
       "text": [
        "\n",
        "  708/4818  Done Processing Problem Id: 749"
       ]
      },
      {
       "output_type": "stream",
       "stream": "stdout",
       "text": [
        "\n",
        "  709/4818  Done Processing Problem Id: 750"
       ]
      },
      {
       "output_type": "stream",
       "stream": "stdout",
       "text": [
        "\n",
        "  710/4818  Done Processing Problem Id: 751"
       ]
      },
      {
       "output_type": "stream",
       "stream": "stdout",
       "text": [
        "\n",
        "  711/4818  Done Processing Problem Id: 752"
       ]
      },
      {
       "output_type": "stream",
       "stream": "stdout",
       "text": [
        "\n",
        "  712/4818  Done Processing Problem Id: 753"
       ]
      },
      {
       "output_type": "stream",
       "stream": "stdout",
       "text": [
        "\n",
        "  713/4818  Done Processing Problem Id: 754"
       ]
      },
      {
       "output_type": "stream",
       "stream": "stdout",
       "text": [
        "\n",
        "  714/4818  Done Processing Problem Id: 755"
       ]
      },
      {
       "output_type": "stream",
       "stream": "stdout",
       "text": [
        "\n",
        "  715/4818  Done Processing Problem Id: 756"
       ]
      },
      {
       "output_type": "stream",
       "stream": "stdout",
       "text": [
        "\n",
        "  716/4818  Done Processing Problem Id: 757"
       ]
      },
      {
       "output_type": "stream",
       "stream": "stdout",
       "text": [
        "\n",
        "  717/4818  Done Processing Problem Id: 758"
       ]
      },
      {
       "output_type": "stream",
       "stream": "stdout",
       "text": [
        "\n",
        "  718/4818  Done Processing Problem Id: 759"
       ]
      },
      {
       "output_type": "stream",
       "stream": "stdout",
       "text": [
        "\n",
        "  719/4818  Done Processing Problem Id: 760"
       ]
      },
      {
       "output_type": "stream",
       "stream": "stdout",
       "text": [
        "\n",
        "  720/4818  Done Processing Problem Id: 761"
       ]
      },
      {
       "output_type": "stream",
       "stream": "stdout",
       "text": [
        "\n",
        "  721/4818  Done Processing Problem Id: 762"
       ]
      },
      {
       "output_type": "stream",
       "stream": "stdout",
       "text": [
        "\n",
        "  722/4818  Done Processing Problem Id: 763"
       ]
      },
      {
       "output_type": "stream",
       "stream": "stdout",
       "text": [
        "\n",
        "  723/4818  Done Processing Problem Id: 764"
       ]
      },
      {
       "output_type": "stream",
       "stream": "stdout",
       "text": [
        "\n",
        "  724/4818  Done Processing Problem Id: 765"
       ]
      },
      {
       "output_type": "stream",
       "stream": "stdout",
       "text": [
        "\n",
        "  725/4818  Done Processing Problem Id: 766"
       ]
      },
      {
       "output_type": "stream",
       "stream": "stdout",
       "text": [
        "\n",
        "  726/4818  Done Processing Problem Id: 767"
       ]
      },
      {
       "output_type": "stream",
       "stream": "stdout",
       "text": [
        "\n",
        "  727/4818  Done Processing Problem Id: 768"
       ]
      },
      {
       "output_type": "stream",
       "stream": "stdout",
       "text": [
        "\n",
        "  728/4818  Done Processing Problem Id: 769"
       ]
      },
      {
       "output_type": "stream",
       "stream": "stdout",
       "text": [
        "\n",
        "  729/4818  Done Processing Problem Id: 770"
       ]
      },
      {
       "output_type": "stream",
       "stream": "stdout",
       "text": [
        "\n",
        "  730/4818  Done Processing Problem Id: 771"
       ]
      },
      {
       "output_type": "stream",
       "stream": "stdout",
       "text": [
        "\n",
        "  731/4818  Done Processing Problem Id: 772"
       ]
      },
      {
       "output_type": "stream",
       "stream": "stdout",
       "text": [
        "\n",
        "  732/4818  Done Processing Problem Id: 773"
       ]
      },
      {
       "output_type": "stream",
       "stream": "stdout",
       "text": [
        "\n",
        "  733/4818  Done Processing Problem Id: 774"
       ]
      },
      {
       "output_type": "stream",
       "stream": "stdout",
       "text": [
        "\n",
        "  734/4818  Done Processing Problem Id: 775"
       ]
      },
      {
       "output_type": "stream",
       "stream": "stdout",
       "text": [
        "\n",
        "  735/4818  Done Processing Problem Id: 776"
       ]
      },
      {
       "output_type": "stream",
       "stream": "stdout",
       "text": [
        "\n",
        "  736/4818  Done Processing Problem Id: 777"
       ]
      },
      {
       "output_type": "stream",
       "stream": "stdout",
       "text": [
        "\n",
        "  737/4818  Done Processing Problem Id: 778"
       ]
      },
      {
       "output_type": "stream",
       "stream": "stdout",
       "text": [
        "\n",
        "  738/4818  Done Processing Problem Id: 779"
       ]
      },
      {
       "output_type": "stream",
       "stream": "stdout",
       "text": [
        "\n",
        "  739/4818  Done Processing Problem Id: 780"
       ]
      },
      {
       "output_type": "stream",
       "stream": "stdout",
       "text": [
        "\n",
        "  740/4818  Done Processing Problem Id: 781"
       ]
      },
      {
       "output_type": "stream",
       "stream": "stdout",
       "text": [
        "\n",
        "  741/4818  Done Processing Problem Id: 782"
       ]
      },
      {
       "output_type": "stream",
       "stream": "stdout",
       "text": [
        "\n",
        "  742/4818  Done Processing Problem Id: 783"
       ]
      },
      {
       "output_type": "stream",
       "stream": "stdout",
       "text": [
        "\n",
        "  743/4818  Done Processing Problem Id: 784"
       ]
      },
      {
       "output_type": "stream",
       "stream": "stdout",
       "text": [
        "\n",
        "  744/4818  Done Processing Problem Id: 785"
       ]
      },
      {
       "output_type": "stream",
       "stream": "stdout",
       "text": [
        "\n",
        "  745/4818  Done Processing Problem Id: 786"
       ]
      },
      {
       "output_type": "stream",
       "stream": "stdout",
       "text": [
        "\n",
        "  746/4818  Done Processing Problem Id: 787"
       ]
      },
      {
       "output_type": "stream",
       "stream": "stdout",
       "text": [
        "\n",
        "  747/4818  Done Processing Problem Id: 788"
       ]
      },
      {
       "output_type": "stream",
       "stream": "stdout",
       "text": [
        "\n",
        "  748/4818  Done Processing Problem Id: 789"
       ]
      },
      {
       "output_type": "stream",
       "stream": "stdout",
       "text": [
        "\n",
        "  749/4818  Done Processing Problem Id: 790"
       ]
      },
      {
       "output_type": "stream",
       "stream": "stdout",
       "text": [
        "\n",
        "  750/4818  Done Processing Problem Id: 791"
       ]
      },
      {
       "output_type": "stream",
       "stream": "stdout",
       "text": [
        "\n",
        "  751/4818  Done Processing Problem Id: 792"
       ]
      },
      {
       "output_type": "stream",
       "stream": "stdout",
       "text": [
        "\n",
        "  752/4818  Done Processing Problem Id: 793"
       ]
      },
      {
       "output_type": "stream",
       "stream": "stdout",
       "text": [
        "\n",
        "  753/4818  Done Processing Problem Id: 794"
       ]
      },
      {
       "output_type": "stream",
       "stream": "stdout",
       "text": [
        "\n",
        "  754/4818  Done Processing Problem Id: 795"
       ]
      },
      {
       "output_type": "stream",
       "stream": "stdout",
       "text": [
        "\n",
        "  755/4818  Done Processing Problem Id: 796"
       ]
      },
      {
       "output_type": "stream",
       "stream": "stdout",
       "text": [
        "\n",
        "  756/4818  Done Processing Problem Id: 797"
       ]
      },
      {
       "output_type": "stream",
       "stream": "stdout",
       "text": [
        "\n",
        "  757/4818  Done Processing Problem Id: 798"
       ]
      },
      {
       "output_type": "stream",
       "stream": "stdout",
       "text": [
        "\n",
        "  758/4818  Done Processing Problem Id: 799"
       ]
      },
      {
       "output_type": "stream",
       "stream": "stdout",
       "text": [
        "\n",
        "  759/4818  Done Processing Problem Id: 800"
       ]
      },
      {
       "output_type": "stream",
       "stream": "stdout",
       "text": [
        "\n",
        "  760/4818  Done Processing Problem Id: 801"
       ]
      },
      {
       "output_type": "stream",
       "stream": "stdout",
       "text": [
        "\n",
        "  761/4818  Done Processing Problem Id: 802"
       ]
      },
      {
       "output_type": "stream",
       "stream": "stdout",
       "text": [
        "\n",
        "  762/4818  Done Processing Problem Id: 803"
       ]
      },
      {
       "output_type": "stream",
       "stream": "stdout",
       "text": [
        "\n",
        "  763/4818  Done Processing Problem Id: 804"
       ]
      },
      {
       "output_type": "stream",
       "stream": "stdout",
       "text": [
        "\n",
        "  764/4818  Done Processing Problem Id: 805"
       ]
      },
      {
       "output_type": "stream",
       "stream": "stdout",
       "text": [
        "\n",
        "  765/4818  Done Processing Problem Id: 806"
       ]
      },
      {
       "output_type": "stream",
       "stream": "stdout",
       "text": [
        "\n",
        "  766/4818  Done Processing Problem Id: 807"
       ]
      },
      {
       "output_type": "stream",
       "stream": "stdout",
       "text": [
        "\n",
        "  767/4818  Done Processing Problem Id: 808"
       ]
      },
      {
       "output_type": "stream",
       "stream": "stdout",
       "text": [
        "\n",
        "  768/4818  Done Processing Problem Id: 809"
       ]
      },
      {
       "output_type": "stream",
       "stream": "stdout",
       "text": [
        "\n",
        "  769/4818  Done Processing Problem Id: 810"
       ]
      },
      {
       "output_type": "stream",
       "stream": "stdout",
       "text": [
        "\n",
        "  770/4818  Done Processing Problem Id: 811"
       ]
      },
      {
       "output_type": "stream",
       "stream": "stdout",
       "text": [
        "\n",
        "  771/4818  Done Processing Problem Id: 812"
       ]
      },
      {
       "output_type": "stream",
       "stream": "stdout",
       "text": [
        "\n",
        "  772/4818  Done Processing Problem Id: 813"
       ]
      },
      {
       "output_type": "stream",
       "stream": "stdout",
       "text": [
        "\n",
        "  773/4818  Done Processing Problem Id: 814"
       ]
      },
      {
       "output_type": "stream",
       "stream": "stdout",
       "text": [
        "\n",
        "  774/4818  Done Processing Problem Id: 815"
       ]
      },
      {
       "output_type": "stream",
       "stream": "stdout",
       "text": [
        "\n",
        "  775/4818  Done Processing Problem Id: 816"
       ]
      },
      {
       "output_type": "stream",
       "stream": "stdout",
       "text": [
        "\n",
        "  776/4818  Done Processing Problem Id: 817"
       ]
      },
      {
       "output_type": "stream",
       "stream": "stdout",
       "text": [
        "\n",
        "  777/4818  Done Processing Problem Id: 818"
       ]
      },
      {
       "output_type": "stream",
       "stream": "stdout",
       "text": [
        "\n",
        "  778/4818  Done Processing Problem Id: 819"
       ]
      },
      {
       "output_type": "stream",
       "stream": "stdout",
       "text": [
        "\n",
        "  779/4818  Done Processing Problem Id: 820"
       ]
      },
      {
       "output_type": "stream",
       "stream": "stdout",
       "text": [
        "\n",
        "  780/4818  Done Processing Problem Id: 821"
       ]
      },
      {
       "output_type": "stream",
       "stream": "stdout",
       "text": [
        "\n",
        "  781/4818  Done Processing Problem Id: 822"
       ]
      },
      {
       "output_type": "stream",
       "stream": "stdout",
       "text": [
        "\n",
        "  782/4818  Done Processing Problem Id: 823"
       ]
      },
      {
       "output_type": "stream",
       "stream": "stdout",
       "text": [
        "\n",
        "  783/4818  Done Processing Problem Id: 824"
       ]
      },
      {
       "output_type": "stream",
       "stream": "stdout",
       "text": [
        "\n",
        "  784/4818  Done Processing Problem Id: 825"
       ]
      },
      {
       "output_type": "stream",
       "stream": "stdout",
       "text": [
        "\n",
        "  785/4818  Done Processing Problem Id: 826"
       ]
      },
      {
       "output_type": "stream",
       "stream": "stdout",
       "text": [
        "\n",
        "  786/4818  Done Processing Problem Id: 827"
       ]
      },
      {
       "output_type": "stream",
       "stream": "stdout",
       "text": [
        "\n",
        "  787/4818  Done Processing Problem Id: 828"
       ]
      },
      {
       "output_type": "stream",
       "stream": "stdout",
       "text": [
        "\n",
        "  788/4818  Done Processing Problem Id: 829"
       ]
      },
      {
       "output_type": "stream",
       "stream": "stdout",
       "text": [
        "\n",
        "  789/4818  Done Processing Problem Id: 830"
       ]
      },
      {
       "output_type": "stream",
       "stream": "stdout",
       "text": [
        "\n",
        "  790/4818  Done Processing Problem Id: 831"
       ]
      },
      {
       "output_type": "stream",
       "stream": "stdout",
       "text": [
        "\n",
        "  791/4818  Done Processing Problem Id: 832"
       ]
      },
      {
       "output_type": "stream",
       "stream": "stdout",
       "text": [
        "\n",
        "  792/4818  Done Processing Problem Id: 833"
       ]
      },
      {
       "output_type": "stream",
       "stream": "stdout",
       "text": [
        "\n",
        "  793/4818  Done Processing Problem Id: 834"
       ]
      },
      {
       "output_type": "stream",
       "stream": "stdout",
       "text": [
        "\n",
        "  794/4818  Done Processing Problem Id: 835"
       ]
      },
      {
       "output_type": "stream",
       "stream": "stdout",
       "text": [
        "\n",
        "  795/4818  Done Processing Problem Id: 836"
       ]
      },
      {
       "output_type": "stream",
       "stream": "stdout",
       "text": [
        "\n",
        "  796/4818  Done Processing Problem Id: 837"
       ]
      },
      {
       "output_type": "stream",
       "stream": "stdout",
       "text": [
        "\n",
        "  797/4818  Done Processing Problem Id: 838"
       ]
      },
      {
       "output_type": "stream",
       "stream": "stdout",
       "text": [
        "\n",
        "  798/4818  Done Processing Problem Id: 839"
       ]
      },
      {
       "output_type": "stream",
       "stream": "stdout",
       "text": [
        "\n",
        "  799/4818  Done Processing Problem Id: 840"
       ]
      },
      {
       "output_type": "stream",
       "stream": "stdout",
       "text": [
        "\n",
        "  800/4818  Done Processing Problem Id: 841"
       ]
      },
      {
       "output_type": "stream",
       "stream": "stdout",
       "text": [
        "\n",
        "  801/4818  Done Processing Problem Id: 842"
       ]
      },
      {
       "output_type": "stream",
       "stream": "stdout",
       "text": [
        "\n",
        "  802/4818  Done Processing Problem Id: 843"
       ]
      },
      {
       "output_type": "stream",
       "stream": "stdout",
       "text": [
        "\n",
        "  803/4818  Done Processing Problem Id: 844"
       ]
      },
      {
       "output_type": "stream",
       "stream": "stdout",
       "text": [
        "\n",
        "  804/4818  Done Processing Problem Id: 845"
       ]
      },
      {
       "output_type": "stream",
       "stream": "stdout",
       "text": [
        "\n",
        "  805/4818  Done Processing Problem Id: 846"
       ]
      },
      {
       "output_type": "stream",
       "stream": "stdout",
       "text": [
        "\n",
        "  806/4818  Done Processing Problem Id: 847"
       ]
      },
      {
       "output_type": "stream",
       "stream": "stdout",
       "text": [
        "\n",
        "  807/4818  Done Processing Problem Id: 848"
       ]
      },
      {
       "output_type": "stream",
       "stream": "stdout",
       "text": [
        "\n",
        "  808/4818  Done Processing Problem Id: 849"
       ]
      },
      {
       "output_type": "stream",
       "stream": "stdout",
       "text": [
        "\n",
        "  809/4818  Done Processing Problem Id: 850"
       ]
      },
      {
       "output_type": "stream",
       "stream": "stdout",
       "text": [
        "\n",
        "  810/4818  Done Processing Problem Id: 851"
       ]
      },
      {
       "output_type": "stream",
       "stream": "stdout",
       "text": [
        "\n",
        "  811/4818  Done Processing Problem Id: 852"
       ]
      },
      {
       "output_type": "stream",
       "stream": "stdout",
       "text": [
        "\n",
        "  812/4818  Done Processing Problem Id: 853"
       ]
      },
      {
       "output_type": "stream",
       "stream": "stdout",
       "text": [
        "\n",
        "  813/4818  Done Processing Problem Id: 854"
       ]
      },
      {
       "output_type": "stream",
       "stream": "stdout",
       "text": [
        "\n",
        "  814/4818  Done Processing Problem Id: 855"
       ]
      },
      {
       "output_type": "stream",
       "stream": "stdout",
       "text": [
        "\n",
        "  815/4818  Done Processing Problem Id: 856"
       ]
      },
      {
       "output_type": "stream",
       "stream": "stdout",
       "text": [
        "\n",
        "  816/4818  Done Processing Problem Id: 857"
       ]
      },
      {
       "output_type": "stream",
       "stream": "stdout",
       "text": [
        "\n",
        "  817/4818  Done Processing Problem Id: 858"
       ]
      },
      {
       "output_type": "stream",
       "stream": "stdout",
       "text": [
        "\n",
        "  818/4818  Done Processing Problem Id: 859"
       ]
      },
      {
       "output_type": "stream",
       "stream": "stdout",
       "text": [
        "\n",
        "  819/4818  Done Processing Problem Id: 860"
       ]
      },
      {
       "output_type": "stream",
       "stream": "stdout",
       "text": [
        "\n",
        "  820/4818  Done Processing Problem Id: 861"
       ]
      },
      {
       "output_type": "stream",
       "stream": "stdout",
       "text": [
        "\n",
        "  821/4818  Done Processing Problem Id: 862"
       ]
      },
      {
       "output_type": "stream",
       "stream": "stdout",
       "text": [
        "\n",
        "  822/4818  Done Processing Problem Id: 863"
       ]
      },
      {
       "output_type": "stream",
       "stream": "stdout",
       "text": [
        "\n",
        "  823/4818  Done Processing Problem Id: 864"
       ]
      },
      {
       "output_type": "stream",
       "stream": "stdout",
       "text": [
        "\n",
        "  824/4818  Done Processing Problem Id: 865"
       ]
      },
      {
       "output_type": "stream",
       "stream": "stdout",
       "text": [
        "\n",
        "  825/4818  Done Processing Problem Id: 866"
       ]
      },
      {
       "output_type": "stream",
       "stream": "stdout",
       "text": [
        "\n",
        "  826/4818  Done Processing Problem Id: 867"
       ]
      },
      {
       "output_type": "stream",
       "stream": "stdout",
       "text": [
        "\n",
        "  827/4818  Done Processing Problem Id: 868"
       ]
      },
      {
       "output_type": "stream",
       "stream": "stdout",
       "text": [
        "\n",
        "  828/4818  Done Processing Problem Id: 869"
       ]
      },
      {
       "output_type": "stream",
       "stream": "stdout",
       "text": [
        "\n",
        "  829/4818  Done Processing Problem Id: 870"
       ]
      },
      {
       "output_type": "stream",
       "stream": "stdout",
       "text": [
        "\n",
        "  830/4818  Done Processing Problem Id: 871"
       ]
      },
      {
       "output_type": "stream",
       "stream": "stdout",
       "text": [
        "\n",
        "  831/4818  Done Processing Problem Id: 872"
       ]
      },
      {
       "output_type": "stream",
       "stream": "stdout",
       "text": [
        "\n",
        "  832/4818  Done Processing Problem Id: 873"
       ]
      },
      {
       "output_type": "stream",
       "stream": "stdout",
       "text": [
        "\n",
        "  833/4818  Done Processing Problem Id: 874"
       ]
      },
      {
       "output_type": "stream",
       "stream": "stdout",
       "text": [
        "\n",
        "  834/4818  Done Processing Problem Id: 875"
       ]
      },
      {
       "output_type": "stream",
       "stream": "stdout",
       "text": [
        "\n",
        "  835/4818  Done Processing Problem Id: 876"
       ]
      },
      {
       "output_type": "stream",
       "stream": "stdout",
       "text": [
        "\n",
        "  836/4818  Done Processing Problem Id: 877"
       ]
      },
      {
       "output_type": "stream",
       "stream": "stdout",
       "text": [
        "\n",
        "  837/4818  Done Processing Problem Id: 878"
       ]
      },
      {
       "output_type": "stream",
       "stream": "stdout",
       "text": [
        "\n",
        "  838/4818  Done Processing Problem Id: 879"
       ]
      },
      {
       "output_type": "stream",
       "stream": "stdout",
       "text": [
        "\n",
        "  839/4818  Done Processing Problem Id: 880"
       ]
      },
      {
       "output_type": "stream",
       "stream": "stdout",
       "text": [
        "\n",
        "  840/4818  Done Processing Problem Id: 881"
       ]
      },
      {
       "output_type": "stream",
       "stream": "stdout",
       "text": [
        "\n",
        "  841/4818  Done Processing Problem Id: 882"
       ]
      },
      {
       "output_type": "stream",
       "stream": "stdout",
       "text": [
        "\n",
        "  842/4818  Done Processing Problem Id: 883"
       ]
      },
      {
       "output_type": "stream",
       "stream": "stdout",
       "text": [
        "\n",
        "  843/4818  Done Processing Problem Id: 884"
       ]
      },
      {
       "output_type": "stream",
       "stream": "stdout",
       "text": [
        "\n",
        "  844/4818  Done Processing Problem Id: 885"
       ]
      },
      {
       "output_type": "stream",
       "stream": "stdout",
       "text": [
        "\n",
        "  845/4818  Done Processing Problem Id: 886"
       ]
      },
      {
       "output_type": "stream",
       "stream": "stdout",
       "text": [
        "\n",
        "  846/4818  Done Processing Problem Id: 887"
       ]
      },
      {
       "output_type": "stream",
       "stream": "stdout",
       "text": [
        "\n",
        "  847/4818  Done Processing Problem Id: 888"
       ]
      },
      {
       "output_type": "stream",
       "stream": "stdout",
       "text": [
        "\n",
        "  848/4818  Done Processing Problem Id: 889"
       ]
      },
      {
       "output_type": "stream",
       "stream": "stdout",
       "text": [
        "\n",
        "  849/4818  Done Processing Problem Id: 890"
       ]
      },
      {
       "output_type": "stream",
       "stream": "stdout",
       "text": [
        "\n",
        "  850/4818  Done Processing Problem Id: 891"
       ]
      },
      {
       "output_type": "stream",
       "stream": "stdout",
       "text": [
        "\n",
        "  851/4818  Done Processing Problem Id: 892"
       ]
      },
      {
       "output_type": "stream",
       "stream": "stdout",
       "text": [
        "\n",
        "  852/4818  Done Processing Problem Id: 893"
       ]
      },
      {
       "output_type": "stream",
       "stream": "stdout",
       "text": [
        "\n",
        "  853/4818  Done Processing Problem Id: 894"
       ]
      },
      {
       "output_type": "stream",
       "stream": "stdout",
       "text": [
        "\n",
        "  854/4818  Done Processing Problem Id: 895"
       ]
      },
      {
       "output_type": "stream",
       "stream": "stdout",
       "text": [
        "\n",
        "  855/4818  Done Processing Problem Id: 896"
       ]
      },
      {
       "output_type": "stream",
       "stream": "stdout",
       "text": [
        "\n",
        "  856/4818  Done Processing Problem Id: 897"
       ]
      },
      {
       "output_type": "stream",
       "stream": "stdout",
       "text": [
        "\n",
        "  857/4818  Done Processing Problem Id: 898"
       ]
      },
      {
       "output_type": "stream",
       "stream": "stdout",
       "text": [
        "\n",
        "  858/4818  Done Processing Problem Id: 899"
       ]
      },
      {
       "output_type": "stream",
       "stream": "stdout",
       "text": [
        "\n",
        "  859/4818  Done Processing Problem Id: 900"
       ]
      },
      {
       "output_type": "stream",
       "stream": "stdout",
       "text": [
        "\n",
        "  860/4818  Done Processing Problem Id: 901"
       ]
      },
      {
       "output_type": "stream",
       "stream": "stdout",
       "text": [
        "\n",
        "  861/4818  Done Processing Problem Id: 902"
       ]
      },
      {
       "output_type": "stream",
       "stream": "stdout",
       "text": [
        "\n",
        "  862/4818  Done Processing Problem Id: 903"
       ]
      },
      {
       "output_type": "stream",
       "stream": "stdout",
       "text": [
        "\n",
        "  863/4818  Done Processing Problem Id: 904"
       ]
      },
      {
       "output_type": "stream",
       "stream": "stdout",
       "text": [
        "\n",
        "  864/4818  Done Processing Problem Id: 905"
       ]
      },
      {
       "output_type": "stream",
       "stream": "stdout",
       "text": [
        "\n",
        "  865/4818  Done Processing Problem Id: 906"
       ]
      },
      {
       "output_type": "stream",
       "stream": "stdout",
       "text": [
        "\n",
        "  866/4818  Done Processing Problem Id: 907"
       ]
      },
      {
       "output_type": "stream",
       "stream": "stdout",
       "text": [
        "\n",
        "  867/4818  Done Processing Problem Id: 908"
       ]
      },
      {
       "output_type": "stream",
       "stream": "stdout",
       "text": [
        "\n",
        "  868/4818  Done Processing Problem Id: 909"
       ]
      },
      {
       "output_type": "stream",
       "stream": "stdout",
       "text": [
        "\n",
        "  869/4818  Done Processing Problem Id: 910"
       ]
      },
      {
       "output_type": "stream",
       "stream": "stdout",
       "text": [
        "\n",
        "  870/4818  Done Processing Problem Id: 911"
       ]
      },
      {
       "output_type": "stream",
       "stream": "stdout",
       "text": [
        "\n",
        "  871/4818  Done Processing Problem Id: 912"
       ]
      },
      {
       "output_type": "stream",
       "stream": "stdout",
       "text": [
        "\n",
        "  872/4818  Done Processing Problem Id: 913"
       ]
      },
      {
       "output_type": "stream",
       "stream": "stdout",
       "text": [
        "\n",
        "  873/4818  Done Processing Problem Id: 914"
       ]
      },
      {
       "output_type": "stream",
       "stream": "stdout",
       "text": [
        "\n",
        "  874/4818  Done Processing Problem Id: 915"
       ]
      },
      {
       "output_type": "stream",
       "stream": "stdout",
       "text": [
        "\n",
        "  875/4818  Done Processing Problem Id: 916"
       ]
      },
      {
       "output_type": "stream",
       "stream": "stdout",
       "text": [
        "\n",
        "  876/4818  Done Processing Problem Id: 917"
       ]
      },
      {
       "output_type": "stream",
       "stream": "stdout",
       "text": [
        "\n",
        "  877/4818  Done Processing Problem Id: 918"
       ]
      },
      {
       "output_type": "stream",
       "stream": "stdout",
       "text": [
        "\n",
        "  878/4818  Done Processing Problem Id: 919"
       ]
      },
      {
       "output_type": "stream",
       "stream": "stdout",
       "text": [
        "\n",
        "  879/4818  Done Processing Problem Id: 920"
       ]
      },
      {
       "output_type": "stream",
       "stream": "stdout",
       "text": [
        "\n",
        "  880/4818  Done Processing Problem Id: 921"
       ]
      },
      {
       "output_type": "stream",
       "stream": "stdout",
       "text": [
        "\n",
        "  881/4818  Done Processing Problem Id: 922"
       ]
      },
      {
       "output_type": "stream",
       "stream": "stdout",
       "text": [
        "\n",
        "  882/4818  Done Processing Problem Id: 923"
       ]
      },
      {
       "output_type": "stream",
       "stream": "stdout",
       "text": [
        "\n",
        "  883/4818  Done Processing Problem Id: 924"
       ]
      },
      {
       "output_type": "stream",
       "stream": "stdout",
       "text": [
        "\n",
        "  884/4818  Done Processing Problem Id: 925"
       ]
      },
      {
       "output_type": "stream",
       "stream": "stdout",
       "text": [
        "\n",
        "  885/4818  Done Processing Problem Id: 926"
       ]
      },
      {
       "output_type": "stream",
       "stream": "stdout",
       "text": [
        "\n",
        "  886/4818  Done Processing Problem Id: 927"
       ]
      },
      {
       "output_type": "stream",
       "stream": "stdout",
       "text": [
        "\n",
        "  887/4818  Done Processing Problem Id: 928"
       ]
      },
      {
       "output_type": "stream",
       "stream": "stdout",
       "text": [
        "\n",
        "  888/4818  Done Processing Problem Id: 929"
       ]
      },
      {
       "output_type": "stream",
       "stream": "stdout",
       "text": [
        "\n",
        "  889/4818  Done Processing Problem Id: 930"
       ]
      },
      {
       "output_type": "stream",
       "stream": "stdout",
       "text": [
        "\n",
        "  890/4818  Done Processing Problem Id: 931"
       ]
      },
      {
       "output_type": "stream",
       "stream": "stdout",
       "text": [
        "\n",
        "  891/4818  Done Processing Problem Id: 932"
       ]
      },
      {
       "output_type": "stream",
       "stream": "stdout",
       "text": [
        "\n",
        "  892/4818  Done Processing Problem Id: 933"
       ]
      },
      {
       "output_type": "stream",
       "stream": "stdout",
       "text": [
        "\n",
        "  893/4818  Done Processing Problem Id: 934"
       ]
      },
      {
       "output_type": "stream",
       "stream": "stdout",
       "text": [
        "\n",
        "  894/4818  Done Processing Problem Id: 935"
       ]
      },
      {
       "output_type": "stream",
       "stream": "stdout",
       "text": [
        "\n",
        "  895/4818  Done Processing Problem Id: 936"
       ]
      },
      {
       "output_type": "stream",
       "stream": "stdout",
       "text": [
        "\n",
        "  896/4818  Done Processing Problem Id: 937"
       ]
      },
      {
       "output_type": "stream",
       "stream": "stdout",
       "text": [
        "\n",
        "  897/4818  Done Processing Problem Id: 938"
       ]
      },
      {
       "output_type": "stream",
       "stream": "stdout",
       "text": [
        "\n",
        "  898/4818  Done Processing Problem Id: 939"
       ]
      },
      {
       "output_type": "stream",
       "stream": "stdout",
       "text": [
        "\n",
        "  899/4818  Done Processing Problem Id: 940"
       ]
      },
      {
       "output_type": "stream",
       "stream": "stdout",
       "text": [
        "\n",
        "  900/4818  Done Processing Problem Id: 941"
       ]
      },
      {
       "output_type": "stream",
       "stream": "stdout",
       "text": [
        "\n",
        "  901/4818  Done Processing Problem Id: 942"
       ]
      },
      {
       "output_type": "stream",
       "stream": "stdout",
       "text": [
        "\n",
        "  902/4818  Done Processing Problem Id: 943"
       ]
      },
      {
       "output_type": "stream",
       "stream": "stdout",
       "text": [
        "\n",
        "  903/4818  Done Processing Problem Id: 944"
       ]
      },
      {
       "output_type": "stream",
       "stream": "stdout",
       "text": [
        "\n",
        "  904/4818  Done Processing Problem Id: 945"
       ]
      },
      {
       "output_type": "stream",
       "stream": "stdout",
       "text": [
        "\n",
        "  905/4818  Done Processing Problem Id: 946"
       ]
      },
      {
       "output_type": "stream",
       "stream": "stdout",
       "text": [
        "\n",
        "  906/4818  Done Processing Problem Id: 947"
       ]
      },
      {
       "output_type": "stream",
       "stream": "stdout",
       "text": [
        "\n",
        "  907/4818  Done Processing Problem Id: 948"
       ]
      },
      {
       "output_type": "stream",
       "stream": "stdout",
       "text": [
        "\n",
        "  908/4818  Done Processing Problem Id: 949"
       ]
      },
      {
       "output_type": "stream",
       "stream": "stdout",
       "text": [
        "\n",
        "  909/4818  Done Processing Problem Id: 950"
       ]
      },
      {
       "output_type": "stream",
       "stream": "stdout",
       "text": [
        "\n",
        "  910/4818  Done Processing Problem Id: 951"
       ]
      },
      {
       "output_type": "stream",
       "stream": "stdout",
       "text": [
        "\n",
        "  911/4818  Done Processing Problem Id: 952"
       ]
      },
      {
       "output_type": "stream",
       "stream": "stdout",
       "text": [
        "\n",
        "  912/4818  Done Processing Problem Id: 953"
       ]
      },
      {
       "output_type": "stream",
       "stream": "stdout",
       "text": [
        "\n",
        "  913/4818  Done Processing Problem Id: 954"
       ]
      },
      {
       "output_type": "stream",
       "stream": "stdout",
       "text": [
        "\n",
        "  914/4818  Done Processing Problem Id: 955"
       ]
      },
      {
       "output_type": "stream",
       "stream": "stdout",
       "text": [
        "\n",
        "  915/4818  Done Processing Problem Id: 956"
       ]
      },
      {
       "output_type": "stream",
       "stream": "stdout",
       "text": [
        "\n",
        "  916/4818  Done Processing Problem Id: 957"
       ]
      },
      {
       "output_type": "stream",
       "stream": "stdout",
       "text": [
        "\n",
        "  917/4818  Done Processing Problem Id: 958"
       ]
      },
      {
       "output_type": "stream",
       "stream": "stdout",
       "text": [
        "\n",
        "  918/4818  Done Processing Problem Id: 959"
       ]
      },
      {
       "output_type": "stream",
       "stream": "stdout",
       "text": [
        "\n",
        "  919/4818  Done Processing Problem Id: 960"
       ]
      },
      {
       "output_type": "stream",
       "stream": "stdout",
       "text": [
        "\n",
        "  920/4818  Done Processing Problem Id: 961"
       ]
      },
      {
       "output_type": "stream",
       "stream": "stdout",
       "text": [
        "\n",
        "  921/4818  Done Processing Problem Id: 962"
       ]
      },
      {
       "output_type": "stream",
       "stream": "stdout",
       "text": [
        "\n",
        "  922/4818  Done Processing Problem Id: 963"
       ]
      },
      {
       "output_type": "stream",
       "stream": "stdout",
       "text": [
        "\n",
        "  923/4818  Done Processing Problem Id: 964"
       ]
      },
      {
       "output_type": "stream",
       "stream": "stdout",
       "text": [
        "\n",
        "  924/4818  Done Processing Problem Id: 965"
       ]
      },
      {
       "output_type": "stream",
       "stream": "stdout",
       "text": [
        "\n",
        "  925/4818  Done Processing Problem Id: 966"
       ]
      },
      {
       "output_type": "stream",
       "stream": "stdout",
       "text": [
        "\n",
        "  926/4818  Done Processing Problem Id: 967"
       ]
      },
      {
       "output_type": "stream",
       "stream": "stdout",
       "text": [
        "\n",
        "  927/4818  Done Processing Problem Id: 968"
       ]
      },
      {
       "output_type": "stream",
       "stream": "stdout",
       "text": [
        "\n",
        "  928/4818  Done Processing Problem Id: 969"
       ]
      },
      {
       "output_type": "stream",
       "stream": "stdout",
       "text": [
        "\n",
        "  929/4818  Done Processing Problem Id: 970"
       ]
      },
      {
       "output_type": "stream",
       "stream": "stdout",
       "text": [
        "\n",
        "  930/4818  Done Processing Problem Id: 971"
       ]
      },
      {
       "output_type": "stream",
       "stream": "stdout",
       "text": [
        "\n",
        "  931/4818  Done Processing Problem Id: 972"
       ]
      },
      {
       "output_type": "stream",
       "stream": "stdout",
       "text": [
        "\n",
        "  932/4818  Done Processing Problem Id: 973"
       ]
      },
      {
       "output_type": "stream",
       "stream": "stdout",
       "text": [
        "\n",
        "  933/4818  Done Processing Problem Id: 974"
       ]
      },
      {
       "output_type": "stream",
       "stream": "stdout",
       "text": [
        "\n",
        "  934/4818  Done Processing Problem Id: 975"
       ]
      },
      {
       "output_type": "stream",
       "stream": "stdout",
       "text": [
        "\n",
        "  935/4818  Done Processing Problem Id: 976"
       ]
      },
      {
       "output_type": "stream",
       "stream": "stdout",
       "text": [
        "\n",
        "  936/4818  Done Processing Problem Id: 977"
       ]
      },
      {
       "output_type": "stream",
       "stream": "stdout",
       "text": [
        "\n",
        "  937/4818  Done Processing Problem Id: 978"
       ]
      },
      {
       "output_type": "stream",
       "stream": "stdout",
       "text": [
        "\n",
        "  938/4818  Done Processing Problem Id: 979"
       ]
      },
      {
       "output_type": "stream",
       "stream": "stdout",
       "text": [
        "\n",
        "  939/4818  Done Processing Problem Id: 980"
       ]
      },
      {
       "output_type": "stream",
       "stream": "stdout",
       "text": [
        "\n",
        "  940/4818  Done Processing Problem Id: 981"
       ]
      },
      {
       "output_type": "stream",
       "stream": "stdout",
       "text": [
        "\n",
        "  941/4818  Done Processing Problem Id: 982"
       ]
      },
      {
       "output_type": "stream",
       "stream": "stdout",
       "text": [
        "\n",
        "  942/4818  Done Processing Problem Id: 983"
       ]
      },
      {
       "output_type": "stream",
       "stream": "stdout",
       "text": [
        "\n",
        "  943/4818  Done Processing Problem Id: 984"
       ]
      },
      {
       "output_type": "stream",
       "stream": "stdout",
       "text": [
        "\n",
        "  944/4818  Done Processing Problem Id: 985"
       ]
      },
      {
       "output_type": "stream",
       "stream": "stdout",
       "text": [
        "\n",
        "  945/4818  Done Processing Problem Id: 986"
       ]
      },
      {
       "output_type": "stream",
       "stream": "stdout",
       "text": [
        "\n",
        "  946/4818  Done Processing Problem Id: 987"
       ]
      },
      {
       "output_type": "stream",
       "stream": "stdout",
       "text": [
        "\n",
        "  947/4818  Done Processing Problem Id: 988"
       ]
      },
      {
       "output_type": "stream",
       "stream": "stdout",
       "text": [
        "\n",
        "  948/4818  Done Processing Problem Id: 989"
       ]
      },
      {
       "output_type": "stream",
       "stream": "stdout",
       "text": [
        "\n",
        "  949/4818  Done Processing Problem Id: 990"
       ]
      },
      {
       "output_type": "stream",
       "stream": "stdout",
       "text": [
        "\n",
        "  950/4818  Done Processing Problem Id: 991"
       ]
      },
      {
       "output_type": "stream",
       "stream": "stdout",
       "text": [
        "\n",
        "  951/4818  Done Processing Problem Id: 992"
       ]
      },
      {
       "output_type": "stream",
       "stream": "stdout",
       "text": [
        "\n",
        "  952/4818  Done Processing Problem Id: 993"
       ]
      },
      {
       "output_type": "stream",
       "stream": "stdout",
       "text": [
        "\n",
        "  953/4818  Done Processing Problem Id: 994"
       ]
      },
      {
       "output_type": "stream",
       "stream": "stdout",
       "text": [
        "\n",
        "  954/4818  Done Processing Problem Id: 995"
       ]
      },
      {
       "output_type": "stream",
       "stream": "stdout",
       "text": [
        "\n",
        "  955/4818  Done Processing Problem Id: 996"
       ]
      },
      {
       "output_type": "stream",
       "stream": "stdout",
       "text": [
        "\n",
        "  956/4818  Done Processing Problem Id: 997"
       ]
      },
      {
       "output_type": "stream",
       "stream": "stdout",
       "text": [
        "\n",
        "  957/4818  Done Processing Problem Id: 998"
       ]
      },
      {
       "output_type": "stream",
       "stream": "stdout",
       "text": [
        "\n",
        "  958/4818  Done Processing Problem Id: 999"
       ]
      },
      {
       "output_type": "stream",
       "stream": "stdout",
       "text": [
        "\n",
        "  959/4818  Done Processing Problem Id: 1000"
       ]
      },
      {
       "output_type": "stream",
       "stream": "stdout",
       "text": [
        "\n",
        "  960/4818  Done Processing Problem Id: 1001"
       ]
      },
      {
       "output_type": "stream",
       "stream": "stdout",
       "text": [
        "\n",
        "  961/4818  Done Processing Problem Id: 1002"
       ]
      },
      {
       "output_type": "stream",
       "stream": "stdout",
       "text": [
        "\n",
        "  962/4818  Done Processing Problem Id: 1003"
       ]
      },
      {
       "output_type": "stream",
       "stream": "stdout",
       "text": [
        "\n",
        "  963/4818  Done Processing Problem Id: 1004"
       ]
      },
      {
       "output_type": "stream",
       "stream": "stdout",
       "text": [
        "\n",
        "  964/4818  Done Processing Problem Id: 1005"
       ]
      },
      {
       "output_type": "stream",
       "stream": "stdout",
       "text": [
        "\n",
        "  965/4818  Done Processing Problem Id: 1006"
       ]
      },
      {
       "output_type": "stream",
       "stream": "stdout",
       "text": [
        "\n",
        "  966/4818  Done Processing Problem Id: 1007"
       ]
      },
      {
       "output_type": "stream",
       "stream": "stdout",
       "text": [
        "\n",
        "  967/4818  Done Processing Problem Id: 1008"
       ]
      },
      {
       "output_type": "stream",
       "stream": "stdout",
       "text": [
        "\n",
        "  968/4818  Done Processing Problem Id: 1009"
       ]
      },
      {
       "output_type": "stream",
       "stream": "stdout",
       "text": [
        "\n",
        "  969/4818  Done Processing Problem Id: 1010"
       ]
      },
      {
       "output_type": "stream",
       "stream": "stdout",
       "text": [
        "\n",
        "  970/4818  Done Processing Problem Id: 1011"
       ]
      },
      {
       "output_type": "stream",
       "stream": "stdout",
       "text": [
        "\n",
        "  971/4818  Done Processing Problem Id: 1012"
       ]
      },
      {
       "output_type": "stream",
       "stream": "stdout",
       "text": [
        "\n",
        "  972/4818  Done Processing Problem Id: 1013"
       ]
      },
      {
       "output_type": "stream",
       "stream": "stdout",
       "text": [
        "\n",
        "  973/4818  Done Processing Problem Id: 1014"
       ]
      },
      {
       "output_type": "stream",
       "stream": "stdout",
       "text": [
        "\n",
        "  974/4818  Done Processing Problem Id: 1015"
       ]
      },
      {
       "output_type": "stream",
       "stream": "stdout",
       "text": [
        "\n",
        "  975/4818  Done Processing Problem Id: 1016"
       ]
      },
      {
       "output_type": "stream",
       "stream": "stdout",
       "text": [
        "\n",
        "  976/4818  Done Processing Problem Id: 1017"
       ]
      },
      {
       "output_type": "stream",
       "stream": "stdout",
       "text": [
        "\n",
        "  977/4818  Done Processing Problem Id: 1018"
       ]
      },
      {
       "output_type": "stream",
       "stream": "stdout",
       "text": [
        "\n",
        "  978/4818  Done Processing Problem Id: 1019"
       ]
      },
      {
       "output_type": "stream",
       "stream": "stdout",
       "text": [
        "\n",
        "  979/4818  Done Processing Problem Id: 1020"
       ]
      },
      {
       "output_type": "stream",
       "stream": "stdout",
       "text": [
        "\n",
        "  980/4818  Done Processing Problem Id: 1021"
       ]
      },
      {
       "output_type": "stream",
       "stream": "stdout",
       "text": [
        "\n",
        "  981/4818  Done Processing Problem Id: 1022"
       ]
      },
      {
       "output_type": "stream",
       "stream": "stdout",
       "text": [
        "\n",
        "  982/4818  Done Processing Problem Id: 1023"
       ]
      },
      {
       "output_type": "stream",
       "stream": "stdout",
       "text": [
        "\n",
        "  983/4818  Done Processing Problem Id: 1024"
       ]
      },
      {
       "output_type": "stream",
       "stream": "stdout",
       "text": [
        "\n",
        "  984/4818  Done Processing Problem Id: 1025"
       ]
      },
      {
       "output_type": "stream",
       "stream": "stdout",
       "text": [
        "\n",
        "  985/4818  Done Processing Problem Id: 1026"
       ]
      },
      {
       "output_type": "stream",
       "stream": "stdout",
       "text": [
        "\n",
        "  986/4818  Done Processing Problem Id: 1027"
       ]
      },
      {
       "output_type": "stream",
       "stream": "stdout",
       "text": [
        "\n",
        "  987/4818  Done Processing Problem Id: 1028"
       ]
      },
      {
       "output_type": "stream",
       "stream": "stdout",
       "text": [
        "\n",
        "  988/4818  Done Processing Problem Id: 1029"
       ]
      },
      {
       "output_type": "stream",
       "stream": "stdout",
       "text": [
        "\n",
        "  989/4818  Done Processing Problem Id: 1030"
       ]
      },
      {
       "output_type": "stream",
       "stream": "stdout",
       "text": [
        "\n",
        "  990/4818  Done Processing Problem Id: 1031"
       ]
      },
      {
       "output_type": "stream",
       "stream": "stdout",
       "text": [
        "\n",
        "  991/4818  Done Processing Problem Id: 1032"
       ]
      },
      {
       "output_type": "stream",
       "stream": "stdout",
       "text": [
        "\n",
        "  992/4818  Done Processing Problem Id: 1033"
       ]
      },
      {
       "output_type": "stream",
       "stream": "stdout",
       "text": [
        "\n",
        "  993/4818  Done Processing Problem Id: 1034"
       ]
      },
      {
       "output_type": "stream",
       "stream": "stdout",
       "text": [
        "\n",
        "  994/4818  Done Processing Problem Id: 1035"
       ]
      },
      {
       "output_type": "stream",
       "stream": "stdout",
       "text": [
        "\n",
        "  995/4818  Done Processing Problem Id: 1036"
       ]
      },
      {
       "output_type": "stream",
       "stream": "stdout",
       "text": [
        "\n",
        "  996/4818  Done Processing Problem Id: 1037"
       ]
      },
      {
       "output_type": "stream",
       "stream": "stdout",
       "text": [
        "\n",
        "  997/4818  Done Processing Problem Id: 1038"
       ]
      },
      {
       "output_type": "stream",
       "stream": "stdout",
       "text": [
        "\n",
        "  998/4818  Done Processing Problem Id: 1039"
       ]
      },
      {
       "output_type": "stream",
       "stream": "stdout",
       "text": [
        "\n",
        "  999/4818  Done Processing Problem Id: 1040"
       ]
      },
      {
       "output_type": "stream",
       "stream": "stdout",
       "text": [
        "\n",
        " 1000/4818  Done Processing Problem Id: 1041"
       ]
      },
      {
       "output_type": "stream",
       "stream": "stdout",
       "text": [
        "\n",
        " 1001/4818  Done Processing Problem Id: 1042"
       ]
      },
      {
       "output_type": "stream",
       "stream": "stdout",
       "text": [
        "\n",
        " 1002/4818  Done Processing Problem Id: 1043"
       ]
      },
      {
       "output_type": "stream",
       "stream": "stdout",
       "text": [
        "\n",
        " 1003/4818  Done Processing Problem Id: 1044"
       ]
      },
      {
       "output_type": "stream",
       "stream": "stdout",
       "text": [
        "\n",
        " 1004/4818  Done Processing Problem Id: 1045"
       ]
      },
      {
       "output_type": "stream",
       "stream": "stdout",
       "text": [
        "\n",
        " 1005/4818  Done Processing Problem Id: 1046"
       ]
      },
      {
       "output_type": "stream",
       "stream": "stdout",
       "text": [
        "\n",
        " 1006/4818  Done Processing Problem Id: 1047"
       ]
      },
      {
       "output_type": "stream",
       "stream": "stdout",
       "text": [
        "\n",
        " 1007/4818  Done Processing Problem Id: 1048"
       ]
      },
      {
       "output_type": "stream",
       "stream": "stdout",
       "text": [
        "\n",
        " 1008/4818  Done Processing Problem Id: 1049"
       ]
      },
      {
       "output_type": "stream",
       "stream": "stdout",
       "text": [
        "\n",
        " 1009/4818  Done Processing Problem Id: 1050"
       ]
      },
      {
       "output_type": "stream",
       "stream": "stdout",
       "text": [
        "\n",
        " 1010/4818  Done Processing Problem Id: 1051"
       ]
      },
      {
       "output_type": "stream",
       "stream": "stdout",
       "text": [
        "\n",
        " 1011/4818  Done Processing Problem Id: 1052"
       ]
      },
      {
       "output_type": "stream",
       "stream": "stdout",
       "text": [
        "\n",
        " 1012/4818  Done Processing Problem Id: 1053"
       ]
      },
      {
       "output_type": "stream",
       "stream": "stdout",
       "text": [
        "\n",
        " 1013/4818  Done Processing Problem Id: 1054"
       ]
      },
      {
       "output_type": "stream",
       "stream": "stdout",
       "text": [
        "\n",
        " 1014/4818  Done Processing Problem Id: 1055"
       ]
      },
      {
       "output_type": "stream",
       "stream": "stdout",
       "text": [
        "\n",
        " 1015/4818  Done Processing Problem Id: 1056"
       ]
      },
      {
       "output_type": "stream",
       "stream": "stdout",
       "text": [
        "\n",
        " 1016/4818  Done Processing Problem Id: 1057"
       ]
      },
      {
       "output_type": "stream",
       "stream": "stdout",
       "text": [
        "\n",
        " 1017/4818  Done Processing Problem Id: 1058"
       ]
      },
      {
       "output_type": "stream",
       "stream": "stdout",
       "text": [
        "\n",
        " 1018/4818  Done Processing Problem Id: 1059"
       ]
      },
      {
       "output_type": "stream",
       "stream": "stdout",
       "text": [
        "\n",
        " 1019/4818  Done Processing Problem Id: 1060"
       ]
      },
      {
       "output_type": "stream",
       "stream": "stdout",
       "text": [
        "\n",
        " 1020/4818  Done Processing Problem Id: 1061"
       ]
      },
      {
       "output_type": "stream",
       "stream": "stdout",
       "text": [
        "\n",
        " 1021/4818  Done Processing Problem Id: 1062"
       ]
      },
      {
       "output_type": "stream",
       "stream": "stdout",
       "text": [
        "\n",
        " 1022/4818  Done Processing Problem Id: 1063"
       ]
      },
      {
       "output_type": "stream",
       "stream": "stdout",
       "text": [
        "\n",
        " 1023/4818  Done Processing Problem Id: 1064"
       ]
      },
      {
       "output_type": "stream",
       "stream": "stdout",
       "text": [
        "\n",
        " 1024/4818  Done Processing Problem Id: 1065"
       ]
      },
      {
       "output_type": "stream",
       "stream": "stdout",
       "text": [
        "\n",
        " 1025/4818  Done Processing Problem Id: 1066"
       ]
      },
      {
       "output_type": "stream",
       "stream": "stdout",
       "text": [
        "\n",
        " 1026/4818  Done Processing Problem Id: 1067"
       ]
      },
      {
       "output_type": "stream",
       "stream": "stdout",
       "text": [
        "\n",
        " 1027/4818  Done Processing Problem Id: 1068"
       ]
      },
      {
       "output_type": "stream",
       "stream": "stdout",
       "text": [
        "\n",
        " 1028/4818  Done Processing Problem Id: 1069"
       ]
      },
      {
       "output_type": "stream",
       "stream": "stdout",
       "text": [
        "\n",
        " 1029/4818  Done Processing Problem Id: 1070"
       ]
      },
      {
       "output_type": "stream",
       "stream": "stdout",
       "text": [
        "\n",
        " 1030/4818  Done Processing Problem Id: 1071"
       ]
      },
      {
       "output_type": "stream",
       "stream": "stdout",
       "text": [
        "\n",
        " 1031/4818  Done Processing Problem Id: 1072"
       ]
      },
      {
       "output_type": "stream",
       "stream": "stdout",
       "text": [
        "\n",
        " 1032/4818  Done Processing Problem Id: 1073"
       ]
      },
      {
       "output_type": "stream",
       "stream": "stdout",
       "text": [
        "\n",
        " 1033/4818  Done Processing Problem Id: 1074"
       ]
      },
      {
       "output_type": "stream",
       "stream": "stdout",
       "text": [
        "\n",
        " 1034/4818  Done Processing Problem Id: 1075"
       ]
      },
      {
       "output_type": "stream",
       "stream": "stdout",
       "text": [
        "\n",
        " 1035/4818  Done Processing Problem Id: 1076"
       ]
      },
      {
       "output_type": "stream",
       "stream": "stdout",
       "text": [
        "\n",
        " 1036/4818  Done Processing Problem Id: 1077"
       ]
      },
      {
       "output_type": "stream",
       "stream": "stdout",
       "text": [
        "\n",
        " 1037/4818  Done Processing Problem Id: 1078"
       ]
      },
      {
       "output_type": "stream",
       "stream": "stdout",
       "text": [
        "\n",
        " 1038/4818  Done Processing Problem Id: 1079"
       ]
      },
      {
       "output_type": "stream",
       "stream": "stdout",
       "text": [
        "\n",
        " 1039/4818  Done Processing Problem Id: 1080"
       ]
      },
      {
       "output_type": "stream",
       "stream": "stdout",
       "text": [
        "\n",
        " 1040/4818  Done Processing Problem Id: 1081"
       ]
      },
      {
       "output_type": "stream",
       "stream": "stdout",
       "text": [
        "\n",
        " 1041/4818  Done Processing Problem Id: 1082"
       ]
      },
      {
       "output_type": "stream",
       "stream": "stdout",
       "text": [
        "\n",
        " 1042/4818  Done Processing Problem Id: 1083"
       ]
      },
      {
       "output_type": "stream",
       "stream": "stdout",
       "text": [
        "\n",
        " 1043/4818  Done Processing Problem Id: 1084"
       ]
      },
      {
       "output_type": "stream",
       "stream": "stdout",
       "text": [
        "\n",
        " 1044/4818  Done Processing Problem Id: 1085"
       ]
      },
      {
       "output_type": "stream",
       "stream": "stdout",
       "text": [
        "\n",
        " 1045/4818  Done Processing Problem Id: 1086"
       ]
      },
      {
       "output_type": "stream",
       "stream": "stdout",
       "text": [
        "\n",
        " 1046/4818  Done Processing Problem Id: 1087"
       ]
      },
      {
       "output_type": "stream",
       "stream": "stdout",
       "text": [
        "\n",
        " 1047/4818  Done Processing Problem Id: 1088"
       ]
      },
      {
       "output_type": "stream",
       "stream": "stdout",
       "text": [
        "\n",
        " 1048/4818  Done Processing Problem Id: 1089"
       ]
      },
      {
       "output_type": "stream",
       "stream": "stdout",
       "text": [
        "\n",
        " 1049/4818  Done Processing Problem Id: 1090"
       ]
      },
      {
       "output_type": "stream",
       "stream": "stdout",
       "text": [
        "\n",
        " 1050/4818  Done Processing Problem Id: 1091"
       ]
      },
      {
       "output_type": "stream",
       "stream": "stdout",
       "text": [
        "\n",
        " 1051/4818  Done Processing Problem Id: 1092"
       ]
      },
      {
       "output_type": "stream",
       "stream": "stdout",
       "text": [
        "\n",
        " 1052/4818  Done Processing Problem Id: 1093"
       ]
      },
      {
       "output_type": "stream",
       "stream": "stdout",
       "text": [
        "\n",
        " 1053/4818  Done Processing Problem Id: 1094"
       ]
      },
      {
       "output_type": "stream",
       "stream": "stdout",
       "text": [
        "\n",
        " 1054/4818  Done Processing Problem Id: 1095"
       ]
      },
      {
       "output_type": "stream",
       "stream": "stdout",
       "text": [
        "\n",
        " 1055/4818  Done Processing Problem Id: 1096"
       ]
      },
      {
       "output_type": "stream",
       "stream": "stdout",
       "text": [
        "\n",
        " 1056/4818  Done Processing Problem Id: 1097"
       ]
      },
      {
       "output_type": "stream",
       "stream": "stdout",
       "text": [
        "\n",
        " 1057/4818  Done Processing Problem Id: 1098"
       ]
      },
      {
       "output_type": "stream",
       "stream": "stdout",
       "text": [
        "\n",
        " 1058/4818  Done Processing Problem Id: 1099"
       ]
      },
      {
       "output_type": "stream",
       "stream": "stdout",
       "text": [
        "\n",
        " 1059/4818  Done Processing Problem Id: 1100"
       ]
      },
      {
       "output_type": "stream",
       "stream": "stdout",
       "text": [
        "\n",
        " 1060/4818  Done Processing Problem Id: 1101"
       ]
      },
      {
       "output_type": "stream",
       "stream": "stdout",
       "text": [
        "\n",
        " 1061/4818  Done Processing Problem Id: 1102"
       ]
      },
      {
       "output_type": "stream",
       "stream": "stdout",
       "text": [
        "\n",
        " 1062/4818  Done Processing Problem Id: 1103"
       ]
      },
      {
       "output_type": "stream",
       "stream": "stdout",
       "text": [
        "\n",
        " 1063/4818  Done Processing Problem Id: 1104"
       ]
      },
      {
       "output_type": "stream",
       "stream": "stdout",
       "text": [
        "\n",
        " 1064/4818  Done Processing Problem Id: 1105"
       ]
      },
      {
       "output_type": "stream",
       "stream": "stdout",
       "text": [
        "\n",
        " 1065/4818  Done Processing Problem Id: 1106"
       ]
      },
      {
       "output_type": "stream",
       "stream": "stdout",
       "text": [
        "\n",
        " 1066/4818  Done Processing Problem Id: 1107"
       ]
      },
      {
       "output_type": "stream",
       "stream": "stdout",
       "text": [
        "\n",
        " 1067/4818  Done Processing Problem Id: 1108"
       ]
      },
      {
       "output_type": "stream",
       "stream": "stdout",
       "text": [
        "\n",
        " 1068/4818  Done Processing Problem Id: 1109"
       ]
      },
      {
       "output_type": "stream",
       "stream": "stdout",
       "text": [
        "\n",
        " 1069/4818  Done Processing Problem Id: 1110"
       ]
      },
      {
       "output_type": "stream",
       "stream": "stdout",
       "text": [
        "\n",
        " 1070/4818  Done Processing Problem Id: 1111"
       ]
      },
      {
       "output_type": "stream",
       "stream": "stdout",
       "text": [
        "\n",
        " 1071/4818  Done Processing Problem Id: 1112"
       ]
      },
      {
       "output_type": "stream",
       "stream": "stdout",
       "text": [
        "\n",
        " 1072/4818  Done Processing Problem Id: 1113"
       ]
      },
      {
       "output_type": "stream",
       "stream": "stdout",
       "text": [
        "\n",
        " 1073/4818  Done Processing Problem Id: 1114"
       ]
      },
      {
       "output_type": "stream",
       "stream": "stdout",
       "text": [
        "\n",
        " 1074/4818  Done Processing Problem Id: 1115"
       ]
      },
      {
       "output_type": "stream",
       "stream": "stdout",
       "text": [
        "\n",
        " 1075/4818  Done Processing Problem Id: 1116"
       ]
      },
      {
       "output_type": "stream",
       "stream": "stdout",
       "text": [
        "\n",
        " 1076/4818  Done Processing Problem Id: 1117"
       ]
      },
      {
       "output_type": "stream",
       "stream": "stdout",
       "text": [
        "\n",
        " 1077/4818  Done Processing Problem Id: 1118"
       ]
      },
      {
       "output_type": "stream",
       "stream": "stdout",
       "text": [
        "\n",
        " 1078/4818  Done Processing Problem Id: 1119"
       ]
      },
      {
       "output_type": "stream",
       "stream": "stdout",
       "text": [
        "\n",
        " 1079/4818  Done Processing Problem Id: 1120"
       ]
      },
      {
       "output_type": "stream",
       "stream": "stdout",
       "text": [
        "\n",
        " 1080/4818  Done Processing Problem Id: 1121"
       ]
      },
      {
       "output_type": "stream",
       "stream": "stdout",
       "text": [
        "\n",
        " 1081/4818  Done Processing Problem Id: 1122"
       ]
      },
      {
       "output_type": "stream",
       "stream": "stdout",
       "text": [
        "\n",
        " 1082/4818  Done Processing Problem Id: 1123"
       ]
      },
      {
       "output_type": "stream",
       "stream": "stdout",
       "text": [
        "\n",
        " 1083/4818  Done Processing Problem Id: 1124"
       ]
      },
      {
       "output_type": "stream",
       "stream": "stdout",
       "text": [
        "\n",
        " 1084/4818  Done Processing Problem Id: 1125"
       ]
      },
      {
       "output_type": "stream",
       "stream": "stdout",
       "text": [
        "\n",
        " 1085/4818  Done Processing Problem Id: 1126"
       ]
      },
      {
       "output_type": "stream",
       "stream": "stdout",
       "text": [
        "\n",
        " 1086/4818  Done Processing Problem Id: 1127"
       ]
      },
      {
       "output_type": "stream",
       "stream": "stdout",
       "text": [
        "\n",
        " 1087/4818  Done Processing Problem Id: 1128"
       ]
      },
      {
       "output_type": "stream",
       "stream": "stdout",
       "text": [
        "\n",
        " 1088/4818  Done Processing Problem Id: 1129"
       ]
      },
      {
       "output_type": "stream",
       "stream": "stdout",
       "text": [
        "\n"
       ]
      },
      {
       "ename": "KeyboardInterrupt",
       "evalue": "",
       "output_type": "pyerr",
       "traceback": [
        "\u001b[0;31m---------------------------------------------------------------------------\u001b[0m\n\u001b[0;31mKeyboardInterrupt\u001b[0m                         Traceback (most recent call last)",
        "\u001b[0;32m<ipython-input-6-508a316eb1b3>\u001b[0m in \u001b[0;36m<module>\u001b[0;34m()\u001b[0m\n\u001b[1;32m     15\u001b[0m     \u001b[0;32melse\u001b[0m \u001b[0;34m:\u001b[0m\u001b[0;34m\u001b[0m\u001b[0m\n\u001b[1;32m     16\u001b[0m         \u001b[0msubAPI\u001b[0m \u001b[0;34m=\u001b[0m \u001b[0;34m\"http://uhunt.felix-halim.net/api/p/subs/{}/{}/{}\"\u001b[0m\u001b[0;34m.\u001b[0m\u001b[0mformat\u001b[0m\u001b[0;34m(\u001b[0m\u001b[0mproblemId\u001b[0m\u001b[0;34m,\u001b[0m \u001b[0mstart2016\u001b[0m\u001b[0;34m,\u001b[0m \u001b[0mend2016\u001b[0m\u001b[0;34m)\u001b[0m\u001b[0;34m\u001b[0m\u001b[0m\n\u001b[0;32m---> 17\u001b[0;31m         \u001b[0msub\u001b[0m \u001b[0;34m=\u001b[0m \u001b[0mrq\u001b[0m\u001b[0;34m.\u001b[0m\u001b[0mget\u001b[0m\u001b[0;34m(\u001b[0m\u001b[0msubAPI\u001b[0m\u001b[0;34m)\u001b[0m\u001b[0;34m.\u001b[0m\u001b[0mjson\u001b[0m\u001b[0;34m(\u001b[0m\u001b[0;34m)\u001b[0m\u001b[0;34m\u001b[0m\u001b[0m\n\u001b[0m\u001b[1;32m     18\u001b[0m         \u001b[0msubDF\u001b[0m \u001b[0;34m=\u001b[0m \u001b[0mpd\u001b[0m\u001b[0;34m.\u001b[0m\u001b[0mDataFrame\u001b[0m\u001b[0;34m.\u001b[0m\u001b[0mfrom_records\u001b[0m\u001b[0;34m(\u001b[0m\u001b[0msub\u001b[0m\u001b[0;34m)\u001b[0m\u001b[0;34m\u001b[0m\u001b[0m\n\u001b[1;32m     19\u001b[0m         \u001b[0msubDF\u001b[0m\u001b[0;34m.\u001b[0m\u001b[0mto_csv\u001b[0m\u001b[0;34m(\u001b[0m\u001b[0mfileName\u001b[0m\u001b[0;34m,\u001b[0m \u001b[0mindex\u001b[0m\u001b[0;34m=\u001b[0m\u001b[0;32mFalse\u001b[0m \u001b[0;34m)\u001b[0m\u001b[0;34m\u001b[0m\u001b[0m\n",
        "\u001b[0;32m/usr/lib/python3/dist-packages/requests/api.py\u001b[0m in \u001b[0;36mget\u001b[0;34m(url, params, **kwargs)\u001b[0m\n\u001b[1;32m     65\u001b[0m \u001b[0;34m\u001b[0m\u001b[0m\n\u001b[1;32m     66\u001b[0m     \u001b[0mkwargs\u001b[0m\u001b[0;34m.\u001b[0m\u001b[0msetdefault\u001b[0m\u001b[0;34m(\u001b[0m\u001b[0;34m'allow_redirects'\u001b[0m\u001b[0;34m,\u001b[0m \u001b[0;32mTrue\u001b[0m\u001b[0;34m)\u001b[0m\u001b[0;34m\u001b[0m\u001b[0m\n\u001b[0;32m---> 67\u001b[0;31m     \u001b[0;32mreturn\u001b[0m \u001b[0mrequest\u001b[0m\u001b[0;34m(\u001b[0m\u001b[0;34m'get'\u001b[0m\u001b[0;34m,\u001b[0m \u001b[0murl\u001b[0m\u001b[0;34m,\u001b[0m \u001b[0mparams\u001b[0m\u001b[0;34m=\u001b[0m\u001b[0mparams\u001b[0m\u001b[0;34m,\u001b[0m \u001b[0;34m**\u001b[0m\u001b[0mkwargs\u001b[0m\u001b[0;34m)\u001b[0m\u001b[0;34m\u001b[0m\u001b[0m\n\u001b[0m\u001b[1;32m     68\u001b[0m \u001b[0;34m\u001b[0m\u001b[0m\n\u001b[1;32m     69\u001b[0m \u001b[0;34m\u001b[0m\u001b[0m\n",
        "\u001b[0;32m/usr/lib/python3/dist-packages/requests/api.py\u001b[0m in \u001b[0;36mrequest\u001b[0;34m(method, url, **kwargs)\u001b[0m\n\u001b[1;32m     51\u001b[0m     \u001b[0;31m# cases, and look like a memory leak in others.\u001b[0m\u001b[0;34m\u001b[0m\u001b[0;34m\u001b[0m\u001b[0m\n\u001b[1;32m     52\u001b[0m     \u001b[0;32mwith\u001b[0m \u001b[0msessions\u001b[0m\u001b[0;34m.\u001b[0m\u001b[0mSession\u001b[0m\u001b[0;34m(\u001b[0m\u001b[0;34m)\u001b[0m \u001b[0;32mas\u001b[0m \u001b[0msession\u001b[0m\u001b[0;34m:\u001b[0m\u001b[0;34m\u001b[0m\u001b[0m\n\u001b[0;32m---> 53\u001b[0;31m         \u001b[0;32mreturn\u001b[0m \u001b[0msession\u001b[0m\u001b[0;34m.\u001b[0m\u001b[0mrequest\u001b[0m\u001b[0;34m(\u001b[0m\u001b[0mmethod\u001b[0m\u001b[0;34m=\u001b[0m\u001b[0mmethod\u001b[0m\u001b[0;34m,\u001b[0m \u001b[0murl\u001b[0m\u001b[0;34m=\u001b[0m\u001b[0murl\u001b[0m\u001b[0;34m,\u001b[0m \u001b[0;34m**\u001b[0m\u001b[0mkwargs\u001b[0m\u001b[0;34m)\u001b[0m\u001b[0;34m\u001b[0m\u001b[0m\n\u001b[0m\u001b[1;32m     54\u001b[0m \u001b[0;34m\u001b[0m\u001b[0m\n\u001b[1;32m     55\u001b[0m \u001b[0;34m\u001b[0m\u001b[0m\n",
        "\u001b[0;32m/usr/lib/python3/dist-packages/requests/sessions.py\u001b[0m in \u001b[0;36mrequest\u001b[0;34m(self, method, url, params, data, headers, cookies, files, auth, timeout, allow_redirects, proxies, hooks, stream, verify, cert, json)\u001b[0m\n\u001b[1;32m    466\u001b[0m         }\n\u001b[1;32m    467\u001b[0m         \u001b[0msend_kwargs\u001b[0m\u001b[0;34m.\u001b[0m\u001b[0mupdate\u001b[0m\u001b[0;34m(\u001b[0m\u001b[0msettings\u001b[0m\u001b[0;34m)\u001b[0m\u001b[0;34m\u001b[0m\u001b[0m\n\u001b[0;32m--> 468\u001b[0;31m         \u001b[0mresp\u001b[0m \u001b[0;34m=\u001b[0m \u001b[0mself\u001b[0m\u001b[0;34m.\u001b[0m\u001b[0msend\u001b[0m\u001b[0;34m(\u001b[0m\u001b[0mprep\u001b[0m\u001b[0;34m,\u001b[0m \u001b[0;34m**\u001b[0m\u001b[0msend_kwargs\u001b[0m\u001b[0;34m)\u001b[0m\u001b[0;34m\u001b[0m\u001b[0m\n\u001b[0m\u001b[1;32m    469\u001b[0m \u001b[0;34m\u001b[0m\u001b[0m\n\u001b[1;32m    470\u001b[0m         \u001b[0;32mreturn\u001b[0m \u001b[0mresp\u001b[0m\u001b[0;34m\u001b[0m\u001b[0m\n",
        "\u001b[0;32m/usr/lib/python3/dist-packages/requests/sessions.py\u001b[0m in \u001b[0;36msend\u001b[0;34m(self, request, **kwargs)\u001b[0m\n\u001b[1;32m    606\u001b[0m \u001b[0;34m\u001b[0m\u001b[0m\n\u001b[1;32m    607\u001b[0m         \u001b[0;32mif\u001b[0m \u001b[0;32mnot\u001b[0m \u001b[0mstream\u001b[0m\u001b[0;34m:\u001b[0m\u001b[0;34m\u001b[0m\u001b[0m\n\u001b[0;32m--> 608\u001b[0;31m             \u001b[0mr\u001b[0m\u001b[0;34m.\u001b[0m\u001b[0mcontent\u001b[0m\u001b[0;34m\u001b[0m\u001b[0m\n\u001b[0m\u001b[1;32m    609\u001b[0m \u001b[0;34m\u001b[0m\u001b[0m\n\u001b[1;32m    610\u001b[0m         \u001b[0;32mreturn\u001b[0m \u001b[0mr\u001b[0m\u001b[0;34m\u001b[0m\u001b[0m\n",
        "\u001b[0;32m/usr/lib/python3/dist-packages/requests/models.py\u001b[0m in \u001b[0;36mcontent\u001b[0;34m(self)\u001b[0m\n\u001b[1;32m    735\u001b[0m                     \u001b[0mself\u001b[0m\u001b[0;34m.\u001b[0m\u001b[0m_content\u001b[0m \u001b[0;34m=\u001b[0m \u001b[0;32mNone\u001b[0m\u001b[0;34m\u001b[0m\u001b[0m\n\u001b[1;32m    736\u001b[0m                 \u001b[0;32melse\u001b[0m\u001b[0;34m:\u001b[0m\u001b[0;34m\u001b[0m\u001b[0m\n\u001b[0;32m--> 737\u001b[0;31m                     \u001b[0mself\u001b[0m\u001b[0;34m.\u001b[0m\u001b[0m_content\u001b[0m \u001b[0;34m=\u001b[0m \u001b[0mbytes\u001b[0m\u001b[0;34m(\u001b[0m\u001b[0;34m)\u001b[0m\u001b[0;34m.\u001b[0m\u001b[0mjoin\u001b[0m\u001b[0;34m(\u001b[0m\u001b[0mself\u001b[0m\u001b[0;34m.\u001b[0m\u001b[0miter_content\u001b[0m\u001b[0;34m(\u001b[0m\u001b[0mCONTENT_CHUNK_SIZE\u001b[0m\u001b[0;34m)\u001b[0m\u001b[0;34m)\u001b[0m \u001b[0;32mor\u001b[0m \u001b[0mbytes\u001b[0m\u001b[0;34m(\u001b[0m\u001b[0;34m)\u001b[0m\u001b[0;34m\u001b[0m\u001b[0m\n\u001b[0m\u001b[1;32m    738\u001b[0m \u001b[0;34m\u001b[0m\u001b[0m\n\u001b[1;32m    739\u001b[0m             \u001b[0;32mexcept\u001b[0m \u001b[0mAttributeError\u001b[0m\u001b[0;34m:\u001b[0m\u001b[0;34m\u001b[0m\u001b[0m\n",
        "\u001b[0;32m/usr/lib/python3/dist-packages/requests/models.py\u001b[0m in \u001b[0;36mgenerate\u001b[0;34m()\u001b[0m\n\u001b[1;32m    658\u001b[0m             \u001b[0;32mif\u001b[0m \u001b[0mhasattr\u001b[0m\u001b[0;34m(\u001b[0m\u001b[0mself\u001b[0m\u001b[0;34m.\u001b[0m\u001b[0mraw\u001b[0m\u001b[0;34m,\u001b[0m \u001b[0;34m'stream'\u001b[0m\u001b[0;34m)\u001b[0m\u001b[0;34m:\u001b[0m\u001b[0;34m\u001b[0m\u001b[0m\n\u001b[1;32m    659\u001b[0m                 \u001b[0;32mtry\u001b[0m\u001b[0;34m:\u001b[0m\u001b[0;34m\u001b[0m\u001b[0m\n\u001b[0;32m--> 660\u001b[0;31m                     \u001b[0;32mfor\u001b[0m \u001b[0mchunk\u001b[0m \u001b[0;32min\u001b[0m \u001b[0mself\u001b[0m\u001b[0;34m.\u001b[0m\u001b[0mraw\u001b[0m\u001b[0;34m.\u001b[0m\u001b[0mstream\u001b[0m\u001b[0;34m(\u001b[0m\u001b[0mchunk_size\u001b[0m\u001b[0;34m,\u001b[0m \u001b[0mdecode_content\u001b[0m\u001b[0;34m=\u001b[0m\u001b[0;32mTrue\u001b[0m\u001b[0;34m)\u001b[0m\u001b[0;34m:\u001b[0m\u001b[0;34m\u001b[0m\u001b[0m\n\u001b[0m\u001b[1;32m    661\u001b[0m                         \u001b[0;32myield\u001b[0m \u001b[0mchunk\u001b[0m\u001b[0;34m\u001b[0m\u001b[0m\n\u001b[1;32m    662\u001b[0m                 \u001b[0;32mexcept\u001b[0m \u001b[0mProtocolError\u001b[0m \u001b[0;32mas\u001b[0m \u001b[0me\u001b[0m\u001b[0;34m:\u001b[0m\u001b[0;34m\u001b[0m\u001b[0m\n",
        "\u001b[0;32m/usr/lib/python3/dist-packages/urllib3/response.py\u001b[0m in \u001b[0;36mstream\u001b[0;34m(self, amt, decode_content)\u001b[0m\n\u001b[1;32m    338\u001b[0m         \"\"\"\n\u001b[1;32m    339\u001b[0m         \u001b[0;32mif\u001b[0m \u001b[0mself\u001b[0m\u001b[0;34m.\u001b[0m\u001b[0mchunked\u001b[0m\u001b[0;34m:\u001b[0m\u001b[0;34m\u001b[0m\u001b[0m\n\u001b[0;32m--> 340\u001b[0;31m             \u001b[0;32mfor\u001b[0m \u001b[0mline\u001b[0m \u001b[0;32min\u001b[0m \u001b[0mself\u001b[0m\u001b[0;34m.\u001b[0m\u001b[0mread_chunked\u001b[0m\u001b[0;34m(\u001b[0m\u001b[0mamt\u001b[0m\u001b[0;34m,\u001b[0m \u001b[0mdecode_content\u001b[0m\u001b[0;34m=\u001b[0m\u001b[0mdecode_content\u001b[0m\u001b[0;34m)\u001b[0m\u001b[0;34m:\u001b[0m\u001b[0;34m\u001b[0m\u001b[0m\n\u001b[0m\u001b[1;32m    341\u001b[0m                 \u001b[0;32myield\u001b[0m \u001b[0mline\u001b[0m\u001b[0;34m\u001b[0m\u001b[0m\n\u001b[1;32m    342\u001b[0m         \u001b[0;32melse\u001b[0m\u001b[0;34m:\u001b[0m\u001b[0;34m\u001b[0m\u001b[0m\n",
        "\u001b[0;32m/usr/lib/python3/dist-packages/urllib3/response.py\u001b[0m in \u001b[0;36mread_chunked\u001b[0;34m(self, amt, decode_content)\u001b[0m\n\u001b[1;32m    487\u001b[0m                 \u001b[0;32mif\u001b[0m \u001b[0mself\u001b[0m\u001b[0;34m.\u001b[0m\u001b[0mchunk_left\u001b[0m \u001b[0;34m==\u001b[0m \u001b[0;36m0\u001b[0m\u001b[0;34m:\u001b[0m\u001b[0;34m\u001b[0m\u001b[0m\n\u001b[1;32m    488\u001b[0m                     \u001b[0;32mbreak\u001b[0m\u001b[0;34m\u001b[0m\u001b[0m\n\u001b[0;32m--> 489\u001b[0;31m                 \u001b[0mchunk\u001b[0m \u001b[0;34m=\u001b[0m \u001b[0mself\u001b[0m\u001b[0;34m.\u001b[0m\u001b[0m_handle_chunk\u001b[0m\u001b[0;34m(\u001b[0m\u001b[0mamt\u001b[0m\u001b[0;34m)\u001b[0m\u001b[0;34m\u001b[0m\u001b[0m\n\u001b[0m\u001b[1;32m    490\u001b[0m                 decoded = self._decode(chunk, decode_content=decode_content,\n\u001b[1;32m    491\u001b[0m                                        flush_decoder=False)\n",
        "\u001b[0;32m/usr/lib/python3/dist-packages/urllib3/response.py\u001b[0m in \u001b[0;36m_handle_chunk\u001b[0;34m(self, amt)\u001b[0m\n\u001b[1;32m    447\u001b[0m             \u001b[0mself\u001b[0m\u001b[0;34m.\u001b[0m\u001b[0mchunk_left\u001b[0m \u001b[0;34m=\u001b[0m \u001b[0;32mNone\u001b[0m\u001b[0;34m\u001b[0m\u001b[0m\n\u001b[1;32m    448\u001b[0m         \u001b[0;32melif\u001b[0m \u001b[0mamt\u001b[0m \u001b[0;34m<\u001b[0m \u001b[0mself\u001b[0m\u001b[0;34m.\u001b[0m\u001b[0mchunk_left\u001b[0m\u001b[0;34m:\u001b[0m\u001b[0;34m\u001b[0m\u001b[0m\n\u001b[0;32m--> 449\u001b[0;31m             \u001b[0mvalue\u001b[0m \u001b[0;34m=\u001b[0m \u001b[0mself\u001b[0m\u001b[0;34m.\u001b[0m\u001b[0m_fp\u001b[0m\u001b[0;34m.\u001b[0m\u001b[0m_safe_read\u001b[0m\u001b[0;34m(\u001b[0m\u001b[0mamt\u001b[0m\u001b[0;34m)\u001b[0m\u001b[0;34m\u001b[0m\u001b[0m\n\u001b[0m\u001b[1;32m    450\u001b[0m             \u001b[0mself\u001b[0m\u001b[0;34m.\u001b[0m\u001b[0mchunk_left\u001b[0m \u001b[0;34m=\u001b[0m \u001b[0mself\u001b[0m\u001b[0;34m.\u001b[0m\u001b[0mchunk_left\u001b[0m \u001b[0;34m-\u001b[0m \u001b[0mamt\u001b[0m\u001b[0;34m\u001b[0m\u001b[0m\n\u001b[1;32m    451\u001b[0m             \u001b[0mreturned_chunk\u001b[0m \u001b[0;34m=\u001b[0m \u001b[0mvalue\u001b[0m\u001b[0;34m\u001b[0m\u001b[0m\n",
        "\u001b[0;32m/usr/lib/python3.5/http/client.py\u001b[0m in \u001b[0;36m_safe_read\u001b[0;34m(self, amt)\u001b[0m\n\u001b[1;32m    605\u001b[0m         \u001b[0ms\u001b[0m \u001b[0;34m=\u001b[0m \u001b[0;34m[\u001b[0m\u001b[0;34m]\u001b[0m\u001b[0;34m\u001b[0m\u001b[0m\n\u001b[1;32m    606\u001b[0m         \u001b[0;32mwhile\u001b[0m \u001b[0mamt\u001b[0m \u001b[0;34m>\u001b[0m \u001b[0;36m0\u001b[0m\u001b[0;34m:\u001b[0m\u001b[0;34m\u001b[0m\u001b[0m\n\u001b[0;32m--> 607\u001b[0;31m             \u001b[0mchunk\u001b[0m \u001b[0;34m=\u001b[0m \u001b[0mself\u001b[0m\u001b[0;34m.\u001b[0m\u001b[0mfp\u001b[0m\u001b[0;34m.\u001b[0m\u001b[0mread\u001b[0m\u001b[0;34m(\u001b[0m\u001b[0mmin\u001b[0m\u001b[0;34m(\u001b[0m\u001b[0mamt\u001b[0m\u001b[0;34m,\u001b[0m \u001b[0mMAXAMOUNT\u001b[0m\u001b[0;34m)\u001b[0m\u001b[0;34m)\u001b[0m\u001b[0;34m\u001b[0m\u001b[0m\n\u001b[0m\u001b[1;32m    608\u001b[0m             \u001b[0;32mif\u001b[0m \u001b[0;32mnot\u001b[0m \u001b[0mchunk\u001b[0m\u001b[0;34m:\u001b[0m\u001b[0;34m\u001b[0m\u001b[0m\n\u001b[1;32m    609\u001b[0m                 \u001b[0;32mraise\u001b[0m \u001b[0mIncompleteRead\u001b[0m\u001b[0;34m(\u001b[0m\u001b[0;34mb''\u001b[0m\u001b[0;34m.\u001b[0m\u001b[0mjoin\u001b[0m\u001b[0;34m(\u001b[0m\u001b[0ms\u001b[0m\u001b[0;34m)\u001b[0m\u001b[0;34m,\u001b[0m \u001b[0mamt\u001b[0m\u001b[0;34m)\u001b[0m\u001b[0;34m\u001b[0m\u001b[0m\n",
        "\u001b[0;32m/usr/lib/python3.5/socket.py\u001b[0m in \u001b[0;36mreadinto\u001b[0;34m(self, b)\u001b[0m\n\u001b[1;32m    573\u001b[0m         \u001b[0;32mwhile\u001b[0m \u001b[0;32mTrue\u001b[0m\u001b[0;34m:\u001b[0m\u001b[0;34m\u001b[0m\u001b[0m\n\u001b[1;32m    574\u001b[0m             \u001b[0;32mtry\u001b[0m\u001b[0;34m:\u001b[0m\u001b[0;34m\u001b[0m\u001b[0m\n\u001b[0;32m--> 575\u001b[0;31m                 \u001b[0;32mreturn\u001b[0m \u001b[0mself\u001b[0m\u001b[0;34m.\u001b[0m\u001b[0m_sock\u001b[0m\u001b[0;34m.\u001b[0m\u001b[0mrecv_into\u001b[0m\u001b[0;34m(\u001b[0m\u001b[0mb\u001b[0m\u001b[0;34m)\u001b[0m\u001b[0;34m\u001b[0m\u001b[0m\n\u001b[0m\u001b[1;32m    576\u001b[0m             \u001b[0;32mexcept\u001b[0m \u001b[0mtimeout\u001b[0m\u001b[0;34m:\u001b[0m\u001b[0;34m\u001b[0m\u001b[0m\n\u001b[1;32m    577\u001b[0m                 \u001b[0mself\u001b[0m\u001b[0;34m.\u001b[0m\u001b[0m_timeout_occurred\u001b[0m \u001b[0;34m=\u001b[0m \u001b[0;32mTrue\u001b[0m\u001b[0;34m\u001b[0m\u001b[0m\n",
        "\u001b[0;31mKeyboardInterrupt\u001b[0m: "
       ]
      }
     ],
     "prompt_number": 6
    },
    {
     "cell_type": "code",
     "collapsed": false,
     "input": [],
     "language": "python",
     "metadata": {},
     "outputs": []
    }
   ],
   "metadata": {}
  }
 ]
}