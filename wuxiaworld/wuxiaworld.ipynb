{
 "metadata": {
  "name": "",
  "signature": "sha256:bd23495dc9000410652ca09fac94d655889c364c49a6f63aacb64f6037d34aa5"
 },
 "nbformat": 3,
 "nbformat_minor": 0,
 "worksheets": [
  {
   "cells": [
    {
     "cell_type": "markdown",
     "metadata": {},
     "source": [
      "# Wuxiaworld Web Scrapper - Turn Translated Chinese Novel to PDF\n",
      "\n",
      "I tend to read lots of translated chinese novel from this site. But it requires internet connection, as each chapter is a HTML page. I want to scrap the chapters from the website and convert to pdf, so that I can read them offline\n",
      "\n",
      "## How am I going to do it?\n",
      "\n",
      "I am planning to use 'requests' and 'beautifulsoup4' to write a python webscrapper"
     ]
    },
    {
     "cell_type": "code",
     "collapsed": false,
     "input": [
      "import requests as rq # To get html of webpage as string\n",
      "from bs4 import BeautifulSoup as bs # To parse HTML string into a DOM\n",
      "from IPython.core.display import display, HTML # For pretty HTML output in ipython\n",
      "from urllib.parse import urlparse, urljoin # For easy parsing of url\n",
      "import subprocess\n",
      "import pdfkit"
     ],
     "language": "python",
     "metadata": {},
     "outputs": [],
     "prompt_number": 31
    },
    {
     "cell_type": "code",
     "collapsed": false,
     "input": [
      "weburl = \"http://www.wuxiaworld.com/\" # Url of the website I am going to scrap\n",
      "r = rq.get(weburl)\n",
      "display ( r.status_code, r.encoding, r.url )"
     ],
     "language": "python",
     "metadata": {},
     "outputs": [
      {
       "metadata": {},
       "output_type": "display_data",
       "text": [
        "200"
       ]
      },
      {
       "metadata": {},
       "output_type": "display_data",
       "text": [
        "'UTF-8'"
       ]
      },
      {
       "metadata": {},
       "output_type": "display_data",
       "text": [
        "'http://www.wuxiaworld.com/'"
       ]
      }
     ],
     "prompt_number": 9
    },
    {
     "cell_type": "code",
     "collapsed": false,
     "input": [
      "soup = bs(r.text, \"lxml\")\n",
      "title = soup.title\n",
      "display ( title.text )"
     ],
     "language": "python",
     "metadata": {},
     "outputs": [
      {
       "metadata": {},
       "output_type": "display_data",
       "text": [
        "'Wuxiaworld \u2013 Chinese fantasy novels and light novels!'"
       ]
      }
     ],
     "prompt_number": 4
    },
    {
     "cell_type": "code",
     "collapsed": false,
     "input": [
      "# Grab all links in navbar and remove anchor links\n",
      "aLink = [ ( link.attrs[\"href\"], link.text ) for link in soup.select('nav a') if link.attrs[\"href\"].startswith(\"#\") == False]\n",
      "\n",
      "# Links towards the end are not related to chinese novels, so slice them up\n",
      "novelList = [ ( urlparse(link).path, name ) for ( link, name ) in aLink ][1:-15]\n",
      "\n",
      "display ( list ( enumerate ( novelList ) ) )"
     ],
     "language": "python",
     "metadata": {},
     "outputs": [
      {
       "metadata": {},
       "output_type": "display_data",
       "text": [
        "[(0, ('/7-killers/', '7 Killers (\u4e03\u6740\u624b)')),\n",
        " (1, ('/col-index/', 'Child of Light (\u5149\u4e4b\u5b50)')),\n",
        " (2, ('/cdindex-html/', 'Coiling Dragon (\u76d8\u9f99)')),\n",
        " (3, ('/dkwss/', 'Dragon King With Seven Stars (\u4e03\u661f\u9f99\u738b)')),\n",
        " (4, ('/hsnt-index/', 'Heroes Shed No Tears (\u82f1\u96c4\u4e0d\u6d41\u6cea)')),\n",
        " (5, ('/tymyd-index/', 'Horizon, Bright Moon, Sabre (\u5929\u6daf\u660e\u6708\u5200)')),\n",
        " (6, ('/st-index/', 'Stellar Transformations (\u661f\u8fb0\u53d8)')),\n",
        " (7, ('/absolute-choice-index/', 'Absolute Choice (\u7edd\u5bf9\u9009\u9879)')),\n",
        " (8, ('/atg-index/', 'Against the Gods (\u9006\u5929\u90aa\u795e)')),\n",
        " (9, ('/awe-index/', 'A Will Eternal (\u4e00\u5ff5\u6c38\u6052)')),\n",
        " (10, ('/btth-index/', 'Battle Through the Heavens (\u6597\u7834\u82cd\u7a79)')),\n",
        " (11, ('/desolate-era-index/', 'Desolate Era (\u83bd\u8352\u7eaa)')),\n",
        " (12, ('/emperor-index/', 'Emperor\u2019s Domination (\u5e1d\u9738)')),\n",
        " (13, ('/gor-index/', 'Gate of Revelation (\u5929\u542f\u4e4b\u95e8)')),\n",
        " (14, ('/hjc-index/', 'Heavenly Jewel Change (\u5929\u73e0\u53d8)')),\n",
        " (15, ('/issth-index/', 'I Shall Seal the Heavens (\u6211\u6b32\u5c01\u5929)')),\n",
        " (16, ('/ldk-index/', 'Legend of the Dragon King (\u9f99\u738b\u4f20\u8bf4)')),\n",
        " (17, ('/mga-index/', 'Martial God Asura (\u4fee\u7f57\u6b66\u795e)')),\n",
        " (18, ('/pw-index/', 'Perfect World (\u5b8c\u7f8e\u4e16\u754c)')),\n",
        " (19, ('/rebirth-index/', 'Rebirth of the Thief')),\n",
        " (20, ('/renegade-index/', 'Renegade Immortal (\u4ed9\u9006)')),\n",
        " (21, ('/sfl-index/', 'Skyfire Avenue (\u5929\u706b\u5927\u9053)')),\n",
        " (22, ('/sotr-index/', 'Sovereign of the Three Realms (\u4e09\u754c\u72ec\u5c0a)')),\n",
        " (23, ('/sr-index/', 'Spirit Realm (\u7075\u57df)')),\n",
        " (24, ('/tdg-index/', 'Tales of Demons & Gods (\u5996\u795e\u8bb0)')),\n",
        " (25, ('/ti-index/', 'Terror Infinity (\u65e0\u9650\u6050\u6016)')),\n",
        " (26, ('/tgr-index/', 'The Great Ruler (\u5927\u4e3b\u5bb0)')),\n",
        " (27, ('/usaw-index/', 'Upgrade Specialist in Another World')),\n",
        " (28, ('/wmw-index/', 'Warlock of the Magus World (\u5deb\u754c\u672f\u58eb)')),\n",
        " (29, ('/wdqk-index/', 'Wu Dong Qian Kun (\u6b66\u52a8\u4e7e\u5764)'))]"
       ]
      }
     ],
     "prompt_number": 6
    },
    {
     "cell_type": "markdown",
     "metadata": {},
     "source": [
      "Now that we have a novelList, let's try to process just one of the novel. If we can scrap one novel, we can scrap them all.\n",
      "\n",
      "## Scraping A Single Novel\n",
      "\n",
      "Each novel will have a seperate folder, with folders having name in `<url-nick>-<name>` format.\n",
      "\n",
      "Inside the folder, we will have a info.html file that will have it's info page in it.\n",
      "\n",
      "Next we will have a file info.clean.html, that will have the same page, but with unnecessary tags removed, like comments and ads.\n"
     ]
    },
    {
     "cell_type": "code",
     "collapsed": false,
     "input": [
      "novelUrl, novelName = novelList[0]\n",
      "\n",
      "novelUrl = urljoin(url,novelUrl)\n",
      "\n",
      "print(novelUrl)\n",
      "\n",
      "novelrq = rq.get(novelUrl)\n",
      "novelSoup = bs(novelrq.text, \"lxml\")"
     ],
     "language": "python",
     "metadata": {},
     "outputs": [
      {
       "output_type": "stream",
       "stream": "stdout",
       "text": [
        "http://www.wuxiaworld.com/7-killers/\n"
       ]
      }
     ],
     "prompt_number": 33
    },
    {
     "cell_type": "code",
     "collapsed": false,
     "input": [
      "def toHTML(tag):\n",
      "    return '<meta charset=\"utf-8\"/>\\n{}'.format( tag.prettify() )"
     ],
     "language": "python",
     "metadata": {},
     "outputs": [],
     "prompt_number": 63
    },
    {
     "cell_type": "code",
     "collapsed": false,
     "input": [
      "article = novelSoup.find('article')\n",
      "\n",
      "articleHTML = toHTML(article)\n",
      "\n",
      "f = open(\"out.html\",\"w\")\n",
      "f.write(articleHTML)\n",
      "f.close()\n",
      "pdfkit.from_string(articleHTML,\"out.pdf\")\n",
      "\n",
      "print ( articleHTML )"
     ],
     "language": "python",
     "metadata": {},
     "outputs": [
      {
       "output_type": "stream",
       "stream": "stdout",
       "text": [
        "Loading page (1/2)\n",
        "[>                                                           ] 0%\r",
        "[======>                                                     ] 10%\r",
        "[==============================>                             ] 50%\r",
        "[============================================================] 100%\r",
        "Printing pages (2/2)                                               \n",
        "[>                                                           ] \r",
        "Done                                                           \n",
        "<meta charset=\"utf-8\"/>\n",
        "<article class=\"post-11480 page type-page status-publish hentry\" id=\"post-11480\">\n",
        " <header class=\"entry-header\">\n",
        "  <h1 class=\"entry-title\">\n",
        "   7 Killers \u2013 Index\n",
        "  </h1>\n",
        " </header>\n",
        " <div class=\"entry-content\">\n",
        "  <div itemscope=\"\" itemtype=\"http://schema.org/Article\">\n",
        "   <span itemprop=\"publisher\" itemscope=\"\" itemtype=\"http://schema.org/Organization\">\n",
        "    <meta content=\"Wuxiaworld\" itemprop=\"name\"/>\n",
        "    <meta content=\"Fantasy novels and light novels, some original, some translated from Chinese. Themes of heroism, of valor, of ascending to Immortality, of combat, of magic, of Eastern mythology and legends. Updated with awesome new content daily.\" itemprop=\"description\"/>\n",
        "    <meta content=\"http://www.wuxiaworld.com/\" itemprop=\"url\"/>\n",
        "   </span>\n",
        "   <span itemprop=\"author\" itemscope=\"\" itemtype=\"http://schema.org/Person\">\n",
        "    <meta content=\"RWX\" itemprop=\"name\"/>\n",
        "    <span itemprop=\"image\" itemscope=\"\" itemtype=\"http://schema.org/ImageObject\">\n",
        "     <meta content=\"http://www.wuxiaworld.com/wp-content/uploads/2015/05/0742242hR1.jpg\" itemprop=\"url\"/>\n",
        "     <meta content=\"http://www.wuxiaworld.com/wp-content/uploads/2015/05/0742242hR1.jpg\" itemprop=\"contentUrl\"/>\n",
        "     <meta content=\"128\" itemprop=\"width\"/>\n",
        "     <meta content=\"128\" itemprop=\"height\"/>\n",
        "     <meta content=\"image/jpeg\" itemprop=\"encodingFormat\"/>\n",
        "    </span>\n",
        "    <meta content=\"http://www.wuxiaworld.com/author/jingpinglaigmail-com/\" itemprop=\"url\"/>\n",
        "   </span>\n",
        "   <meta content=\"http://www.wuxiaworld.com/7-killers/\" itemprop=\"url\"/>\n",
        "   <meta content=\"http://www.wuxiaworld.com/7-killers/\" itemprop=\"mainEntityOfPage\"/>\n",
        "   <meta content=\"2015-05-21T21:23:12+00:00\" itemprop=\"datePublished\"/>\n",
        "   <meta content=\"2015-05-26T01:35:17+00:00\" itemprop=\"dateModified\"/>\n",
        "   <meta content=\"2015\" itemprop=\"copyrightYear\"/>\n",
        "   <meta content=\"en_US\" itemprop=\"inLanguage\"/>\n",
        "   <meta content=\"7 Killers \u2013 Index\" itemprop=\"name\"/>\n",
        "   <meta content=\"7 Killers \u2013 Index\" itemprop=\"headline\"/>\n",
        "   <meta content=\"7 Killers Index Dragon 5th is a powerful lord with incredible martial arts, and yet is wasting away from a fatal disease. The only medicine which can cure his sickness lies in the clutches of his venemous ex-wife, Madam Lovesickness, and is guarded by 7 dangerous killers, fugitives of the martial wo...\" itemprop=\"description\"/>\n",
        "   <div itemprop=\"articleBody\">\n",
        "    <p>\n",
        "     <strong>\n",
        "      7 Killers Index\n",
        "     </strong>\n",
        "    </p>\n",
        "    <p>\n",
        "     Dragon 5th is a powerful lord with incredible martial arts, and yet is wasting away from a fatal disease. The only medicine which can cure his sickness lies in the clutches of his venemous ex-wife, Madam Lovesickness, and is guarded by 7 dangerous killers, fugitives of the martial world. To retrieve the antidote, Dragon 5th hires Liu Changjie, a skilled martial artist who loves drinking and women, but has a mysterious past. All is not what it seems in this wuxia heist story. Translated by deathblade.\n",
        "    </p>\n",
        "    <p>\n",
        "     <a href=\"http://www.wuxiaworld.com/master-index/7-killers-chapter-1/\" title=\"7 Killers \u2013 Chapter 1\">\n",
        "      Chapter 1 \u2013 A Meeting of Legends\n",
        "     </a>\n",
        "     <br/>\n",
        "     <a href=\"http://www.wuxiaworld.com/master-index/7-killers-chapter-2/\" title=\"7 Killers \u2013 Chapter 2\">\n",
        "      Chapter 2 \u2013 Injury of a Self-Inflicted Nature\n",
        "     </a>\n",
        "     <br/>\n",
        "     <a href=\"http://www.wuxiaworld.com/master-index/7-killers-chapter-3/\" title=\"7 Killers \u2013 Chapter 3\">\n",
        "      Chapter 3 \u2013 Yue\u2019Er Shining on Changjie\n",
        "     </a>\n",
        "     <br/>\n",
        "     <a href=\"http://www.wuxiaworld.com/master-index/7-killers-chapter-4/\" title=\"7 Killers \u2013 Chapter 4\">\n",
        "      Chapter 4 \u2013 Inhuman People\n",
        "     </a>\n",
        "     <br/>\n",
        "     <a href=\"http://www.wuxiaworld.com/master-index/7-killers-chapter-5/\" title=\"7 Killers \u2013 Chapter 5\">\n",
        "      Chapter 5 \u2013 Lovesickness Will Make You Old\n",
        "     </a>\n",
        "     <br/>\n",
        "     <a href=\"http://www.wuxiaworld.com/master-index/7-killers-chapter-6/\" title=\"7 Killers \u2013 Chapter 6\">\n",
        "      Chapter 6 \u2013 A Dragon Amongst Men\n",
        "     </a>\n",
        "     <br/>\n",
        "     <a href=\"http://www.wuxiaworld.com/master-index/7-killers-chapter-7/\" title=\"7 Killers \u2013 Chapter 7\">\n",
        "      Chapter 7 \u2013 Capturing the Dragon Empty Handed\n",
        "     </a>\n",
        "     <br/>\n",
        "     <a href=\"http://www.wuxiaworld.com/master-index/7-killers-chapter-8/\" title=\"7 Killers \u2013 Chapter 8\">\n",
        "      Chapter 8 \u2013 Heaven\u2019s Net Is Wide Meshed, Nothing Escapes It\n",
        "     </a>\n",
        "    </p>\n",
        "   </div>\n",
        "  </div>\n",
        " </div>\n",
        " <footer class=\"entry-footer\">\n",
        " </footer>\n",
        "</article>\n",
        "\n"
       ]
      }
     ],
     "prompt_number": 66
    },
    {
     "cell_type": "code",
     "collapsed": false,
     "input": [],
     "language": "python",
     "metadata": {},
     "outputs": []
    }
   ],
   "metadata": {}
  }
 ]
}